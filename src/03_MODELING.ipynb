{
 "cells": [
  {
   "cell_type": "markdown",
   "metadata": {},
   "source": [
    "In the final section we will attempt to model the `makes_prediction` variable using the features we devised earlier. This section will comprise:\n",
    "1. data preprocessing for modelling purposes\n",
    "1. modelling\n",
    "1. model evaluation\n",
    "\n",
    "We'll conclude with potential next steps to take the analysis futher."
   ]
  },
  {
   "cell_type": "markdown",
   "metadata": {},
   "source": [
    "## Imports"
   ]
  },
  {
   "cell_type": "code",
   "execution_count": 1,
   "metadata": {},
   "outputs": [],
   "source": [
    "%load_ext autoreload\n",
    "%autoreload 2\n",
    "\n",
    "from matplotlib import pyplot as plt\n",
    "import numpy as np\n",
    "from numpy import ndarray\n",
    "import pandas as pd\n",
    "from pandas import DataFrame\n",
    "import seaborn as sns\n",
    "\n",
    "# data science utilities:\n",
    "from sklearn import preprocessing\n",
    "from sklearn.inspection import permutation_importance\n",
    "from sklearn.metrics import f1_score, confusion_matrix\n",
    "from sklearn.model_selection import KFold, GridSearchCV, cross_val_score, train_test_split\n",
    "from sklearn.utils import resample\n",
    "from imblearn.over_sampling import SMOTE\n",
    "\n",
    "# models:\n",
    "from sklearn.tree import DecisionTreeClassifier\n",
    "from sklearn.naive_bayes import GaussianNB\n",
    "from sklearn.ensemble import RandomForestClassifier\n",
    "from sklearn.linear_model import LogisticRegression\n",
    "import xgboost as xgb\n",
    "\n",
    "from utilities import df_utils\n",
    "\n",
    "RANDOM_STATE = 5"
   ]
  },
  {
   "cell_type": "markdown",
   "metadata": {},
   "source": [
    "## Data preprocessing"
   ]
  },
  {
   "cell_type": "markdown",
   "metadata": {},
   "source": [
    "We pick up where we left off in the feature engineering section: by importing the prepared features:"
   ]
  },
  {
   "cell_type": "code",
   "execution_count": 2,
   "metadata": {},
   "outputs": [
    {
     "data": {
      "text/plain": [
       "(16599, 13)"
      ]
     },
     "metadata": {},
     "output_type": "display_data"
    },
    {
     "data": {
      "text/plain": [
       "Index(['customer_id', 'makes_purchase', 'last_transaction_date', 'recency',\n",
       "       'recency_score', 'frequency', 'frequency_score', 'total_revenue',\n",
       "       'total_revenue_score', 'rfm_score', 'rfm_segment', 'billing_zip_stem',\n",
       "       'segment'],\n",
       "      dtype='object')"
      ]
     },
     "metadata": {},
     "output_type": "display_data"
    },
    {
     "data": {
      "text/html": [
       "<div>\n",
       "<style scoped>\n",
       "    .dataframe tbody tr th:only-of-type {\n",
       "        vertical-align: middle;\n",
       "    }\n",
       "\n",
       "    .dataframe tbody tr th {\n",
       "        vertical-align: top;\n",
       "    }\n",
       "\n",
       "    .dataframe thead th {\n",
       "        text-align: right;\n",
       "    }\n",
       "</style>\n",
       "<table border=\"1\" class=\"dataframe\">\n",
       "  <thead>\n",
       "    <tr style=\"text-align: right;\">\n",
       "      <th></th>\n",
       "      <th>customer_id</th>\n",
       "      <th>makes_purchase</th>\n",
       "      <th>last_transaction_date</th>\n",
       "      <th>recency</th>\n",
       "      <th>recency_score</th>\n",
       "      <th>frequency</th>\n",
       "      <th>frequency_score</th>\n",
       "      <th>total_revenue</th>\n",
       "      <th>total_revenue_score</th>\n",
       "      <th>rfm_score</th>\n",
       "      <th>rfm_segment</th>\n",
       "      <th>billing_zip_stem</th>\n",
       "      <th>segment</th>\n",
       "    </tr>\n",
       "  </thead>\n",
       "  <tbody>\n",
       "    <tr>\n",
       "      <th>0</th>\n",
       "      <td>3493717180478</td>\n",
       "      <td>0</td>\n",
       "      <td>2020-10-01 12:46:56</td>\n",
       "      <td>271</td>\n",
       "      <td>0</td>\n",
       "      <td>1</td>\n",
       "      <td>0</td>\n",
       "      <td>2445.00</td>\n",
       "      <td>2</td>\n",
       "      <td>2</td>\n",
       "      <td>low</td>\n",
       "      <td>87</td>\n",
       "      <td>3</td>\n",
       "    </tr>\n",
       "    <tr>\n",
       "      <th>1</th>\n",
       "      <td>3493777768510</td>\n",
       "      <td>0</td>\n",
       "      <td>2020-10-01 13:32:38</td>\n",
       "      <td>271</td>\n",
       "      <td>0</td>\n",
       "      <td>1</td>\n",
       "      <td>0</td>\n",
       "      <td>448.00</td>\n",
       "      <td>0</td>\n",
       "      <td>0</td>\n",
       "      <td>low</td>\n",
       "      <td>50</td>\n",
       "      <td>3</td>\n",
       "    </tr>\n",
       "    <tr>\n",
       "      <th>2</th>\n",
       "      <td>3490993078334</td>\n",
       "      <td>0</td>\n",
       "      <td>2020-10-01 13:38:06</td>\n",
       "      <td>271</td>\n",
       "      <td>0</td>\n",
       "      <td>1</td>\n",
       "      <td>0</td>\n",
       "      <td>2293.60</td>\n",
       "      <td>2</td>\n",
       "      <td>2</td>\n",
       "      <td>low</td>\n",
       "      <td>60</td>\n",
       "      <td>3</td>\n",
       "    </tr>\n",
       "    <tr>\n",
       "      <th>3</th>\n",
       "      <td>3433191145534</td>\n",
       "      <td>0</td>\n",
       "      <td>2020-10-01 14:28:48</td>\n",
       "      <td>271</td>\n",
       "      <td>0</td>\n",
       "      <td>1</td>\n",
       "      <td>0</td>\n",
       "      <td>438.95</td>\n",
       "      <td>0</td>\n",
       "      <td>0</td>\n",
       "      <td>low</td>\n",
       "      <td>28</td>\n",
       "      <td>3</td>\n",
       "    </tr>\n",
       "    <tr>\n",
       "      <th>4</th>\n",
       "      <td>3494350880830</td>\n",
       "      <td>0</td>\n",
       "      <td>2020-10-01 21:11:57</td>\n",
       "      <td>271</td>\n",
       "      <td>0</td>\n",
       "      <td>1</td>\n",
       "      <td>0</td>\n",
       "      <td>399.05</td>\n",
       "      <td>0</td>\n",
       "      <td>0</td>\n",
       "      <td>low</td>\n",
       "      <td>26</td>\n",
       "      <td>3</td>\n",
       "    </tr>\n",
       "  </tbody>\n",
       "</table>\n",
       "</div>"
      ],
      "text/plain": [
       "     customer_id  makes_purchase last_transaction_date  recency  \\\n",
       "0  3493717180478               0   2020-10-01 12:46:56      271   \n",
       "1  3493777768510               0   2020-10-01 13:32:38      271   \n",
       "2  3490993078334               0   2020-10-01 13:38:06      271   \n",
       "3  3433191145534               0   2020-10-01 14:28:48      271   \n",
       "4  3494350880830               0   2020-10-01 21:11:57      271   \n",
       "\n",
       "   recency_score  frequency  frequency_score  total_revenue  \\\n",
       "0              0          1                0        2445.00   \n",
       "1              0          1                0         448.00   \n",
       "2              0          1                0        2293.60   \n",
       "3              0          1                0         438.95   \n",
       "4              0          1                0         399.05   \n",
       "\n",
       "   total_revenue_score  rfm_score rfm_segment billing_zip_stem  segment  \n",
       "0                    2          2         low               87        3  \n",
       "1                    0          0         low               50        3  \n",
       "2                    2          2         low               60        3  \n",
       "3                    0          0         low               28        3  \n",
       "4                    0          0         low               26        3  "
      ]
     },
     "metadata": {},
     "output_type": "display_data"
    }
   ],
   "source": [
    "features = pd.read_csv('../data/features.csv', index_col=0)\n",
    "df_utils.df_summarise(features)"
   ]
  },
  {
   "cell_type": "markdown",
   "metadata": {},
   "source": [
    "Before we use our features for model training we need to apply some basic preprocessing steps.\n",
    "\n",
    "First of all, we will split our features into categorical and numerical. For categorical variables where there is no obvious ordering of the categories we will use one-hot encoding to represent the features:"
   ]
  },
  {
   "cell_type": "code",
   "execution_count": 3,
   "metadata": {},
   "outputs": [],
   "source": [
    "categorical_cols = [\n",
    "     'rfm_segment', 'billing_zip_stem', 'segment'\n",
    "    ]\n",
    "categorical_features = pd.get_dummies(\n",
    "    features[categorical_cols].astype(str),\n",
    "    )"
   ]
  },
  {
   "cell_type": "markdown",
   "metadata": {},
   "source": [
    "It is worth noting that the ZIP code feature in particular has a siginficant (>100) number of categories. Creating a dummy variable out of it introduces sparsity to our model. Therefore tackling this could be among the next steps for our analysis - perhaps by using a different encoding scheme, encoding the values to a more compact latent space or extracting further location details.\n",
    "\n",
    "As for the numerical features, we will standardise these to improve the numerical stability of the model. Note that we're considering the ordered clustering scores among the numerical variables since we established an ordinal relationship with the data:"
   ]
  },
  {
   "cell_type": "code",
   "execution_count": 4,
   "metadata": {},
   "outputs": [],
   "source": [
    "numerical_cols = [\n",
    "    'recency_score', 'frequency_score', 'total_revenue_score', \n",
    "    'rfm_score','recency', 'frequency', 'total_revenue'\n",
    "    ]   \n",
    "numerical_features = features[numerical_cols].copy()\n",
    "normalised_features = preprocessing.normalize(numerical_features)\n",
    "for idx, col in enumerate(numerical_cols):\n",
    "    numerical_features[col] = normalised_features[:, idx]"
   ]
  },
  {
   "cell_type": "markdown",
   "metadata": {},
   "source": [
    "Next we concatenate both feature sets:"
   ]
  },
  {
   "cell_type": "code",
   "execution_count": 5,
   "metadata": {},
   "outputs": [
    {
     "data": {
      "text/plain": [
       "(16599, 130)"
      ]
     },
     "metadata": {},
     "output_type": "display_data"
    },
    {
     "data": {
      "text/plain": [
       "Index(['recency_score', 'frequency_score', 'total_revenue_score', 'rfm_score',\n",
       "       'recency', 'frequency', 'total_revenue', 'rfm_segment_high',\n",
       "       'rfm_segment_low', 'rfm_segment_mid',\n",
       "       ...\n",
       "       'billing_zip_stem_VALBY', 'billing_zip_stem_nan', 'segment_1',\n",
       "       'segment_10', 'segment_11', 'segment_3', 'segment_4', 'segment_6',\n",
       "       'segment_7', 'segment_9'],\n",
       "      dtype='object', length=130)"
      ]
     },
     "metadata": {},
     "output_type": "display_data"
    },
    {
     "data": {
      "text/html": [
       "<div>\n",
       "<style scoped>\n",
       "    .dataframe tbody tr th:only-of-type {\n",
       "        vertical-align: middle;\n",
       "    }\n",
       "\n",
       "    .dataframe tbody tr th {\n",
       "        vertical-align: top;\n",
       "    }\n",
       "\n",
       "    .dataframe thead th {\n",
       "        text-align: right;\n",
       "    }\n",
       "</style>\n",
       "<table border=\"1\" class=\"dataframe\">\n",
       "  <thead>\n",
       "    <tr style=\"text-align: right;\">\n",
       "      <th></th>\n",
       "      <th>recency_score</th>\n",
       "      <th>frequency_score</th>\n",
       "      <th>total_revenue_score</th>\n",
       "      <th>rfm_score</th>\n",
       "      <th>recency</th>\n",
       "      <th>frequency</th>\n",
       "      <th>total_revenue</th>\n",
       "      <th>rfm_segment_high</th>\n",
       "      <th>rfm_segment_low</th>\n",
       "      <th>rfm_segment_mid</th>\n",
       "      <th>...</th>\n",
       "      <th>billing_zip_stem_VALBY</th>\n",
       "      <th>billing_zip_stem_nan</th>\n",
       "      <th>segment_1</th>\n",
       "      <th>segment_10</th>\n",
       "      <th>segment_11</th>\n",
       "      <th>segment_3</th>\n",
       "      <th>segment_4</th>\n",
       "      <th>segment_6</th>\n",
       "      <th>segment_7</th>\n",
       "      <th>segment_9</th>\n",
       "    </tr>\n",
       "  </thead>\n",
       "  <tbody>\n",
       "    <tr>\n",
       "      <th>0</th>\n",
       "      <td>0.0</td>\n",
       "      <td>0.0</td>\n",
       "      <td>0.000813</td>\n",
       "      <td>0.000813</td>\n",
       "      <td>0.110164</td>\n",
       "      <td>0.000407</td>\n",
       "      <td>0.993913</td>\n",
       "      <td>0</td>\n",
       "      <td>1</td>\n",
       "      <td>0</td>\n",
       "      <td>...</td>\n",
       "      <td>0</td>\n",
       "      <td>0</td>\n",
       "      <td>0</td>\n",
       "      <td>0</td>\n",
       "      <td>0</td>\n",
       "      <td>1</td>\n",
       "      <td>0</td>\n",
       "      <td>0</td>\n",
       "      <td>0</td>\n",
       "      <td>0</td>\n",
       "    </tr>\n",
       "    <tr>\n",
       "      <th>1</th>\n",
       "      <td>0.0</td>\n",
       "      <td>0.0</td>\n",
       "      <td>0.000000</td>\n",
       "      <td>0.000000</td>\n",
       "      <td>0.517581</td>\n",
       "      <td>0.001910</td>\n",
       "      <td>0.855632</td>\n",
       "      <td>0</td>\n",
       "      <td>1</td>\n",
       "      <td>0</td>\n",
       "      <td>...</td>\n",
       "      <td>0</td>\n",
       "      <td>0</td>\n",
       "      <td>0</td>\n",
       "      <td>0</td>\n",
       "      <td>0</td>\n",
       "      <td>1</td>\n",
       "      <td>0</td>\n",
       "      <td>0</td>\n",
       "      <td>0</td>\n",
       "      <td>0</td>\n",
       "    </tr>\n",
       "    <tr>\n",
       "      <th>2</th>\n",
       "      <td>0.0</td>\n",
       "      <td>0.0</td>\n",
       "      <td>0.000866</td>\n",
       "      <td>0.000866</td>\n",
       "      <td>0.117339</td>\n",
       "      <td>0.000433</td>\n",
       "      <td>0.993091</td>\n",
       "      <td>0</td>\n",
       "      <td>1</td>\n",
       "      <td>0</td>\n",
       "      <td>...</td>\n",
       "      <td>0</td>\n",
       "      <td>0</td>\n",
       "      <td>0</td>\n",
       "      <td>0</td>\n",
       "      <td>0</td>\n",
       "      <td>1</td>\n",
       "      <td>0</td>\n",
       "      <td>0</td>\n",
       "      <td>0</td>\n",
       "      <td>0</td>\n",
       "    </tr>\n",
       "    <tr>\n",
       "      <th>3</th>\n",
       "      <td>0.0</td>\n",
       "      <td>0.0</td>\n",
       "      <td>0.000000</td>\n",
       "      <td>0.000000</td>\n",
       "      <td>0.525329</td>\n",
       "      <td>0.001938</td>\n",
       "      <td>0.850897</td>\n",
       "      <td>0</td>\n",
       "      <td>1</td>\n",
       "      <td>0</td>\n",
       "      <td>...</td>\n",
       "      <td>0</td>\n",
       "      <td>0</td>\n",
       "      <td>0</td>\n",
       "      <td>0</td>\n",
       "      <td>0</td>\n",
       "      <td>1</td>\n",
       "      <td>0</td>\n",
       "      <td>0</td>\n",
       "      <td>0</td>\n",
       "      <td>0</td>\n",
       "    </tr>\n",
       "    <tr>\n",
       "      <th>4</th>\n",
       "      <td>0.0</td>\n",
       "      <td>0.0</td>\n",
       "      <td>0.000000</td>\n",
       "      <td>0.000000</td>\n",
       "      <td>0.561807</td>\n",
       "      <td>0.002073</td>\n",
       "      <td>0.827266</td>\n",
       "      <td>0</td>\n",
       "      <td>1</td>\n",
       "      <td>0</td>\n",
       "      <td>...</td>\n",
       "      <td>0</td>\n",
       "      <td>0</td>\n",
       "      <td>0</td>\n",
       "      <td>0</td>\n",
       "      <td>0</td>\n",
       "      <td>1</td>\n",
       "      <td>0</td>\n",
       "      <td>0</td>\n",
       "      <td>0</td>\n",
       "      <td>0</td>\n",
       "    </tr>\n",
       "  </tbody>\n",
       "</table>\n",
       "<p>5 rows × 130 columns</p>\n",
       "</div>"
      ],
      "text/plain": [
       "   recency_score  frequency_score  total_revenue_score  rfm_score   recency  \\\n",
       "0            0.0              0.0             0.000813   0.000813  0.110164   \n",
       "1            0.0              0.0             0.000000   0.000000  0.517581   \n",
       "2            0.0              0.0             0.000866   0.000866  0.117339   \n",
       "3            0.0              0.0             0.000000   0.000000  0.525329   \n",
       "4            0.0              0.0             0.000000   0.000000  0.561807   \n",
       "\n",
       "   frequency  total_revenue  rfm_segment_high  rfm_segment_low  \\\n",
       "0   0.000407       0.993913                 0                1   \n",
       "1   0.001910       0.855632                 0                1   \n",
       "2   0.000433       0.993091                 0                1   \n",
       "3   0.001938       0.850897                 0                1   \n",
       "4   0.002073       0.827266                 0                1   \n",
       "\n",
       "   rfm_segment_mid  ...  billing_zip_stem_VALBY  billing_zip_stem_nan  \\\n",
       "0                0  ...                       0                     0   \n",
       "1                0  ...                       0                     0   \n",
       "2                0  ...                       0                     0   \n",
       "3                0  ...                       0                     0   \n",
       "4                0  ...                       0                     0   \n",
       "\n",
       "   segment_1  segment_10  segment_11  segment_3  segment_4  segment_6  \\\n",
       "0          0           0           0          1          0          0   \n",
       "1          0           0           0          1          0          0   \n",
       "2          0           0           0          1          0          0   \n",
       "3          0           0           0          1          0          0   \n",
       "4          0           0           0          1          0          0   \n",
       "\n",
       "   segment_7  segment_9  \n",
       "0          0          0  \n",
       "1          0          0  \n",
       "2          0          0  \n",
       "3          0          0  \n",
       "4          0          0  \n",
       "\n",
       "[5 rows x 130 columns]"
      ]
     },
     "metadata": {},
     "output_type": "display_data"
    }
   ],
   "source": [
    "model_features = pd.concat((\n",
    "    numerical_features,\n",
    "    categorical_features\n",
    "    ), \n",
    "    axis=1)\n",
    "\n",
    "df_utils.df_summarise(model_features)"
   ]
  },
  {
   "cell_type": "markdown",
   "metadata": {},
   "source": [
    "Lastly, we split the data into a training and validation set to make sure we can perform out-of-sample evaluation of the trained models:"
   ]
  },
  {
   "cell_type": "code",
   "execution_count": 6,
   "metadata": {},
   "outputs": [],
   "source": [
    "train_features, val_features, train_target, val_target = train_test_split(\n",
    "    model_features, \n",
    "    features['makes_purchase'], \n",
    "    test_size=0.2, \n",
    "    random_state=RANDOM_STATE\n",
    "    )"
   ]
  },
  {
   "cell_type": "markdown",
   "metadata": {},
   "source": [
    "## Model training"
   ]
  },
  {
   "cell_type": "markdown",
   "metadata": {},
   "source": [
    "Now, we define the model suite we will be using for training purposes. As a starting point, we will be using the models out-of-the box without hyperparameter tuning:"
   ]
  },
  {
   "cell_type": "code",
   "execution_count": 7,
   "metadata": {},
   "outputs": [],
   "source": [
    "models = {\n",
    "    'logistic_regression': LogisticRegression(random_state=RANDOM_STATE),\n",
    "    'naive_bayes': GaussianNB(),\n",
    "    'CART': DecisionTreeClassifier(random_state=RANDOM_STATE),\n",
    "    'random_forest': RandomForestClassifier(random_state=RANDOM_STATE),\n",
    "    'xgb': xgb.XGBClassifier(use_label_encoder=False),   \n",
    "}"
   ]
  },
  {
   "cell_type": "markdown",
   "metadata": {},
   "source": [
    "To choose the right architecutre for the job, we will train and evaluate the models using k-fold cross validation.\n",
    "\n",
    "Since we are dealing with a highly imbalanced dataset, we will be using the F1 score to evaluate the models:"
   ]
  },
  {
   "cell_type": "code",
   "execution_count": 8,
   "metadata": {},
   "outputs": [
    {
     "name": "stdout",
     "output_type": "stream",
     "text": [
      "logistic_regression [0.         0.07407407 0.03773585] average score: 3.7%\n",
      "naive_bayes [0.02042711 0.02524383 0.02121855] average score: 2.2%\n",
      "CART [0.23684211 0.3853211  0.19047619] average score: 27.1%\n",
      "random_forest [0.16949153 0.10526316 0.10169492] average score: 12.5%\n",
      "[22:36:46] WARNING: ../src/learner.cc:1115: Starting in XGBoost 1.3.0, the default evaluation metric used with the objective 'binary:logistic' was changed from 'error' to 'logloss'. Explicitly set eval_metric if you'd like to restore the old behavior.\n",
      "[22:36:48] WARNING: ../src/learner.cc:1115: Starting in XGBoost 1.3.0, the default evaluation metric used with the objective 'binary:logistic' was changed from 'error' to 'logloss'. Explicitly set eval_metric if you'd like to restore the old behavior.\n",
      "[22:36:49] WARNING: ../src/learner.cc:1115: Starting in XGBoost 1.3.0, the default evaluation metric used with the objective 'binary:logistic' was changed from 'error' to 'logloss'. Explicitly set eval_metric if you'd like to restore the old behavior.\n",
      "xgb [0.28985507 0.34482759 0.2739726 ] average score: 30.3%\n"
     ]
    }
   ],
   "source": [
    "for model_name, model in models.items():\n",
    "    kfold = KFold(n_splits=3, random_state=RANDOM_STATE, shuffle=True)\n",
    "    result = cross_val_score(model, train_features, train_target, cv=kfold, scoring='f1')\n",
    "    print(model_name, result, f'average score: {np.mean(result):.1%}')"
   ]
  },
  {
   "cell_type": "markdown",
   "metadata": {},
   "source": [
    "Training on the imbalanced dataset spawns rather poor results - the best score of 30% F1 can hardly be considered a good evaluation result.\n",
    "\n",
    "The results of the XGBoost model look most promising out of the bunch - and small wonder, since xgboost is still considered state-of-the-art with regards to tabular data problems. We will attempt a basic hyperparameter tuning for xgboost using grid search:"
   ]
  },
  {
   "cell_type": "code",
   "execution_count": 9,
   "metadata": {},
   "outputs": [
    {
     "name": "stderr",
     "output_type": "stream",
     "text": [
      "/mnt/d/coding/git/TomaszKaleczyc/customer_order_prediction/environment/cust_venv/lib/python3.6/site-packages/xgboost/sklearn.py:1224: UserWarning: The use of label encoder in XGBClassifier is deprecated and will be removed in a future release. To remove this warning, do the following: 1) Pass option use_label_encoder=False when constructing XGBClassifier object; and 2) Encode your labels (y) as integers starting with 0, i.e. 0, 1, 2, ..., [num_class - 1].\n",
      "  warnings.warn(label_encoder_deprecation_msg, UserWarning)\n"
     ]
    },
    {
     "name": "stdout",
     "output_type": "stream",
     "text": [
      "[22:42:56] WARNING: ../src/learner.cc:1115: Starting in XGBoost 1.3.0, the default evaluation metric used with the objective 'binary:logistic' was changed from 'error' to 'logloss'. Explicitly set eval_metric if you'd like to restore the old behavior.\n"
     ]
    },
    {
     "data": {
      "text/plain": [
       "({'booster': 'gbtree', 'lambda': 1, 'max_depth': 7, 'min_child_weight': 5},\n",
       " 0.30973671137605563)"
      ]
     },
     "execution_count": 9,
     "metadata": {},
     "output_type": "execute_result"
    }
   ],
   "source": [
    "parameters = {\n",
    "    'max_depth': range(3, 8, 2),\n",
    "    'booster': ['gbtree', 'gblinear'],\n",
    "    'min_child_weight': range(1, 6, 2),\n",
    "    'lambda': [1, 2],\n",
    "}\n",
    "\n",
    "grid_search = GridSearchCV(\n",
    "    estimator=xgb.XGBClassifier(),\n",
    "    param_grid=parameters,\n",
    "    scoring='f1',\n",
    "    n_jobs=-1,\n",
    "    cv=2\n",
    "    )\n",
    "\n",
    "grid_search.fit(train_features, train_target)\n",
    "grid_search.best_params_, grid_search.best_score_"
   ]
  },
  {
   "cell_type": "markdown",
   "metadata": {},
   "source": [
    "Grid search did not result in a significant improvement over the default hyperparameters:"
   ]
  },
  {
   "cell_type": "markdown",
   "metadata": {},
   "source": [
    "## Upsampling"
   ]
  },
  {
   "cell_type": "markdown",
   "metadata": {},
   "source": [
    "One of the possible approaches to battle the severe class imbalance that we have in the dataset is using a sampling scheme - either oversampling or undersampling. For this excercise, we will use the Synthetic Minority Oversampling Technique (or SMOTE) to oversample the minority class. \n",
    "\n",
    "We could opt for using a simple oversampling scheme where we simply use minority class examples more than once but using SMOTE has the additional benefit of introducing some variation to the upsampled data."
   ]
  },
  {
   "cell_type": "code",
   "execution_count": 10,
   "metadata": {},
   "outputs": [
    {
     "data": {
      "text/plain": [
       "((26258, 130), (26258,))"
      ]
     },
     "execution_count": 10,
     "metadata": {},
     "output_type": "execute_result"
    }
   ],
   "source": [
    "smote = SMOTE(random_state=RANDOM_STATE)\n",
    "upsampled_train_features, upsampled_train_target = smote.fit_resample(train_features, train_target)\n",
    "upsampled_train_features.shape, upsampled_train_target.shape"
   ]
  },
  {
   "cell_type": "markdown",
   "metadata": {},
   "source": [
    "We train the models again, this time on the upsampled dataset. We will not be using k-fold crossvalidation, since by upsampling we intoduce a level of data leakage into our dataset. Instead, we will compare the models using their performance on the out-of-sample validation set - again using the F1 score:"
   ]
  },
  {
   "cell_type": "code",
   "execution_count": 11,
   "metadata": {},
   "outputs": [
    {
     "name": "stderr",
     "output_type": "stream",
     "text": [
      "/mnt/d/coding/git/TomaszKaleczyc/customer_order_prediction/environment/cust_venv/lib/python3.6/site-packages/sklearn/linear_model/_logistic.py:765: ConvergenceWarning: lbfgs failed to converge (status=1):\n",
      "STOP: TOTAL NO. of ITERATIONS REACHED LIMIT.\n",
      "\n",
      "Increase the number of iterations (max_iter) or scale the data as shown in:\n",
      "    https://scikit-learn.org/stable/modules/preprocessing.html\n",
      "Please also refer to the documentation for alternative solver options:\n",
      "    https://scikit-learn.org/stable/modules/linear_model.html#logistic-regression\n",
      "  extra_warning_msg=_LOGISTIC_SOLVER_CONVERGENCE_MSG)\n"
     ]
    },
    {
     "name": "stdout",
     "output_type": "stream",
     "text": [
      "logistic_regression f1 val score: 18.4%\n",
      "naive_bayes f1 val score: 2.3%\n",
      "CART f1 val score: 16.9%\n",
      "random_forest f1 val score: 33.8%\n",
      "[22:43:09] WARNING: ../src/learner.cc:1115: Starting in XGBoost 1.3.0, the default evaluation metric used with the objective 'binary:logistic' was changed from 'error' to 'logloss'. Explicitly set eval_metric if you'd like to restore the old behavior.\n",
      "xgb f1 val score: 30.3%\n"
     ]
    }
   ],
   "source": [
    "for model_name, model in models.items():\n",
    "    kfold = KFold(n_splits=4, random_state=RANDOM_STATE, shuffle=True)\n",
    "    trained_model = model.fit(upsampled_train_features, upsampled_train_target)\n",
    "    val_predictions = trained_model.predict(val_features)\n",
    "    score = f1_score(val_target, val_predictions)\n",
    "    print(model_name, f'f1 val score: {score:.1%}')"
   ]
  },
  {
   "cell_type": "markdown",
   "metadata": {},
   "source": [
    "Upsampling has significantly improved the results of the random forest classifier and gave it a minor margin over the xgboost model. Therefore we will use it for the final evaluation."
   ]
  },
  {
   "cell_type": "markdown",
   "metadata": {},
   "source": [
    "## Evaluation"
   ]
  },
  {
   "cell_type": "code",
   "execution_count": 12,
   "metadata": {},
   "outputs": [
    {
     "data": {
      "text/plain": [
       "0.3384615384615385"
      ]
     },
     "execution_count": 12,
     "metadata": {},
     "output_type": "execute_result"
    }
   ],
   "source": [
    "model = RandomForestClassifier(random_state=RANDOM_STATE).fit(upsampled_train_features, upsampled_train_target)\n",
    "val_predictions = model.predict(val_features)\n",
    "f1_score(val_target, val_predictions)"
   ]
  },
  {
   "cell_type": "markdown",
   "metadata": {},
   "source": [
    "Let's review the validation confusion matrix to better understand the quality of our predictions:"
   ]
  },
  {
   "cell_type": "code",
   "execution_count": 13,
   "metadata": {},
   "outputs": [
    {
     "data": {
      "image/png": "[encoded data removed]",
      "text/plain": [
       "<Figure size 432x288 with 2 Axes>"
      ]
     },
     "metadata": {
      "needs_background": "light"
     },
     "output_type": "display_data"
    }
   ],
   "source": [
    "sns.heatmap(confusion_matrix(val_target, val_predictions), annot=True);"
   ]
  },
  {
   "cell_type": "markdown",
   "metadata": {},
   "source": [
    "Looks like the model is making a significant number of false positive predictions - roughly twice the amount of all positive ground truth examples. It is likely the upsampling scheme is not enough to battle the significant imbalance as there might not be enough positive examples in our dataset.\n",
    "\n",
    "Also, this is also most likely a result of improper feature engineering. To see how good our engineered features fared, let's review the feature importance."
   ]
  },
  {
   "cell_type": "markdown",
   "metadata": {},
   "source": [
    "**Feature importance**"
   ]
  },
  {
   "cell_type": "markdown",
   "metadata": {},
   "source": [
    "First let's define a helper function to display and plot the results of feature importance:"
   ]
  },
  {
   "cell_type": "code",
   "execution_count": 14,
   "metadata": {},
   "outputs": [],
   "source": [
    "def show_feature_importance(\n",
    "        feature_importances: ndarray, \n",
    "        model_features: DataFrame, \n",
    "        top_features: int = 10\n",
    "        ) -> None:\n",
    "    \"\"\"\n",
    "    Displays feature importance results\n",
    "    \"\"\"\n",
    "    mapped_feature_importances = [\n",
    "        (feature_name, feature_importance ) \n",
    "        for feature_name, feature_importance in zip(model_features.columns, feature_importances)\n",
    "        ]\n",
    "    sorted_feature_importances = sorted(mapped_feature_importances, key=lambda x: x[1], reverse=True)[:top_features]\n",
    "\n",
    "    for feature_name, feature_score in sorted_feature_importances:\n",
    "        print(f'{feature_name}: {feature_score:.2f}')\n",
    "\n",
    "    top_feature_names = [feature[0] for feature in sorted_feature_importances]\n",
    "    top_feature_scores = [feature[1] for feature in sorted_feature_importances]\n",
    "\n",
    "    plt.figure(figsize=(20,10))\n",
    "    plt.barh(range(len(top_feature_scores)), top_feature_scores)\n",
    "    plt.yticks(np.arange(len(top_feature_names)), top_feature_names)\n",
    "    plt.show()"
   ]
  },
  {
   "cell_type": "markdown",
   "metadata": {},
   "source": [
    "Next, we can review the in-built feature importances of the random forest model based on Gini impurity:"
   ]
  },
  {
   "cell_type": "code",
   "execution_count": 15,
   "metadata": {},
   "outputs": [
    {
     "name": "stdout",
     "output_type": "stream",
     "text": [
      "segment_3: 0.20\n",
      "segment_11: 0.14\n",
      "rfm_score: 0.07\n",
      "recency_score: 0.07\n",
      "segment_1: 0.07\n",
      "frequency_score: 0.06\n",
      "total_revenue: 0.06\n",
      "recency: 0.05\n",
      "frequency: 0.05\n",
      "segment_6: 0.03\n"
     ]
    },
    {
     "data": {
      "image/png": "[encoded data removed]",
      "text/plain": [
       "<Figure size 1440x720 with 1 Axes>"
      ]
     },
     "metadata": {
      "needs_background": "light"
     },
     "output_type": "display_data"
    }
   ],
   "source": [
    "feature_importances = model.feature_importances_\n",
    "show_feature_importance(feature_importances, model_features)"
   ]
  },
  {
   "cell_type": "markdown",
   "metadata": {},
   "source": [
    "Looks like the original `segment` features seem to be playing the most important role. Out of the features devised by us earlier, `rfm_score` and `recency_score` stand out, which is intuitive.\n",
    "\n",
    "To complete the picture, we'll use another feature importance estimation method called permutation score - this one is agnostic of the model architecture used."
   ]
  },
  {
   "cell_type": "code",
   "execution_count": 16,
   "metadata": {},
   "outputs": [
    {
     "name": "stdout",
     "output_type": "stream",
     "text": [
      "segment_3: 0.29\n",
      "segment_1: 0.23\n",
      "frequency_score: 0.17\n",
      "segment_6: 0.14\n",
      "total_revenue: 0.12\n",
      "segment_11: 0.10\n",
      "recency: 0.07\n",
      "rfm_segment_high: 0.04\n",
      "recency_score: 0.04\n",
      "total_revenue_score: 0.03\n"
     ]
    },
    {
     "data": {
      "image/png": "[encoded data removed]",
      "text/plain": [
       "<Figure size 1440x720 with 1 Axes>"
      ]
     },
     "metadata": {
      "needs_background": "light"
     },
     "output_type": "display_data"
    }
   ],
   "source": [
    "results = permutation_importance(model, val_features, val_target, scoring='f1')\n",
    "feature_importances = results.importances_mean\n",
    "show_feature_importance(feature_importances, model_features)"
   ]
  },
  {
   "cell_type": "markdown",
   "metadata": {},
   "source": [
    "Our earlier observations of `segment` based features playing the most important role are confirmed. This time around though, `frequency_score` has the most effect on our target score."
   ]
  },
  {
   "cell_type": "markdown",
   "metadata": {},
   "source": [
    "## Potential next steps"
   ]
  },
  {
   "cell_type": "markdown",
   "metadata": {},
   "source": [
    "As shown above, our features and modelling approach spawns results that can certainly still be improved. Among possible next steps we could consider:\n",
    "\n",
    "* further feature engineering to identify features with higher correlation with the target variable. Especially exploring the possibilities of enhancing the `segment` variable seem reasonable\n",
    "* improvements in the data preprocessing stage, in particular in handling high dimensional categorical variables\n",
    "* using a different modelling approach: since the majority class is so significantly dominant, perhaps using outlier detection techniques (e.g. autoencoders, DBSCAN, isolation forest)"
   ]
  }
 ],
 "metadata": {
  "interpreter": {
   "hash": "4835e86702a3e79fcfc32bea8cbbbe234fde879c3d6ba7901d78455143f2ad51"
  },
  "kernelspec": {
   "display_name": "Python 3.6.9 ('cust_venv')",
   "language": "python",
   "name": "python3"
  },
  "language_info": {
   "codemirror_mode": {
    "name": "ipython",
    "version": 3
   },
   "file_extension": ".py",
   "mimetype": "text/x-python",
   "name": "python",
   "nbconvert_exporter": "python",
   "pygments_lexer": "ipython3",
   "version": "3.6.9"
  },
  "orig_nbformat": 4
 },
 "nbformat": 4,
 "nbformat_minor": 2
}
