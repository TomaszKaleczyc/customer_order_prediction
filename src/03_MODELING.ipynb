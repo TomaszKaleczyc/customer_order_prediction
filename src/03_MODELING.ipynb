{
 "cells": [
  {
   "cell_type": "markdown",
   "metadata": {},
   "source": []
  },
  {
   "cell_type": "markdown",
   "metadata": {},
   "source": [
    "## Imports"
   ]
  },
  {
   "cell_type": "code",
   "execution_count": 102,
   "metadata": {},
   "outputs": [
    {
     "name": "stdout",
     "output_type": "stream",
     "text": [
      "The autoreload extension is already loaded. To reload it, use:\n",
      "  %reload_ext autoreload\n"
     ]
    }
   ],
   "source": [
    "%load_ext autoreload\n",
    "%autoreload 2\n",
    "\n",
    "from matplotlib import pyplot as plt\n",
    "import numpy as np\n",
    "from numpy import ndarray\n",
    "import pandas as pd\n",
    "from pandas import DataFrame\n",
    "import seaborn as sns\n",
    "\n",
    "from sklearn import preprocessing\n",
    "\n",
    "from sklearn.svm import SVC\n",
    "from sklearn.multioutput import MultiOutputClassifier\n",
    "from sklearn.ensemble import GradientBoostingClassifier\n",
    "from sklearn.tree import DecisionTreeClassifier\n",
    "from sklearn.neighbors import KNeighborsClassifier\n",
    "from sklearn.naive_bayes import GaussianNB\n",
    "from sklearn.ensemble import RandomForestClassifier\n",
    "from sklearn.linear_model import LogisticRegression\n",
    "from sklearn.inspection import permutation_importance\n",
    "import xgboost as xgb\n",
    "from sklearn.model_selection import GridSearchCV\n",
    "from sklearn.model_selection import KFold, cross_val_score, train_test_split\n",
    "from sklearn.metrics import f1_score, confusion_matrix\n",
    "\n",
    "from utilities import df_utils\n",
    "\n",
    "RANDOM_STATE = 5"
   ]
  },
  {
   "cell_type": "markdown",
   "metadata": {},
   "source": [
    "## Data preprocessing"
   ]
  },
  {
   "cell_type": "code",
   "execution_count": 30,
   "metadata": {},
   "outputs": [
    {
     "data": {
      "text/plain": [
       "(16599, 13)"
      ]
     },
     "metadata": {},
     "output_type": "display_data"
    },
    {
     "data": {
      "text/plain": [
       "Index(['customer_id', 'makes_purchase', 'last_transaction_date', 'recency',\n",
       "       'recency_score', 'frequency', 'frequency_score', 'total_revenue',\n",
       "       'total_revenue_score', 'rfm_score', 'rfm_segment', 'billing_zip_stem',\n",
       "       'segment'],\n",
       "      dtype='object')"
      ]
     },
     "metadata": {},
     "output_type": "display_data"
    },
    {
     "data": {
      "text/html": [
       "<div>\n",
       "<style scoped>\n",
       "    .dataframe tbody tr th:only-of-type {\n",
       "        vertical-align: middle;\n",
       "    }\n",
       "\n",
       "    .dataframe tbody tr th {\n",
       "        vertical-align: top;\n",
       "    }\n",
       "\n",
       "    .dataframe thead th {\n",
       "        text-align: right;\n",
       "    }\n",
       "</style>\n",
       "<table border=\"1\" class=\"dataframe\">\n",
       "  <thead>\n",
       "    <tr style=\"text-align: right;\">\n",
       "      <th></th>\n",
       "      <th>customer_id</th>\n",
       "      <th>makes_purchase</th>\n",
       "      <th>last_transaction_date</th>\n",
       "      <th>recency</th>\n",
       "      <th>recency_score</th>\n",
       "      <th>frequency</th>\n",
       "      <th>frequency_score</th>\n",
       "      <th>total_revenue</th>\n",
       "      <th>total_revenue_score</th>\n",
       "      <th>rfm_score</th>\n",
       "      <th>rfm_segment</th>\n",
       "      <th>billing_zip_stem</th>\n",
       "      <th>segment</th>\n",
       "    </tr>\n",
       "  </thead>\n",
       "  <tbody>\n",
       "    <tr>\n",
       "      <th>0</th>\n",
       "      <td>3493717180478</td>\n",
       "      <td>0</td>\n",
       "      <td>2020-10-01 12:46:56</td>\n",
       "      <td>271</td>\n",
       "      <td>0</td>\n",
       "      <td>1</td>\n",
       "      <td>0</td>\n",
       "      <td>2445.00</td>\n",
       "      <td>1</td>\n",
       "      <td>1</td>\n",
       "      <td>low</td>\n",
       "      <td>87</td>\n",
       "      <td>3</td>\n",
       "    </tr>\n",
       "    <tr>\n",
       "      <th>1</th>\n",
       "      <td>3493777768510</td>\n",
       "      <td>0</td>\n",
       "      <td>2020-10-01 13:32:38</td>\n",
       "      <td>271</td>\n",
       "      <td>0</td>\n",
       "      <td>1</td>\n",
       "      <td>0</td>\n",
       "      <td>448.00</td>\n",
       "      <td>0</td>\n",
       "      <td>0</td>\n",
       "      <td>low</td>\n",
       "      <td>50</td>\n",
       "      <td>3</td>\n",
       "    </tr>\n",
       "    <tr>\n",
       "      <th>2</th>\n",
       "      <td>3490993078334</td>\n",
       "      <td>0</td>\n",
       "      <td>2020-10-01 13:38:06</td>\n",
       "      <td>271</td>\n",
       "      <td>0</td>\n",
       "      <td>1</td>\n",
       "      <td>0</td>\n",
       "      <td>2293.60</td>\n",
       "      <td>1</td>\n",
       "      <td>1</td>\n",
       "      <td>low</td>\n",
       "      <td>60</td>\n",
       "      <td>3</td>\n",
       "    </tr>\n",
       "    <tr>\n",
       "      <th>3</th>\n",
       "      <td>3433191145534</td>\n",
       "      <td>0</td>\n",
       "      <td>2020-10-01 14:28:48</td>\n",
       "      <td>271</td>\n",
       "      <td>0</td>\n",
       "      <td>1</td>\n",
       "      <td>0</td>\n",
       "      <td>438.95</td>\n",
       "      <td>0</td>\n",
       "      <td>0</td>\n",
       "      <td>low</td>\n",
       "      <td>28</td>\n",
       "      <td>3</td>\n",
       "    </tr>\n",
       "    <tr>\n",
       "      <th>4</th>\n",
       "      <td>3494350880830</td>\n",
       "      <td>0</td>\n",
       "      <td>2020-10-01 21:11:57</td>\n",
       "      <td>271</td>\n",
       "      <td>0</td>\n",
       "      <td>1</td>\n",
       "      <td>0</td>\n",
       "      <td>399.05</td>\n",
       "      <td>0</td>\n",
       "      <td>0</td>\n",
       "      <td>low</td>\n",
       "      <td>26</td>\n",
       "      <td>3</td>\n",
       "    </tr>\n",
       "  </tbody>\n",
       "</table>\n",
       "</div>"
      ],
      "text/plain": [
       "     customer_id  makes_purchase last_transaction_date  recency  \\\n",
       "0  3493717180478               0   2020-10-01 12:46:56      271   \n",
       "1  3493777768510               0   2020-10-01 13:32:38      271   \n",
       "2  3490993078334               0   2020-10-01 13:38:06      271   \n",
       "3  3433191145534               0   2020-10-01 14:28:48      271   \n",
       "4  3494350880830               0   2020-10-01 21:11:57      271   \n",
       "\n",
       "   recency_score  frequency  frequency_score  total_revenue  \\\n",
       "0              0          1                0        2445.00   \n",
       "1              0          1                0         448.00   \n",
       "2              0          1                0        2293.60   \n",
       "3              0          1                0         438.95   \n",
       "4              0          1                0         399.05   \n",
       "\n",
       "   total_revenue_score  rfm_score rfm_segment billing_zip_stem  segment  \n",
       "0                    1          1         low               87        3  \n",
       "1                    0          0         low               50        3  \n",
       "2                    1          1         low               60        3  \n",
       "3                    0          0         low               28        3  \n",
       "4                    0          0         low               26        3  "
      ]
     },
     "metadata": {},
     "output_type": "display_data"
    }
   ],
   "source": [
    "features = pd.read_csv('../data/features.csv', index_col=0)\n",
    "df_utils.df_summarise(features)"
   ]
  },
  {
   "cell_type": "markdown",
   "metadata": {},
   "source": [
    "cat"
   ]
  },
  {
   "cell_type": "code",
   "execution_count": null,
   "metadata": {},
   "outputs": [],
   "source": [
    "categorical_cols = [\n",
    "    'recency_score', 'frequency_score', 'total_revenue_score', \n",
    "    'rfm_score', 'rfm_segment', 'billing_zip_stem', 'segment'\n",
    "    ]\n",
    "categorical_features = pd.get_dummies(\n",
    "    features[categorical_cols].astype(str),\n",
    "    drop_first=True\n",
    "    )"
   ]
  },
  {
   "cell_type": "markdown",
   "metadata": {},
   "source": [
    "num"
   ]
  },
  {
   "cell_type": "code",
   "execution_count": 59,
   "metadata": {},
   "outputs": [],
   "source": [
    "numerical_cols = ['recency', 'frequency', 'total_revenue']\n",
    "numerical_features = features[numerical_cols].copy()\n",
    "normalised_features = preprocessing.normalize(numerical_features)\n",
    "for idx, col in enumerate(numerical_cols):\n",
    "    numerical_features[col] = normalised_features[:, idx]"
   ]
  },
  {
   "cell_type": "code",
   "execution_count": 60,
   "metadata": {},
   "outputs": [
    {
     "data": {
      "text/plain": [
       "(16599, 141)"
      ]
     },
     "metadata": {},
     "output_type": "display_data"
    },
    {
     "data": {
      "text/plain": [
       "Index(['recency', 'frequency', 'total_revenue', 'recency_score_1',\n",
       "       'recency_score_2', 'recency_score_3', 'frequency_score_1',\n",
       "       'frequency_score_2', 'frequency_score_3', 'total_revenue_score_1',\n",
       "       ...\n",
       "       'billing_zip_stem_SW40JW', 'billing_zip_stem_VALBY',\n",
       "       'billing_zip_stem_nan', 'segment_10', 'segment_11', 'segment_3',\n",
       "       'segment_4', 'segment_6', 'segment_7', 'segment_9'],\n",
       "      dtype='object', length=141)"
      ]
     },
     "metadata": {},
     "output_type": "display_data"
    },
    {
     "data": {
      "text/html": [
       "<div>\n",
       "<style scoped>\n",
       "    .dataframe tbody tr th:only-of-type {\n",
       "        vertical-align: middle;\n",
       "    }\n",
       "\n",
       "    .dataframe tbody tr th {\n",
       "        vertical-align: top;\n",
       "    }\n",
       "\n",
       "    .dataframe thead th {\n",
       "        text-align: right;\n",
       "    }\n",
       "</style>\n",
       "<table border=\"1\" class=\"dataframe\">\n",
       "  <thead>\n",
       "    <tr style=\"text-align: right;\">\n",
       "      <th></th>\n",
       "      <th>recency</th>\n",
       "      <th>frequency</th>\n",
       "      <th>total_revenue</th>\n",
       "      <th>recency_score_1</th>\n",
       "      <th>recency_score_2</th>\n",
       "      <th>recency_score_3</th>\n",
       "      <th>frequency_score_1</th>\n",
       "      <th>frequency_score_2</th>\n",
       "      <th>frequency_score_3</th>\n",
       "      <th>total_revenue_score_1</th>\n",
       "      <th>...</th>\n",
       "      <th>billing_zip_stem_SW40JW</th>\n",
       "      <th>billing_zip_stem_VALBY</th>\n",
       "      <th>billing_zip_stem_nan</th>\n",
       "      <th>segment_10</th>\n",
       "      <th>segment_11</th>\n",
       "      <th>segment_3</th>\n",
       "      <th>segment_4</th>\n",
       "      <th>segment_6</th>\n",
       "      <th>segment_7</th>\n",
       "      <th>segment_9</th>\n",
       "    </tr>\n",
       "  </thead>\n",
       "  <tbody>\n",
       "    <tr>\n",
       "      <th>0</th>\n",
       "      <td>0.110164</td>\n",
       "      <td>0.000407</td>\n",
       "      <td>0.993913</td>\n",
       "      <td>0</td>\n",
       "      <td>0</td>\n",
       "      <td>0</td>\n",
       "      <td>0</td>\n",
       "      <td>0</td>\n",
       "      <td>0</td>\n",
       "      <td>1</td>\n",
       "      <td>...</td>\n",
       "      <td>0</td>\n",
       "      <td>0</td>\n",
       "      <td>0</td>\n",
       "      <td>0</td>\n",
       "      <td>0</td>\n",
       "      <td>1</td>\n",
       "      <td>0</td>\n",
       "      <td>0</td>\n",
       "      <td>0</td>\n",
       "      <td>0</td>\n",
       "    </tr>\n",
       "    <tr>\n",
       "      <th>1</th>\n",
       "      <td>0.517581</td>\n",
       "      <td>0.001910</td>\n",
       "      <td>0.855632</td>\n",
       "      <td>0</td>\n",
       "      <td>0</td>\n",
       "      <td>0</td>\n",
       "      <td>0</td>\n",
       "      <td>0</td>\n",
       "      <td>0</td>\n",
       "      <td>0</td>\n",
       "      <td>...</td>\n",
       "      <td>0</td>\n",
       "      <td>0</td>\n",
       "      <td>0</td>\n",
       "      <td>0</td>\n",
       "      <td>0</td>\n",
       "      <td>1</td>\n",
       "      <td>0</td>\n",
       "      <td>0</td>\n",
       "      <td>0</td>\n",
       "      <td>0</td>\n",
       "    </tr>\n",
       "    <tr>\n",
       "      <th>2</th>\n",
       "      <td>0.117339</td>\n",
       "      <td>0.000433</td>\n",
       "      <td>0.993092</td>\n",
       "      <td>0</td>\n",
       "      <td>0</td>\n",
       "      <td>0</td>\n",
       "      <td>0</td>\n",
       "      <td>0</td>\n",
       "      <td>0</td>\n",
       "      <td>1</td>\n",
       "      <td>...</td>\n",
       "      <td>0</td>\n",
       "      <td>0</td>\n",
       "      <td>0</td>\n",
       "      <td>0</td>\n",
       "      <td>0</td>\n",
       "      <td>1</td>\n",
       "      <td>0</td>\n",
       "      <td>0</td>\n",
       "      <td>0</td>\n",
       "      <td>0</td>\n",
       "    </tr>\n",
       "    <tr>\n",
       "      <th>3</th>\n",
       "      <td>0.525329</td>\n",
       "      <td>0.001938</td>\n",
       "      <td>0.850897</td>\n",
       "      <td>0</td>\n",
       "      <td>0</td>\n",
       "      <td>0</td>\n",
       "      <td>0</td>\n",
       "      <td>0</td>\n",
       "      <td>0</td>\n",
       "      <td>0</td>\n",
       "      <td>...</td>\n",
       "      <td>0</td>\n",
       "      <td>0</td>\n",
       "      <td>0</td>\n",
       "      <td>0</td>\n",
       "      <td>0</td>\n",
       "      <td>1</td>\n",
       "      <td>0</td>\n",
       "      <td>0</td>\n",
       "      <td>0</td>\n",
       "      <td>0</td>\n",
       "    </tr>\n",
       "    <tr>\n",
       "      <th>4</th>\n",
       "      <td>0.561807</td>\n",
       "      <td>0.002073</td>\n",
       "      <td>0.827266</td>\n",
       "      <td>0</td>\n",
       "      <td>0</td>\n",
       "      <td>0</td>\n",
       "      <td>0</td>\n",
       "      <td>0</td>\n",
       "      <td>0</td>\n",
       "      <td>0</td>\n",
       "      <td>...</td>\n",
       "      <td>0</td>\n",
       "      <td>0</td>\n",
       "      <td>0</td>\n",
       "      <td>0</td>\n",
       "      <td>0</td>\n",
       "      <td>1</td>\n",
       "      <td>0</td>\n",
       "      <td>0</td>\n",
       "      <td>0</td>\n",
       "      <td>0</td>\n",
       "    </tr>\n",
       "  </tbody>\n",
       "</table>\n",
       "<p>5 rows × 141 columns</p>\n",
       "</div>"
      ],
      "text/plain": [
       "    recency  frequency  total_revenue  recency_score_1  recency_score_2  \\\n",
       "0  0.110164   0.000407       0.993913                0                0   \n",
       "1  0.517581   0.001910       0.855632                0                0   \n",
       "2  0.117339   0.000433       0.993092                0                0   \n",
       "3  0.525329   0.001938       0.850897                0                0   \n",
       "4  0.561807   0.002073       0.827266                0                0   \n",
       "\n",
       "   recency_score_3  frequency_score_1  frequency_score_2  frequency_score_3  \\\n",
       "0                0                  0                  0                  0   \n",
       "1                0                  0                  0                  0   \n",
       "2                0                  0                  0                  0   \n",
       "3                0                  0                  0                  0   \n",
       "4                0                  0                  0                  0   \n",
       "\n",
       "   total_revenue_score_1  ...  billing_zip_stem_SW40JW  \\\n",
       "0                      1  ...                        0   \n",
       "1                      0  ...                        0   \n",
       "2                      1  ...                        0   \n",
       "3                      0  ...                        0   \n",
       "4                      0  ...                        0   \n",
       "\n",
       "   billing_zip_stem_VALBY  billing_zip_stem_nan  segment_10  segment_11  \\\n",
       "0                       0                     0           0           0   \n",
       "1                       0                     0           0           0   \n",
       "2                       0                     0           0           0   \n",
       "3                       0                     0           0           0   \n",
       "4                       0                     0           0           0   \n",
       "\n",
       "   segment_3  segment_4  segment_6  segment_7  segment_9  \n",
       "0          1          0          0          0          0  \n",
       "1          1          0          0          0          0  \n",
       "2          1          0          0          0          0  \n",
       "3          1          0          0          0          0  \n",
       "4          1          0          0          0          0  \n",
       "\n",
       "[5 rows x 141 columns]"
      ]
     },
     "metadata": {},
     "output_type": "display_data"
    }
   ],
   "source": [
    "model_features = pd.concat((\n",
    "    numerical_features,\n",
    "    categorical_features\n",
    "    ), \n",
    "    axis=1)\n",
    "\n",
    "df_utils.df_summarise(model_features)"
   ]
  },
  {
   "cell_type": "markdown",
   "metadata": {},
   "source": [
    "## Model training"
   ]
  },
  {
   "cell_type": "code",
   "execution_count": 61,
   "metadata": {},
   "outputs": [],
   "source": [
    "models = {\n",
    "    'logistic_regression': LogisticRegression(),\n",
    "    'naive_bayes': GaussianNB(),\n",
    "    'random_forest': RandomForestClassifier(),\n",
    "    'xgb': xgb.XGBClassifier(use_label_encoder=False),\n",
    "    'knn': KNeighborsClassifier(),\n",
    "}"
   ]
  },
  {
   "cell_type": "code",
   "execution_count": 62,
   "metadata": {},
   "outputs": [
    {
     "name": "stdout",
     "output_type": "stream",
     "text": [
      "logistic_regression [0.18518519 0.15625    0.03703704] average score: 12.6%\n",
      "naive_bayes [0.02059925 0.02469845 0.02122498] average score: 2.2%\n",
      "random_forest [0.21052632 0.19354839 0.07272727] average score: 15.9%\n",
      "[22:37:45] WARNING: ../src/learner.cc:1115: Starting in XGBoost 1.3.0, the default evaluation metric used with the objective 'binary:logistic' was changed from 'error' to 'logloss'. Explicitly set eval_metric if you'd like to restore the old behavior.\n",
      "[22:37:46] WARNING: ../src/learner.cc:1115: Starting in XGBoost 1.3.0, the default evaluation metric used with the objective 'binary:logistic' was changed from 'error' to 'logloss'. Explicitly set eval_metric if you'd like to restore the old behavior.\n",
      "[22:37:48] WARNING: ../src/learner.cc:1115: Starting in XGBoost 1.3.0, the default evaluation metric used with the objective 'binary:logistic' was changed from 'error' to 'logloss'. Explicitly set eval_metric if you'd like to restore the old behavior.\n",
      "xgb [0.27692308 0.34210526 0.17142857] average score: 26.3%\n",
      "knn [0.         0.03703704 0.        ] average score: 1.2%\n"
     ]
    }
   ],
   "source": [
    "train_features, val_features, train_target, val_target = train_test_split(model_features, features['makes_purchase'], test_size=0.2, random_state=RANDOM_STATE)\n",
    "\n",
    "for model_name, model in models.items():\n",
    "    kfold = KFold(n_splits=3, random_state=RANDOM_STATE, shuffle=True)\n",
    "    result = cross_val_score(model, train_features, train_target, cv=kfold, scoring='f1')\n",
    "    print(model_name, result, f'average score: {np.mean(result):.1%}')"
   ]
  },
  {
   "cell_type": "code",
   "execution_count": 64,
   "metadata": {},
   "outputs": [
    {
     "name": "stderr",
     "output_type": "stream",
     "text": [
      "/mnt/d/coding/git/TomaszKaleczyc/customer_order_prediction/environment/cust_venv/lib/python3.6/site-packages/xgboost/sklearn.py:1224: UserWarning: The use of label encoder in XGBClassifier is deprecated and will be removed in a future release. To remove this warning, do the following: 1) Pass option use_label_encoder=False when constructing XGBClassifier object; and 2) Encode your labels (y) as integers starting with 0, i.e. 0, 1, 2, ..., [num_class - 1].\n",
      "  warnings.warn(label_encoder_deprecation_msg, UserWarning)\n"
     ]
    },
    {
     "name": "stdout",
     "output_type": "stream",
     "text": [
      "[22:45:35] WARNING: ../src/learner.cc:1115: Starting in XGBoost 1.3.0, the default evaluation metric used with the objective 'binary:logistic' was changed from 'error' to 'logloss'. Explicitly set eval_metric if you'd like to restore the old behavior.\n"
     ]
    },
    {
     "data": {
      "text/plain": [
       "({'max_depth': 9, 'min_child_weight': 1}, 0.2386083743842365)"
      ]
     },
     "execution_count": 64,
     "metadata": {},
     "output_type": "execute_result"
    }
   ],
   "source": [
    "parameters = {\n",
    "    'max_depth': range(3, 10, 2),\n",
    "    'min_child_weight': range(1, 6, 2),\n",
    "}\n",
    "\n",
    "grid_search = GridSearchCV(\n",
    "    estimator=xgb.XGBClassifier(),\n",
    "    param_grid=parameters,\n",
    "    scoring='f1',\n",
    "    n_jobs=-1,\n",
    "    cv=2\n",
    "    )\n",
    "\n",
    "grid_search.fit(train_features, train_target)\n",
    "grid_search.best_params_, grid_search.best_score_\n"
   ]
  },
  {
   "cell_type": "markdown",
   "metadata": {},
   "source": [
    "## Evaluation"
   ]
  },
  {
   "cell_type": "code",
   "execution_count": 70,
   "metadata": {},
   "outputs": [
    {
     "name": "stdout",
     "output_type": "stream",
     "text": [
      "[22:50:02] WARNING: ../src/learner.cc:1115: Starting in XGBoost 1.3.0, the default evaluation metric used with the objective 'binary:logistic' was changed from 'error' to 'logloss'. Explicitly set eval_metric if you'd like to restore the old behavior.\n"
     ]
    },
    {
     "data": {
      "text/plain": [
       "0.9903614457831326"
      ]
     },
     "execution_count": 70,
     "metadata": {},
     "output_type": "execute_result"
    }
   ],
   "source": [
    "xgb_model = xgb.XGBClassifier(max_depth=9, min_child_weight=1).fit(train_features, train_target)\n",
    "xgb_model.score(val_features, val_target)"
   ]
  },
  {
   "cell_type": "code",
   "execution_count": 78,
   "metadata": {},
   "outputs": [
    {
     "data": {
      "text/plain": [
       "0.3846153846153846"
      ]
     },
     "execution_count": 78,
     "metadata": {},
     "output_type": "execute_result"
    }
   ],
   "source": [
    "val_predictions = xgb_model.predict(val_features)\n",
    "f1_score(val_target, val_predictions)"
   ]
  },
  {
   "cell_type": "code",
   "execution_count": 81,
   "metadata": {},
   "outputs": [
    {
     "data": {
      "image/png": "[encoded data removed]",
      "text/plain": [
       "<Figure size 432x288 with 2 Axes>"
      ]
     },
     "metadata": {
      "needs_background": "light"
     },
     "output_type": "display_data"
    }
   ],
   "source": [
    "sns.heatmap(confusion_matrix(val_target, val_predictions), annot=True);"
   ]
  },
  {
   "cell_type": "markdown",
   "metadata": {},
   "source": [
    "**Feature importance**"
   ]
  },
  {
   "cell_type": "code",
   "execution_count": 103,
   "metadata": {},
   "outputs": [],
   "source": [
    "def show_feature_importance(\n",
    "        feature_importances: ndarray, \n",
    "        model_features: DataFrame, \n",
    "        top_features: int = 10\n",
    "        ) -> None:\n",
    "    \"\"\"\n",
    "    Displays feature importance results\n",
    "    \"\"\"\n",
    "    mapped_feature_importances = [\n",
    "        (feature_name, feature_importance ) \n",
    "        for feature_name, feature_importance in zip(model_features.columns, feature_importances)\n",
    "        ]\n",
    "    sorted_feature_importances = sorted(mapped_feature_importances, key=lambda x: x[1], reverse=True)[:top_features]\n",
    "\n",
    "    for feature_name, feature_score in sorted_feature_importances:\n",
    "        print(f'{feature_name}: {feature_score:.2f}')\n",
    "\n",
    "    top_feature_names = [feature[0] for feature in sorted_feature_importances]\n",
    "    top_feature_scores = [feature[1] for feature in sorted_feature_importances]\n",
    "\n",
    "    plt.figure(figsize=(20,10))\n",
    "    plt.barh(range(len(top_feature_scores)), top_feature_scores)\n",
    "    plt.yticks(np.arange(len(top_feature_names)), top_feature_names)\n",
    "    plt.show()"
   ]
  },
  {
   "cell_type": "markdown",
   "metadata": {},
   "source": [
    "Model:"
   ]
  },
  {
   "cell_type": "code",
   "execution_count": 104,
   "metadata": {},
   "outputs": [
    {
     "name": "stdout",
     "output_type": "stream",
     "text": [
      "segment_3: 0.14\n",
      "recency_score_3: 0.08\n",
      "rfm_score_2: 0.06\n",
      "recency_score_1: 0.05\n",
      "recency_score_2: 0.05\n",
      "segment_11: 0.04\n",
      "segment_7: 0.03\n",
      "billing_zip_stem_84: 0.02\n",
      "frequency_score_1: 0.02\n",
      "rfm_score_7: 0.02\n"
     ]
    },
    {
     "data": {
      "image/png": "[encoded data removed]",
      "text/plain": [
       "<Figure size 1440x720 with 1 Axes>"
      ]
     },
     "metadata": {
      "needs_background": "light"
     },
     "output_type": "display_data"
    }
   ],
   "source": [
    "feature_importances = xgb_model.feature_importances_\n",
    "show_feature_importance(feature_importances, model_features)\n"
   ]
  },
  {
   "cell_type": "markdown",
   "metadata": {},
   "source": [
    "Permutation:"
   ]
  },
  {
   "cell_type": "code",
   "execution_count": 100,
   "metadata": {},
   "outputs": [
    {
     "name": "stdout",
     "output_type": "stream",
     "text": [
      "segment_11: 0.26\n",
      "segment_3: 0.21\n",
      "recency: 0.14\n",
      "frequency: 0.14\n",
      "recency_score_3: 0.08\n",
      "rfm_score_4: 0.06\n",
      "billing_zip_stem_30: 0.06\n",
      "recency_score_2: 0.05\n",
      "segment_6: 0.05\n",
      "rfm_score_2: 0.04\n"
     ]
    },
    {
     "data": {
      "image/png": "[encoded data removed]",
      "text/plain": [
       "<Figure size 1440x720 with 1 Axes>"
      ]
     },
     "metadata": {
      "needs_background": "light"
     },
     "output_type": "display_data"
    }
   ],
   "source": [
    "results = permutation_importance(xgb_model, val_features, val_target, scoring='f1')\n",
    "feature_importances = results.importances_mean\n",
    "show_feature_importance(feature_importances, model_features)"
   ]
  },
  {
   "cell_type": "code",
   "execution_count": null,
   "metadata": {},
   "outputs": [],
   "source": []
  }
 ],
 "metadata": {
  "interpreter": {
   "hash": "4835e86702a3e79fcfc32bea8cbbbe234fde879c3d6ba7901d78455143f2ad51"
  },
  "kernelspec": {
   "display_name": "Python 3.6.9 ('cust_venv')",
   "language": "python",
   "name": "python3"
  },
  "language_info": {
   "codemirror_mode": {
    "name": "ipython",
    "version": 3
   },
   "file_extension": ".py",
   "mimetype": "text/x-python",
   "name": "python",
   "nbconvert_exporter": "python",
   "pygments_lexer": "ipython3",
   "version": "3.6.9"
  },
  "orig_nbformat": 4
 },
 "nbformat": 4,
 "nbformat_minor": 2
}
