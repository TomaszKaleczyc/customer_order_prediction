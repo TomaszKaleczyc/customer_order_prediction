{
 "cells": [
  {
   "cell_type": "markdown",
   "metadata": {},
   "source": []
  },
  {
   "cell_type": "markdown",
   "metadata": {},
   "source": [
    "## Imports"
   ]
  },
  {
   "cell_type": "code",
   "execution_count": 32,
   "metadata": {},
   "outputs": [
    {
     "name": "stdout",
     "output_type": "stream",
     "text": [
      "The autoreload extension is already loaded. To reload it, use:\n",
      "  %reload_ext autoreload\n"
     ]
    }
   ],
   "source": [
    "%load_ext autoreload\n",
    "%autoreload 2\n",
    "\n",
    "from matplotlib import pyplot as plt\n",
    "import pandas as pd\n",
    "from pandas import DataFrame\n",
    "import seaborn as sns\n",
    "\n",
    "from utilities import df_utils, clustering_utils"
   ]
  },
  {
   "cell_type": "code",
   "execution_count": 2,
   "metadata": {},
   "outputs": [
    {
     "data": {
      "text/plain": [
       "(26513, 10)"
      ]
     },
     "metadata": {},
     "output_type": "display_data"
    },
    {
     "data": {
      "text/plain": [
       "Index(['order_id', 'customer_id', 'created_at', 'total_price', 'shipping_zip',\n",
       "       'billing_zip', 'segment', 'year', 'month', 'yearmonth'],\n",
       "      dtype='object')"
      ]
     },
     "metadata": {},
     "output_type": "display_data"
    },
    {
     "data": {
      "text/html": [
       "<div>\n",
       "<style scoped>\n",
       "    .dataframe tbody tr th:only-of-type {\n",
       "        vertical-align: middle;\n",
       "    }\n",
       "\n",
       "    .dataframe tbody tr th {\n",
       "        vertical-align: top;\n",
       "    }\n",
       "\n",
       "    .dataframe thead th {\n",
       "        text-align: right;\n",
       "    }\n",
       "</style>\n",
       "<table border=\"1\" class=\"dataframe\">\n",
       "  <thead>\n",
       "    <tr style=\"text-align: right;\">\n",
       "      <th></th>\n",
       "      <th>order_id</th>\n",
       "      <th>customer_id</th>\n",
       "      <th>created_at</th>\n",
       "      <th>total_price</th>\n",
       "      <th>shipping_zip</th>\n",
       "      <th>billing_zip</th>\n",
       "      <th>segment</th>\n",
       "      <th>year</th>\n",
       "      <th>month</th>\n",
       "      <th>yearmonth</th>\n",
       "    </tr>\n",
       "  </thead>\n",
       "  <tbody>\n",
       "    <tr>\n",
       "      <th>0</th>\n",
       "      <td>1158820823102</td>\n",
       "      <td>1399261528126</td>\n",
       "      <td>2019-08-13 03:08:30</td>\n",
       "      <td>3192.00</td>\n",
       "      <td>8700</td>\n",
       "      <td>8700</td>\n",
       "      <td>4</td>\n",
       "      <td>2019</td>\n",
       "      <td>8</td>\n",
       "      <td>201908</td>\n",
       "    </tr>\n",
       "    <tr>\n",
       "      <th>1</th>\n",
       "      <td>1856685080638</td>\n",
       "      <td>2733349404734</td>\n",
       "      <td>2019-11-07 06:17:09</td>\n",
       "      <td>135.15</td>\n",
       "      <td>9000</td>\n",
       "      <td>9000</td>\n",
       "      <td>3</td>\n",
       "      <td>2019</td>\n",
       "      <td>11</td>\n",
       "      <td>201911</td>\n",
       "    </tr>\n",
       "    <tr>\n",
       "      <th>2</th>\n",
       "      <td>1994825334846</td>\n",
       "      <td>2862876164158</td>\n",
       "      <td>2019-12-25 14:47:26</td>\n",
       "      <td>288.00</td>\n",
       "      <td>8722</td>\n",
       "      <td>8722</td>\n",
       "      <td>3</td>\n",
       "      <td>2019</td>\n",
       "      <td>12</td>\n",
       "      <td>201912</td>\n",
       "    </tr>\n",
       "    <tr>\n",
       "      <th>3</th>\n",
       "      <td>2116997972030</td>\n",
       "      <td>2888199700542</td>\n",
       "      <td>2020-02-20 09:15:17</td>\n",
       "      <td>237.00</td>\n",
       "      <td>3650</td>\n",
       "      <td>3650</td>\n",
       "      <td>6</td>\n",
       "      <td>2020</td>\n",
       "      <td>2</td>\n",
       "      <td>202002</td>\n",
       "    </tr>\n",
       "    <tr>\n",
       "      <th>4</th>\n",
       "      <td>2155705139262</td>\n",
       "      <td>2992745709630</td>\n",
       "      <td>2020-03-13 22:57:46</td>\n",
       "      <td>208.00</td>\n",
       "      <td>9900</td>\n",
       "      <td>9900</td>\n",
       "      <td>3</td>\n",
       "      <td>2020</td>\n",
       "      <td>3</td>\n",
       "      <td>202003</td>\n",
       "    </tr>\n",
       "  </tbody>\n",
       "</table>\n",
       "</div>"
      ],
      "text/plain": [
       "        order_id    customer_id          created_at  total_price shipping_zip  \\\n",
       "0  1158820823102  1399261528126 2019-08-13 03:08:30      3192.00         8700   \n",
       "1  1856685080638  2733349404734 2019-11-07 06:17:09       135.15         9000   \n",
       "2  1994825334846  2862876164158 2019-12-25 14:47:26       288.00         8722   \n",
       "3  2116997972030  2888199700542 2020-02-20 09:15:17       237.00         3650   \n",
       "4  2155705139262  2992745709630 2020-03-13 22:57:46       208.00         9900   \n",
       "\n",
       "  billing_zip  segment  year  month  yearmonth  \n",
       "0        8700        4  2019      8     201908  \n",
       "1        9000        3  2019     11     201911  \n",
       "2        8722        3  2019     12     201912  \n",
       "3        3650        6  2020      2     202002  \n",
       "4        9900        3  2020      3     202003  "
      ]
     },
     "metadata": {},
     "output_type": "display_data"
    }
   ],
   "source": [
    "data_path = '../data/raw_data.csv'\n",
    "\n",
    "df = pd.read_csv(data_path)\n",
    "df['created_at'] = pd.to_datetime(df['created_at'])\n",
    "intervals = ['year', 'month']\n",
    "for interval in intervals:\n",
    "    df[interval] = getattr(df['created_at'].dt, interval)\n",
    "df['yearmonth'] = df['year'] * 100 + df['month']\n",
    "df_utils.df_summarise(df)"
   ]
  },
  {
   "cell_type": "markdown",
   "metadata": {},
   "source": [
    "## Data split"
   ]
  },
  {
   "cell_type": "markdown",
   "metadata": {},
   "source": [
    "* for `next` use only June - exclude August"
   ]
  },
  {
   "cell_type": "code",
   "execution_count": 3,
   "metadata": {},
   "outputs": [
    {
     "data": {
      "text/plain": [
       "(2907, 10)"
      ]
     },
     "metadata": {},
     "output_type": "display_data"
    },
    {
     "data": {
      "text/plain": [
       "Index(['order_id', 'customer_id', 'created_at', 'total_price', 'shipping_zip',\n",
       "       'billing_zip', 'segment', 'year', 'month', 'yearmonth'],\n",
       "      dtype='object')"
      ]
     },
     "metadata": {},
     "output_type": "display_data"
    },
    {
     "data": {
      "text/html": [
       "<div>\n",
       "<style scoped>\n",
       "    .dataframe tbody tr th:only-of-type {\n",
       "        vertical-align: middle;\n",
       "    }\n",
       "\n",
       "    .dataframe tbody tr th {\n",
       "        vertical-align: top;\n",
       "    }\n",
       "\n",
       "    .dataframe thead th {\n",
       "        text-align: right;\n",
       "    }\n",
       "</style>\n",
       "<table border=\"1\" class=\"dataframe\">\n",
       "  <thead>\n",
       "    <tr style=\"text-align: right;\">\n",
       "      <th></th>\n",
       "      <th>order_id</th>\n",
       "      <th>customer_id</th>\n",
       "      <th>created_at</th>\n",
       "      <th>total_price</th>\n",
       "      <th>shipping_zip</th>\n",
       "      <th>billing_zip</th>\n",
       "      <th>segment</th>\n",
       "      <th>year</th>\n",
       "      <th>month</th>\n",
       "      <th>yearmonth</th>\n",
       "    </tr>\n",
       "  </thead>\n",
       "  <tbody>\n",
       "    <tr>\n",
       "      <th>22480</th>\n",
       "      <td>3977821880382</td>\n",
       "      <td>1389230620734</td>\n",
       "      <td>2021-07-01 03:17:40</td>\n",
       "      <td>260.00</td>\n",
       "      <td>2650</td>\n",
       "      <td>2650</td>\n",
       "      <td>11</td>\n",
       "      <td>2021</td>\n",
       "      <td>7</td>\n",
       "      <td>202107</td>\n",
       "    </tr>\n",
       "    <tr>\n",
       "      <th>22481</th>\n",
       "      <td>3977884926014</td>\n",
       "      <td>1390240825406</td>\n",
       "      <td>2021-07-01 04:10:33</td>\n",
       "      <td>229.00</td>\n",
       "      <td>4600</td>\n",
       "      <td>4600</td>\n",
       "      <td>11</td>\n",
       "      <td>2021</td>\n",
       "      <td>7</td>\n",
       "      <td>202107</td>\n",
       "    </tr>\n",
       "    <tr>\n",
       "      <th>22482</th>\n",
       "      <td>3977908781118</td>\n",
       "      <td>1390033174590</td>\n",
       "      <td>2021-07-01 04:30:48</td>\n",
       "      <td>294.35</td>\n",
       "      <td>5580</td>\n",
       "      <td>5580</td>\n",
       "      <td>11</td>\n",
       "      <td>2021</td>\n",
       "      <td>7</td>\n",
       "      <td>202107</td>\n",
       "    </tr>\n",
       "    <tr>\n",
       "      <th>22483</th>\n",
       "      <td>3977954590782</td>\n",
       "      <td>5215938052158</td>\n",
       "      <td>2021-07-01 04:57:14</td>\n",
       "      <td>323.00</td>\n",
       "      <td>2980</td>\n",
       "      <td>2980</td>\n",
       "      <td>11</td>\n",
       "      <td>2021</td>\n",
       "      <td>7</td>\n",
       "      <td>202107</td>\n",
       "    </tr>\n",
       "    <tr>\n",
       "      <th>22484</th>\n",
       "      <td>3977988440126</td>\n",
       "      <td>5215963578430</td>\n",
       "      <td>2021-07-01 05:28:30</td>\n",
       "      <td>118.00</td>\n",
       "      <td>7400</td>\n",
       "      <td>7400</td>\n",
       "      <td>11</td>\n",
       "      <td>2021</td>\n",
       "      <td>7</td>\n",
       "      <td>202107</td>\n",
       "    </tr>\n",
       "  </tbody>\n",
       "</table>\n",
       "</div>"
      ],
      "text/plain": [
       "            order_id    customer_id          created_at  total_price  \\\n",
       "22480  3977821880382  1389230620734 2021-07-01 03:17:40       260.00   \n",
       "22481  3977884926014  1390240825406 2021-07-01 04:10:33       229.00   \n",
       "22482  3977908781118  1390033174590 2021-07-01 04:30:48       294.35   \n",
       "22483  3977954590782  5215938052158 2021-07-01 04:57:14       323.00   \n",
       "22484  3977988440126  5215963578430 2021-07-01 05:28:30       118.00   \n",
       "\n",
       "      shipping_zip billing_zip  segment  year  month  yearmonth  \n",
       "22480         2650        2650       11  2021      7     202107  \n",
       "22481         4600        4600       11  2021      7     202107  \n",
       "22482         5580        5580       11  2021      7     202107  \n",
       "22483         2980        2980       11  2021      7     202107  \n",
       "22484         7400        7400       11  2021      7     202107  "
      ]
     },
     "metadata": {},
     "output_type": "display_data"
    }
   ],
   "source": [
    "prediction_window = df[\n",
    "    df['created_at'].between(\n",
    "        pd.Timestamp(2021, 7, 1),\n",
    "        pd.Timestamp(2021, 7, 30)\n",
    "    )\n",
    "].copy()\n",
    "df_utils.df_summarise(prediction_window)"
   ]
  },
  {
   "cell_type": "markdown",
   "metadata": {},
   "source": [
    "* for `dset` use 202010 - 202106"
   ]
  },
  {
   "cell_type": "code",
   "execution_count": 4,
   "metadata": {},
   "outputs": [
    {
     "data": {
      "text/plain": [
       "(22267, 10)"
      ]
     },
     "metadata": {},
     "output_type": "display_data"
    },
    {
     "data": {
      "text/plain": [
       "Index(['order_id', 'customer_id', 'created_at', 'total_price', 'shipping_zip',\n",
       "       'billing_zip', 'segment', 'year', 'month', 'yearmonth'],\n",
       "      dtype='object')"
      ]
     },
     "metadata": {},
     "output_type": "display_data"
    },
    {
     "data": {
      "text/html": [
       "<div>\n",
       "<style scoped>\n",
       "    .dataframe tbody tr th:only-of-type {\n",
       "        vertical-align: middle;\n",
       "    }\n",
       "\n",
       "    .dataframe tbody tr th {\n",
       "        vertical-align: top;\n",
       "    }\n",
       "\n",
       "    .dataframe thead th {\n",
       "        text-align: right;\n",
       "    }\n",
       "</style>\n",
       "<table border=\"1\" class=\"dataframe\">\n",
       "  <thead>\n",
       "    <tr style=\"text-align: right;\">\n",
       "      <th></th>\n",
       "      <th>order_id</th>\n",
       "      <th>customer_id</th>\n",
       "      <th>created_at</th>\n",
       "      <th>total_price</th>\n",
       "      <th>shipping_zip</th>\n",
       "      <th>billing_zip</th>\n",
       "      <th>segment</th>\n",
       "      <th>year</th>\n",
       "      <th>month</th>\n",
       "      <th>yearmonth</th>\n",
       "    </tr>\n",
       "  </thead>\n",
       "  <tbody>\n",
       "    <tr>\n",
       "      <th>63</th>\n",
       "      <td>2679892213822</td>\n",
       "      <td>3493717180478</td>\n",
       "      <td>2020-10-01 12:46:56</td>\n",
       "      <td>2445.00</td>\n",
       "      <td>8700</td>\n",
       "      <td>8700</td>\n",
       "      <td>3</td>\n",
       "      <td>2020</td>\n",
       "      <td>10</td>\n",
       "      <td>202010</td>\n",
       "    </tr>\n",
       "    <tr>\n",
       "      <th>64</th>\n",
       "      <td>2679964860478</td>\n",
       "      <td>3493777768510</td>\n",
       "      <td>2020-10-01 13:32:38</td>\n",
       "      <td>448.00</td>\n",
       "      <td>5000</td>\n",
       "      <td>5000</td>\n",
       "      <td>3</td>\n",
       "      <td>2020</td>\n",
       "      <td>10</td>\n",
       "      <td>202010</td>\n",
       "    </tr>\n",
       "    <tr>\n",
       "      <th>65</th>\n",
       "      <td>2679974887486</td>\n",
       "      <td>3490993078334</td>\n",
       "      <td>2020-10-01 13:38:06</td>\n",
       "      <td>2293.60</td>\n",
       "      <td>6000</td>\n",
       "      <td>6000</td>\n",
       "      <td>3</td>\n",
       "      <td>2020</td>\n",
       "      <td>10</td>\n",
       "      <td>202010</td>\n",
       "    </tr>\n",
       "    <tr>\n",
       "      <th>66</th>\n",
       "      <td>2680064802878</td>\n",
       "      <td>3433191145534</td>\n",
       "      <td>2020-10-01 14:28:48</td>\n",
       "      <td>438.95</td>\n",
       "      <td>2800</td>\n",
       "      <td>2800</td>\n",
       "      <td>3</td>\n",
       "      <td>2020</td>\n",
       "      <td>10</td>\n",
       "      <td>202010</td>\n",
       "    </tr>\n",
       "    <tr>\n",
       "      <th>67</th>\n",
       "      <td>2680986140734</td>\n",
       "      <td>3494350880830</td>\n",
       "      <td>2020-10-01 21:11:57</td>\n",
       "      <td>399.05</td>\n",
       "      <td>2620</td>\n",
       "      <td>2620</td>\n",
       "      <td>3</td>\n",
       "      <td>2020</td>\n",
       "      <td>10</td>\n",
       "      <td>202010</td>\n",
       "    </tr>\n",
       "  </tbody>\n",
       "</table>\n",
       "</div>"
      ],
      "text/plain": [
       "         order_id    customer_id          created_at  total_price  \\\n",
       "63  2679892213822  3493717180478 2020-10-01 12:46:56      2445.00   \n",
       "64  2679964860478  3493777768510 2020-10-01 13:32:38       448.00   \n",
       "65  2679974887486  3490993078334 2020-10-01 13:38:06      2293.60   \n",
       "66  2680064802878  3433191145534 2020-10-01 14:28:48       438.95   \n",
       "67  2680986140734  3494350880830 2020-10-01 21:11:57       399.05   \n",
       "\n",
       "   shipping_zip billing_zip  segment  year  month  yearmonth  \n",
       "63         8700        8700        3  2020     10     202010  \n",
       "64         5000        5000        3  2020     10     202010  \n",
       "65         6000        6000        3  2020     10     202010  \n",
       "66         2800        2800        3  2020     10     202010  \n",
       "67         2620        2620        3  2020     10     202010  "
      ]
     },
     "metadata": {},
     "output_type": "display_data"
    }
   ],
   "source": [
    "behaviour_dataset = df[\n",
    "    df['created_at'].between(\n",
    "        pd.Timestamp(2020, 10, 1),\n",
    "        pd.Timestamp(2021, 6, 30)\n",
    "    )\n",
    "].copy()\n",
    "df_utils.df_summarise(behaviour_dataset)"
   ]
  },
  {
   "cell_type": "code",
   "execution_count": 5,
   "metadata": {},
   "outputs": [],
   "source": [
    "customer_behaviour = behaviour_dataset.groupby('customer_id')"
   ]
  },
  {
   "cell_type": "code",
   "execution_count": 6,
   "metadata": {},
   "outputs": [
    {
     "data": {
      "text/plain": [
       "16599"
      ]
     },
     "execution_count": 6,
     "metadata": {},
     "output_type": "execute_result"
    }
   ],
   "source": [
    "customers = pd.DataFrame(behaviour_dataset['customer_id'].unique(), columns=['customer_id'])\n",
    "len(customers)"
   ]
  },
  {
   "cell_type": "code",
   "execution_count": 7,
   "metadata": {},
   "outputs": [
    {
     "data": {
      "text/plain": [
       "count    16599.000000\n",
       "mean         0.011326\n",
       "std          0.105822\n",
       "min          0.000000\n",
       "25%          0.000000\n",
       "50%          0.000000\n",
       "75%          0.000000\n",
       "max          1.000000\n",
       "Name: makes_purchase, dtype: float64"
      ]
     },
     "execution_count": 7,
     "metadata": {},
     "output_type": "execute_result"
    }
   ],
   "source": [
    "customers['makes_purchase'] = customers['customer_id'].isin(prediction_window['customer_id'].unique()).astype(int)\n",
    "customers['makes_purchase'].describe()"
   ]
  },
  {
   "cell_type": "markdown",
   "metadata": {},
   "source": [
    "### RFM"
   ]
  },
  {
   "cell_type": "markdown",
   "metadata": {},
   "source": [
    "**Recency**"
   ]
  },
  {
   "cell_type": "code",
   "execution_count": 8,
   "metadata": {},
   "outputs": [
    {
     "data": {
      "text/plain": [
       "(16599, 3)"
      ]
     },
     "metadata": {},
     "output_type": "display_data"
    },
    {
     "data": {
      "text/plain": [
       "Index(['customer_id', 'last_transaction_date', 'recency'], dtype='object')"
      ]
     },
     "metadata": {},
     "output_type": "display_data"
    },
    {
     "data": {
      "text/html": [
       "<div>\n",
       "<style scoped>\n",
       "    .dataframe tbody tr th:only-of-type {\n",
       "        vertical-align: middle;\n",
       "    }\n",
       "\n",
       "    .dataframe tbody tr th {\n",
       "        vertical-align: top;\n",
       "    }\n",
       "\n",
       "    .dataframe thead th {\n",
       "        text-align: right;\n",
       "    }\n",
       "</style>\n",
       "<table border=\"1\" class=\"dataframe\">\n",
       "  <thead>\n",
       "    <tr style=\"text-align: right;\">\n",
       "      <th></th>\n",
       "      <th>customer_id</th>\n",
       "      <th>last_transaction_date</th>\n",
       "      <th>recency</th>\n",
       "    </tr>\n",
       "  </thead>\n",
       "  <tbody>\n",
       "    <tr>\n",
       "      <th>0</th>\n",
       "      <td>1385018720318</td>\n",
       "      <td>2021-06-15 08:39:50</td>\n",
       "      <td>14</td>\n",
       "    </tr>\n",
       "    <tr>\n",
       "      <th>1</th>\n",
       "      <td>1388893896766</td>\n",
       "      <td>2020-12-10 11:03:06</td>\n",
       "      <td>201</td>\n",
       "    </tr>\n",
       "    <tr>\n",
       "      <th>2</th>\n",
       "      <td>1388896190526</td>\n",
       "      <td>2020-11-14 10:07:51</td>\n",
       "      <td>227</td>\n",
       "    </tr>\n",
       "    <tr>\n",
       "      <th>3</th>\n",
       "      <td>1388901335102</td>\n",
       "      <td>2021-01-29 08:04:07</td>\n",
       "      <td>151</td>\n",
       "    </tr>\n",
       "    <tr>\n",
       "      <th>4</th>\n",
       "      <td>1388901859390</td>\n",
       "      <td>2021-06-08 05:39:32</td>\n",
       "      <td>21</td>\n",
       "    </tr>\n",
       "  </tbody>\n",
       "</table>\n",
       "</div>"
      ],
      "text/plain": [
       "     customer_id last_transaction_date  recency\n",
       "0  1385018720318   2021-06-15 08:39:50       14\n",
       "1  1388893896766   2020-12-10 11:03:06      201\n",
       "2  1388896190526   2020-11-14 10:07:51      227\n",
       "3  1388901335102   2021-01-29 08:04:07      151\n",
       "4  1388901859390   2021-06-08 05:39:32       21"
      ]
     },
     "metadata": {},
     "output_type": "display_data"
    }
   ],
   "source": [
    "last_customer_transaction = (customer_behaviour\n",
    "                                ['created_at'].max()\n",
    "                                .reset_index()\n",
    "                                .rename(columns={'created_at': 'last_transaction_date'}))\n",
    "\n",
    "last_customer_transaction['recency'] = (\n",
    "    last_customer_transaction['last_transaction_date'].max() - last_customer_transaction['last_transaction_date']\n",
    "    ).dt.days\n",
    "\n",
    "df_utils.df_summarise(last_customer_transaction)"
   ]
  },
  {
   "cell_type": "code",
   "execution_count": 9,
   "metadata": {},
   "outputs": [
    {
     "data": {
      "text/plain": [
       "count    16599.000000\n",
       "mean       143.816073\n",
       "std         72.760413\n",
       "min          0.000000\n",
       "25%         85.000000\n",
       "50%        159.000000\n",
       "75%        209.000000\n",
       "max        271.000000\n",
       "Name: recency, dtype: float64"
      ]
     },
     "metadata": {},
     "output_type": "display_data"
    },
    {
     "data": {
      "image/png": "[encoded data removed]",
      "text/plain": [
       "<Figure size 432x288 with 1 Axes>"
      ]
     },
     "metadata": {
      "needs_background": "light"
     },
     "output_type": "display_data"
    }
   ],
   "source": [
    "df_utils.show_stats(last_customer_transaction, 'recency')"
   ]
  },
  {
   "cell_type": "code",
   "execution_count": 10,
   "metadata": {},
   "outputs": [
    {
     "data": {
      "image/png": "[encoded data removed]",
      "text/plain": [
       "<Figure size 432x288 with 1 Axes>"
      ]
     },
     "metadata": {
      "needs_background": "light"
     },
     "output_type": "display_data"
    }
   ],
   "source": [
    "clustering_utils.plot_kmeans_elbow(last_customer_transaction[['recency']])"
   ]
  },
  {
   "cell_type": "code",
   "execution_count": 11,
   "metadata": {},
   "outputs": [
    {
     "data": {
      "text/html": [
       "<div>\n",
       "<style scoped>\n",
       "    .dataframe tbody tr th:only-of-type {\n",
       "        vertical-align: middle;\n",
       "    }\n",
       "\n",
       "    .dataframe tbody tr th {\n",
       "        vertical-align: top;\n",
       "    }\n",
       "\n",
       "    .dataframe thead th {\n",
       "        text-align: right;\n",
       "    }\n",
       "</style>\n",
       "<table border=\"1\" class=\"dataframe\">\n",
       "  <thead>\n",
       "    <tr style=\"text-align: right;\">\n",
       "      <th></th>\n",
       "      <th>count</th>\n",
       "      <th>mean</th>\n",
       "      <th>std</th>\n",
       "      <th>min</th>\n",
       "      <th>25%</th>\n",
       "      <th>50%</th>\n",
       "      <th>75%</th>\n",
       "      <th>max</th>\n",
       "    </tr>\n",
       "    <tr>\n",
       "      <th>recency_score</th>\n",
       "      <th></th>\n",
       "      <th></th>\n",
       "      <th></th>\n",
       "      <th></th>\n",
       "      <th></th>\n",
       "      <th></th>\n",
       "      <th></th>\n",
       "      <th></th>\n",
       "    </tr>\n",
       "  </thead>\n",
       "  <tbody>\n",
       "    <tr>\n",
       "      <th>0</th>\n",
       "      <td>5301.0</td>\n",
       "      <td>222.893982</td>\n",
       "      <td>18.738943</td>\n",
       "      <td>195.0</td>\n",
       "      <td>211.0</td>\n",
       "      <td>217.0</td>\n",
       "      <td>235.0</td>\n",
       "      <td>271.0</td>\n",
       "    </tr>\n",
       "    <tr>\n",
       "      <th>1</th>\n",
       "      <td>4526.0</td>\n",
       "      <td>165.880027</td>\n",
       "      <td>16.933055</td>\n",
       "      <td>132.0</td>\n",
       "      <td>152.0</td>\n",
       "      <td>165.0</td>\n",
       "      <td>179.0</td>\n",
       "      <td>194.0</td>\n",
       "    </tr>\n",
       "    <tr>\n",
       "      <th>2</th>\n",
       "      <td>3773.0</td>\n",
       "      <td>96.483965</td>\n",
       "      <td>18.015504</td>\n",
       "      <td>64.0</td>\n",
       "      <td>81.0</td>\n",
       "      <td>99.0</td>\n",
       "      <td>111.0</td>\n",
       "      <td>131.0</td>\n",
       "    </tr>\n",
       "    <tr>\n",
       "      <th>3</th>\n",
       "      <td>2999.0</td>\n",
       "      <td>30.288429</td>\n",
       "      <td>18.541944</td>\n",
       "      <td>0.0</td>\n",
       "      <td>14.0</td>\n",
       "      <td>28.0</td>\n",
       "      <td>46.0</td>\n",
       "      <td>63.0</td>\n",
       "    </tr>\n",
       "  </tbody>\n",
       "</table>\n",
       "</div>"
      ],
      "text/plain": [
       "                count        mean        std    min    25%    50%    75%  \\\n",
       "recency_score                                                              \n",
       "0              5301.0  222.893982  18.738943  195.0  211.0  217.0  235.0   \n",
       "1              4526.0  165.880027  16.933055  132.0  152.0  165.0  179.0   \n",
       "2              3773.0   96.483965  18.015504   64.0   81.0   99.0  111.0   \n",
       "3              2999.0   30.288429  18.541944    0.0   14.0   28.0   46.0   \n",
       "\n",
       "                 max  \n",
       "recency_score         \n",
       "0              271.0  \n",
       "1              194.0  \n",
       "2              131.0  \n",
       "3               63.0  "
      ]
     },
     "metadata": {},
     "output_type": "display_data"
    }
   ],
   "source": [
    "recency_df = clustering_utils.ordered_clustering(\n",
    "    last_customer_transaction,\n",
    "    n_clusters=4,\n",
    "    cluster_by_column_name='recency', \n",
    "    ascending=False\n",
    "    )"
   ]
  },
  {
   "cell_type": "markdown",
   "metadata": {},
   "source": [
    "**Frequency**"
   ]
  },
  {
   "cell_type": "code",
   "execution_count": 12,
   "metadata": {},
   "outputs": [
    {
     "data": {
      "text/plain": [
       "(16599, 2)"
      ]
     },
     "metadata": {},
     "output_type": "display_data"
    },
    {
     "data": {
      "text/plain": [
       "Index(['customer_id', 'frequency'], dtype='object')"
      ]
     },
     "metadata": {},
     "output_type": "display_data"
    },
    {
     "data": {
      "text/html": [
       "<div>\n",
       "<style scoped>\n",
       "    .dataframe tbody tr th:only-of-type {\n",
       "        vertical-align: middle;\n",
       "    }\n",
       "\n",
       "    .dataframe tbody tr th {\n",
       "        vertical-align: top;\n",
       "    }\n",
       "\n",
       "    .dataframe thead th {\n",
       "        text-align: right;\n",
       "    }\n",
       "</style>\n",
       "<table border=\"1\" class=\"dataframe\">\n",
       "  <thead>\n",
       "    <tr style=\"text-align: right;\">\n",
       "      <th></th>\n",
       "      <th>customer_id</th>\n",
       "      <th>frequency</th>\n",
       "    </tr>\n",
       "  </thead>\n",
       "  <tbody>\n",
       "    <tr>\n",
       "      <th>0</th>\n",
       "      <td>1385018720318</td>\n",
       "      <td>1</td>\n",
       "    </tr>\n",
       "    <tr>\n",
       "      <th>1</th>\n",
       "      <td>1388893896766</td>\n",
       "      <td>1</td>\n",
       "    </tr>\n",
       "    <tr>\n",
       "      <th>2</th>\n",
       "      <td>1388896190526</td>\n",
       "      <td>1</td>\n",
       "    </tr>\n",
       "    <tr>\n",
       "      <th>3</th>\n",
       "      <td>1388901335102</td>\n",
       "      <td>1</td>\n",
       "    </tr>\n",
       "    <tr>\n",
       "      <th>4</th>\n",
       "      <td>1388901859390</td>\n",
       "      <td>2</td>\n",
       "    </tr>\n",
       "  </tbody>\n",
       "</table>\n",
       "</div>"
      ],
      "text/plain": [
       "     customer_id  frequency\n",
       "0  1385018720318          1\n",
       "1  1388893896766          1\n",
       "2  1388896190526          1\n",
       "3  1388901335102          1\n",
       "4  1388901859390          2"
      ]
     },
     "metadata": {},
     "output_type": "display_data"
    }
   ],
   "source": [
    "frequency = (\n",
    "    customer_behaviour\n",
    "        ['order_id'].count()\n",
    "        .reset_index()\n",
    "        .rename(columns={'order_id': 'frequency'})\n",
    "        )\n",
    "df_utils.df_summarise(frequency)"
   ]
  },
  {
   "cell_type": "code",
   "execution_count": 13,
   "metadata": {},
   "outputs": [
    {
     "data": {
      "text/plain": [
       "count    16599.000000\n",
       "mean         1.341466\n",
       "std          0.681312\n",
       "min          1.000000\n",
       "25%          1.000000\n",
       "50%          1.000000\n",
       "75%          2.000000\n",
       "max         16.000000\n",
       "Name: frequency, dtype: float64"
      ]
     },
     "metadata": {},
     "output_type": "display_data"
    },
    {
     "data": {
      "image/png": "[encoded data removed]",
      "text/plain": [
       "<Figure size 432x288 with 1 Axes>"
      ]
     },
     "metadata": {
      "needs_background": "light"
     },
     "output_type": "display_data"
    }
   ],
   "source": [
    "df_utils.show_stats(frequency, 'frequency')"
   ]
  },
  {
   "cell_type": "code",
   "execution_count": 14,
   "metadata": {},
   "outputs": [
    {
     "data": {
      "image/png": "[encoded data removed]",
      "text/plain": [
       "<Figure size 432x288 with 1 Axes>"
      ]
     },
     "metadata": {
      "needs_background": "light"
     },
     "output_type": "display_data"
    }
   ],
   "source": [
    "clustering_utils.plot_kmeans_elbow(frequency[['frequency']])"
   ]
  },
  {
   "cell_type": "code",
   "execution_count": 15,
   "metadata": {},
   "outputs": [
    {
     "data": {
      "text/html": [
       "<div>\n",
       "<style scoped>\n",
       "    .dataframe tbody tr th:only-of-type {\n",
       "        vertical-align: middle;\n",
       "    }\n",
       "\n",
       "    .dataframe tbody tr th {\n",
       "        vertical-align: top;\n",
       "    }\n",
       "\n",
       "    .dataframe thead th {\n",
       "        text-align: right;\n",
       "    }\n",
       "</style>\n",
       "<table border=\"1\" class=\"dataframe\">\n",
       "  <thead>\n",
       "    <tr style=\"text-align: right;\">\n",
       "      <th></th>\n",
       "      <th>count</th>\n",
       "      <th>mean</th>\n",
       "      <th>std</th>\n",
       "      <th>min</th>\n",
       "      <th>25%</th>\n",
       "      <th>50%</th>\n",
       "      <th>75%</th>\n",
       "      <th>max</th>\n",
       "    </tr>\n",
       "    <tr>\n",
       "      <th>frequency_score</th>\n",
       "      <th></th>\n",
       "      <th></th>\n",
       "      <th></th>\n",
       "      <th></th>\n",
       "      <th></th>\n",
       "      <th></th>\n",
       "      <th></th>\n",
       "      <th></th>\n",
       "    </tr>\n",
       "  </thead>\n",
       "  <tbody>\n",
       "    <tr>\n",
       "      <th>0</th>\n",
       "      <td>12134.0</td>\n",
       "      <td>1.000000</td>\n",
       "      <td>0.000000</td>\n",
       "      <td>1.0</td>\n",
       "      <td>1.0</td>\n",
       "      <td>1.0</td>\n",
       "      <td>1.0</td>\n",
       "      <td>1.0</td>\n",
       "    </tr>\n",
       "    <tr>\n",
       "      <th>1</th>\n",
       "      <td>3696.0</td>\n",
       "      <td>2.000000</td>\n",
       "      <td>0.000000</td>\n",
       "      <td>2.0</td>\n",
       "      <td>2.0</td>\n",
       "      <td>2.0</td>\n",
       "      <td>2.0</td>\n",
       "      <td>2.0</td>\n",
       "    </tr>\n",
       "    <tr>\n",
       "      <th>2</th>\n",
       "      <td>673.0</td>\n",
       "      <td>3.245171</td>\n",
       "      <td>0.430508</td>\n",
       "      <td>3.0</td>\n",
       "      <td>3.0</td>\n",
       "      <td>3.0</td>\n",
       "      <td>3.0</td>\n",
       "      <td>4.0</td>\n",
       "    </tr>\n",
       "    <tr>\n",
       "      <th>3</th>\n",
       "      <td>96.0</td>\n",
       "      <td>5.802083</td>\n",
       "      <td>1.498208</td>\n",
       "      <td>5.0</td>\n",
       "      <td>5.0</td>\n",
       "      <td>5.0</td>\n",
       "      <td>6.0</td>\n",
       "      <td>16.0</td>\n",
       "    </tr>\n",
       "  </tbody>\n",
       "</table>\n",
       "</div>"
      ],
      "text/plain": [
       "                   count      mean       std  min  25%  50%  75%   max\n",
       "frequency_score                                                       \n",
       "0                12134.0  1.000000  0.000000  1.0  1.0  1.0  1.0   1.0\n",
       "1                 3696.0  2.000000  0.000000  2.0  2.0  2.0  2.0   2.0\n",
       "2                  673.0  3.245171  0.430508  3.0  3.0  3.0  3.0   4.0\n",
       "3                   96.0  5.802083  1.498208  5.0  5.0  5.0  6.0  16.0"
      ]
     },
     "metadata": {},
     "output_type": "display_data"
    }
   ],
   "source": [
    "frequency_df = clustering_utils.ordered_clustering(\n",
    "    frequency,\n",
    "    n_clusters=4,\n",
    "    cluster_by_column_name='frequency', \n",
    "    ascending=True\n",
    "    )"
   ]
  },
  {
   "cell_type": "markdown",
   "metadata": {},
   "source": [
    "**Monetary**"
   ]
  },
  {
   "cell_type": "code",
   "execution_count": 16,
   "metadata": {},
   "outputs": [
    {
     "data": {
      "text/plain": [
       "(16599, 2)"
      ]
     },
     "metadata": {},
     "output_type": "display_data"
    },
    {
     "data": {
      "text/plain": [
       "Index(['customer_id', 'total_revenue'], dtype='object')"
      ]
     },
     "metadata": {},
     "output_type": "display_data"
    },
    {
     "data": {
      "text/html": [
       "<div>\n",
       "<style scoped>\n",
       "    .dataframe tbody tr th:only-of-type {\n",
       "        vertical-align: middle;\n",
       "    }\n",
       "\n",
       "    .dataframe tbody tr th {\n",
       "        vertical-align: top;\n",
       "    }\n",
       "\n",
       "    .dataframe thead th {\n",
       "        text-align: right;\n",
       "    }\n",
       "</style>\n",
       "<table border=\"1\" class=\"dataframe\">\n",
       "  <thead>\n",
       "    <tr style=\"text-align: right;\">\n",
       "      <th></th>\n",
       "      <th>customer_id</th>\n",
       "      <th>total_revenue</th>\n",
       "    </tr>\n",
       "  </thead>\n",
       "  <tbody>\n",
       "    <tr>\n",
       "      <th>0</th>\n",
       "      <td>1385018720318</td>\n",
       "      <td>0.0</td>\n",
       "    </tr>\n",
       "    <tr>\n",
       "      <th>1</th>\n",
       "      <td>1388893896766</td>\n",
       "      <td>158.0</td>\n",
       "    </tr>\n",
       "    <tr>\n",
       "      <th>2</th>\n",
       "      <td>1388896190526</td>\n",
       "      <td>208.0</td>\n",
       "    </tr>\n",
       "    <tr>\n",
       "      <th>3</th>\n",
       "      <td>1388901335102</td>\n",
       "      <td>54.2</td>\n",
       "    </tr>\n",
       "    <tr>\n",
       "      <th>4</th>\n",
       "      <td>1388901859390</td>\n",
       "      <td>356.0</td>\n",
       "    </tr>\n",
       "  </tbody>\n",
       "</table>\n",
       "</div>"
      ],
      "text/plain": [
       "     customer_id  total_revenue\n",
       "0  1385018720318            0.0\n",
       "1  1388893896766          158.0\n",
       "2  1388896190526          208.0\n",
       "3  1388901335102           54.2\n",
       "4  1388901859390          356.0"
      ]
     },
     "metadata": {},
     "output_type": "display_data"
    }
   ],
   "source": [
    "revenue = (customer_behaviour\n",
    "            ['total_price'].sum()\n",
    "            .reset_index()\n",
    "            .rename(columns={'total_price': 'total_revenue'})\n",
    "            )\n",
    "df_utils.df_summarise(revenue)"
   ]
  },
  {
   "cell_type": "code",
   "execution_count": 17,
   "metadata": {},
   "outputs": [
    {
     "data": {
      "text/plain": [
       "count    16599.000000\n",
       "mean       500.814159\n",
       "std        665.791340\n",
       "min          0.000000\n",
       "25%        193.990000\n",
       "50%        338.000000\n",
       "75%        580.200000\n",
       "max      35513.800000\n",
       "Name: total_revenue, dtype: float64"
      ]
     },
     "metadata": {},
     "output_type": "display_data"
    },
    {
     "data": {
      "image/png": "[encoded data removed]",
      "text/plain": [
       "<Figure size 432x288 with 1 Axes>"
      ]
     },
     "metadata": {
      "needs_background": "light"
     },
     "output_type": "display_data"
    }
   ],
   "source": [
    "df_utils.show_stats(revenue, 'total_revenue')"
   ]
  },
  {
   "cell_type": "code",
   "execution_count": 18,
   "metadata": {},
   "outputs": [
    {
     "data": {
      "image/png": "[encoded data removed]",
      "text/plain": [
       "<Figure size 432x288 with 1 Axes>"
      ]
     },
     "metadata": {
      "needs_background": "light"
     },
     "output_type": "display_data"
    }
   ],
   "source": [
    "clustering_utils.plot_kmeans_elbow(revenue[['total_revenue']])"
   ]
  },
  {
   "cell_type": "code",
   "execution_count": 19,
   "metadata": {},
   "outputs": [
    {
     "data": {
      "text/html": [
       "<div>\n",
       "<style scoped>\n",
       "    .dataframe tbody tr th:only-of-type {\n",
       "        vertical-align: middle;\n",
       "    }\n",
       "\n",
       "    .dataframe tbody tr th {\n",
       "        vertical-align: top;\n",
       "    }\n",
       "\n",
       "    .dataframe thead th {\n",
       "        text-align: right;\n",
       "    }\n",
       "</style>\n",
       "<table border=\"1\" class=\"dataframe\">\n",
       "  <thead>\n",
       "    <tr style=\"text-align: right;\">\n",
       "      <th></th>\n",
       "      <th>count</th>\n",
       "      <th>mean</th>\n",
       "      <th>std</th>\n",
       "      <th>min</th>\n",
       "      <th>25%</th>\n",
       "      <th>50%</th>\n",
       "      <th>75%</th>\n",
       "      <th>max</th>\n",
       "    </tr>\n",
       "    <tr>\n",
       "      <th>total_revenue_score</th>\n",
       "      <th></th>\n",
       "      <th></th>\n",
       "      <th></th>\n",
       "      <th></th>\n",
       "      <th></th>\n",
       "      <th></th>\n",
       "      <th></th>\n",
       "      <th></th>\n",
       "    </tr>\n",
       "  </thead>\n",
       "  <tbody>\n",
       "    <tr>\n",
       "      <th>0</th>\n",
       "      <td>14208.0</td>\n",
       "      <td>329.091425</td>\n",
       "      <td>179.636763</td>\n",
       "      <td>0.00</td>\n",
       "      <td>183.15</td>\n",
       "      <td>292.2</td>\n",
       "      <td>438.95</td>\n",
       "      <td>820.90</td>\n",
       "    </tr>\n",
       "    <tr>\n",
       "      <th>1</th>\n",
       "      <td>2260.0</td>\n",
       "      <td>1314.387173</td>\n",
       "      <td>487.205954</td>\n",
       "      <td>821.78</td>\n",
       "      <td>947.00</td>\n",
       "      <td>1116.0</td>\n",
       "      <td>1570.60</td>\n",
       "      <td>3010.58</td>\n",
       "    </tr>\n",
       "    <tr>\n",
       "      <th>2</th>\n",
       "      <td>129.0</td>\n",
       "      <td>4726.716744</td>\n",
       "      <td>1930.559600</td>\n",
       "      <td>3030.10</td>\n",
       "      <td>3410.50</td>\n",
       "      <td>3992.0</td>\n",
       "      <td>5189.60</td>\n",
       "      <td>13133.25</td>\n",
       "    </tr>\n",
       "    <tr>\n",
       "      <th>3</th>\n",
       "      <td>2.0</td>\n",
       "      <td>28510.900000</td>\n",
       "      <td>9903.596156</td>\n",
       "      <td>21508.00</td>\n",
       "      <td>25009.45</td>\n",
       "      <td>28510.9</td>\n",
       "      <td>32012.35</td>\n",
       "      <td>35513.80</td>\n",
       "    </tr>\n",
       "  </tbody>\n",
       "</table>\n",
       "</div>"
      ],
      "text/plain": [
       "                       count          mean          std       min       25%  \\\n",
       "total_revenue_score                                                           \n",
       "0                    14208.0    329.091425   179.636763      0.00    183.15   \n",
       "1                     2260.0   1314.387173   487.205954    821.78    947.00   \n",
       "2                      129.0   4726.716744  1930.559600   3030.10   3410.50   \n",
       "3                        2.0  28510.900000  9903.596156  21508.00  25009.45   \n",
       "\n",
       "                         50%       75%       max  \n",
       "total_revenue_score                               \n",
       "0                      292.2    438.95    820.90  \n",
       "1                     1116.0   1570.60   3010.58  \n",
       "2                     3992.0   5189.60  13133.25  \n",
       "3                    28510.9  32012.35  35513.80  "
      ]
     },
     "metadata": {},
     "output_type": "display_data"
    }
   ],
   "source": [
    "revenue_df = clustering_utils.ordered_clustering(\n",
    "    revenue,\n",
    "    n_clusters=4,\n",
    "    cluster_by_column_name='total_revenue', \n",
    "    ascending=True\n",
    "    )"
   ]
  },
  {
   "cell_type": "markdown",
   "metadata": {},
   "source": [
    "**RFM Score**"
   ]
  },
  {
   "cell_type": "code",
   "execution_count": 20,
   "metadata": {},
   "outputs": [
    {
     "data": {
      "text/html": [
       "<div>\n",
       "<style scoped>\n",
       "    .dataframe tbody tr th:only-of-type {\n",
       "        vertical-align: middle;\n",
       "    }\n",
       "\n",
       "    .dataframe tbody tr th {\n",
       "        vertical-align: top;\n",
       "    }\n",
       "\n",
       "    .dataframe thead tr th {\n",
       "        text-align: left;\n",
       "    }\n",
       "\n",
       "    .dataframe thead tr:last-of-type th {\n",
       "        text-align: right;\n",
       "    }\n",
       "</style>\n",
       "<table border=\"1\" class=\"dataframe\">\n",
       "  <thead>\n",
       "    <tr>\n",
       "      <th></th>\n",
       "      <th colspan=\"2\" halign=\"left\">recency</th>\n",
       "      <th colspan=\"2\" halign=\"left\">frequency</th>\n",
       "      <th colspan=\"2\" halign=\"left\">total_revenue</th>\n",
       "    </tr>\n",
       "    <tr>\n",
       "      <th></th>\n",
       "      <th>mean</th>\n",
       "      <th>count</th>\n",
       "      <th>mean</th>\n",
       "      <th>count</th>\n",
       "      <th>mean</th>\n",
       "      <th>count</th>\n",
       "    </tr>\n",
       "    <tr>\n",
       "      <th>rfm_score</th>\n",
       "      <th></th>\n",
       "      <th></th>\n",
       "      <th></th>\n",
       "      <th></th>\n",
       "      <th></th>\n",
       "      <th></th>\n",
       "    </tr>\n",
       "  </thead>\n",
       "  <tbody>\n",
       "    <tr>\n",
       "      <th>0</th>\n",
       "      <td>223.003084</td>\n",
       "      <td>4540</td>\n",
       "      <td>1.000000</td>\n",
       "      <td>4540</td>\n",
       "      <td>311.533084</td>\n",
       "      <td>4540</td>\n",
       "    </tr>\n",
       "    <tr>\n",
       "      <th>1</th>\n",
       "      <td>174.787320</td>\n",
       "      <td>4227</td>\n",
       "      <td>1.054649</td>\n",
       "      <td>4227</td>\n",
       "      <td>387.760043</td>\n",
       "      <td>4227</td>\n",
       "    </tr>\n",
       "    <tr>\n",
       "      <th>2</th>\n",
       "      <td>117.329962</td>\n",
       "      <td>3164</td>\n",
       "      <td>1.151707</td>\n",
       "      <td>3164</td>\n",
       "      <td>423.211934</td>\n",
       "      <td>3164</td>\n",
       "    </tr>\n",
       "    <tr>\n",
       "      <th>3</th>\n",
       "      <td>81.909827</td>\n",
       "      <td>1730</td>\n",
       "      <td>1.547399</td>\n",
       "      <td>1730</td>\n",
       "      <td>609.073572</td>\n",
       "      <td>1730</td>\n",
       "    </tr>\n",
       "    <tr>\n",
       "      <th>4</th>\n",
       "      <td>42.627145</td>\n",
       "      <td>1923</td>\n",
       "      <td>2.062402</td>\n",
       "      <td>1923</td>\n",
       "      <td>623.953500</td>\n",
       "      <td>1923</td>\n",
       "    </tr>\n",
       "    <tr>\n",
       "      <th>5</th>\n",
       "      <td>42.389831</td>\n",
       "      <td>708</td>\n",
       "      <td>2.498588</td>\n",
       "      <td>708</td>\n",
       "      <td>1277.274449</td>\n",
       "      <td>708</td>\n",
       "    </tr>\n",
       "    <tr>\n",
       "      <th>6</th>\n",
       "      <td>39.319635</td>\n",
       "      <td>219</td>\n",
       "      <td>3.433790</td>\n",
       "      <td>219</td>\n",
       "      <td>1839.270046</td>\n",
       "      <td>219</td>\n",
       "    </tr>\n",
       "    <tr>\n",
       "      <th>7</th>\n",
       "      <td>27.972973</td>\n",
       "      <td>74</td>\n",
       "      <td>4.864865</td>\n",
       "      <td>74</td>\n",
       "      <td>3081.583378</td>\n",
       "      <td>74</td>\n",
       "    </tr>\n",
       "    <tr>\n",
       "      <th>8</th>\n",
       "      <td>25.500000</td>\n",
       "      <td>12</td>\n",
       "      <td>6.500000</td>\n",
       "      <td>12</td>\n",
       "      <td>6235.040833</td>\n",
       "      <td>12</td>\n",
       "    </tr>\n",
       "    <tr>\n",
       "      <th>9</th>\n",
       "      <td>18.000000</td>\n",
       "      <td>2</td>\n",
       "      <td>11.500000</td>\n",
       "      <td>2</td>\n",
       "      <td>28510.900000</td>\n",
       "      <td>2</td>\n",
       "    </tr>\n",
       "  </tbody>\n",
       "</table>\n",
       "</div>"
      ],
      "text/plain": [
       "              recency        frequency       total_revenue      \n",
       "                 mean count       mean count          mean count\n",
       "rfm_score                                                       \n",
       "0          223.003084  4540   1.000000  4540    311.533084  4540\n",
       "1          174.787320  4227   1.054649  4227    387.760043  4227\n",
       "2          117.329962  3164   1.151707  3164    423.211934  3164\n",
       "3           81.909827  1730   1.547399  1730    609.073572  1730\n",
       "4           42.627145  1923   2.062402  1923    623.953500  1923\n",
       "5           42.389831   708   2.498588   708   1277.274449   708\n",
       "6           39.319635   219   3.433790   219   1839.270046   219\n",
       "7           27.972973    74   4.864865    74   3081.583378    74\n",
       "8           25.500000    12   6.500000    12   6235.040833    12\n",
       "9           18.000000     2  11.500000     2  28510.900000     2"
      ]
     },
     "execution_count": 20,
     "metadata": {},
     "output_type": "execute_result"
    }
   ],
   "source": [
    "features = (\n",
    "    customers\n",
    "    .merge(recency_df, how='left', on='customer_id')\n",
    "    .merge(frequency_df, how='left', on='customer_id')\n",
    "    .merge(revenue_df, how='left', on='customer_id')\n",
    "    )\n",
    "features['rfm_score'] = features['recency_score'] + features['frequency_score'] + features['total_revenue_score']\n",
    "features.groupby('rfm_score').agg(['mean', 'count'])[['recency','frequency','total_revenue']]\n"
   ]
  },
  {
   "cell_type": "code",
   "execution_count": 21,
   "metadata": {},
   "outputs": [
    {
     "data": {
      "text/html": [
       "<div>\n",
       "<style scoped>\n",
       "    .dataframe tbody tr th:only-of-type {\n",
       "        vertical-align: middle;\n",
       "    }\n",
       "\n",
       "    .dataframe tbody tr th {\n",
       "        vertical-align: top;\n",
       "    }\n",
       "\n",
       "    .dataframe thead tr th {\n",
       "        text-align: left;\n",
       "    }\n",
       "\n",
       "    .dataframe thead tr:last-of-type th {\n",
       "        text-align: right;\n",
       "    }\n",
       "</style>\n",
       "<table border=\"1\" class=\"dataframe\">\n",
       "  <thead>\n",
       "    <tr>\n",
       "      <th></th>\n",
       "      <th colspan=\"2\" halign=\"left\">recency</th>\n",
       "      <th colspan=\"2\" halign=\"left\">frequency</th>\n",
       "      <th colspan=\"2\" halign=\"left\">total_revenue</th>\n",
       "    </tr>\n",
       "    <tr>\n",
       "      <th></th>\n",
       "      <th>mean</th>\n",
       "      <th>count</th>\n",
       "      <th>mean</th>\n",
       "      <th>count</th>\n",
       "      <th>mean</th>\n",
       "      <th>count</th>\n",
       "    </tr>\n",
       "    <tr>\n",
       "      <th>rfm_segment</th>\n",
       "      <th></th>\n",
       "      <th></th>\n",
       "      <th></th>\n",
       "      <th></th>\n",
       "      <th></th>\n",
       "      <th></th>\n",
       "    </tr>\n",
       "  </thead>\n",
       "  <tbody>\n",
       "    <tr>\n",
       "      <th>high</th>\n",
       "      <td>40.428571</td>\n",
       "      <td>1015</td>\n",
       "      <td>2.937931</td>\n",
       "      <td>1015</td>\n",
       "      <td>1642.354591</td>\n",
       "      <td>1015</td>\n",
       "    </tr>\n",
       "    <tr>\n",
       "      <th>low</th>\n",
       "      <td>165.741600</td>\n",
       "      <td>13661</td>\n",
       "      <td>1.121367</td>\n",
       "      <td>13661</td>\n",
       "      <td>398.664940</td>\n",
       "      <td>13661</td>\n",
       "    </tr>\n",
       "    <tr>\n",
       "      <th>mid</th>\n",
       "      <td>42.627145</td>\n",
       "      <td>1923</td>\n",
       "      <td>2.062402</td>\n",
       "      <td>1923</td>\n",
       "      <td>623.953500</td>\n",
       "      <td>1923</td>\n",
       "    </tr>\n",
       "  </tbody>\n",
       "</table>\n",
       "</div>"
      ],
      "text/plain": [
       "                recency        frequency        total_revenue       \n",
       "                   mean  count      mean  count          mean  count\n",
       "rfm_segment                                                         \n",
       "high          40.428571   1015  2.937931   1015   1642.354591   1015\n",
       "low          165.741600  13661  1.121367  13661    398.664940  13661\n",
       "mid           42.627145   1923  2.062402   1923    623.953500   1923"
      ]
     },
     "execution_count": 21,
     "metadata": {},
     "output_type": "execute_result"
    }
   ],
   "source": [
    "get_rfm_segment = lambda rfm_score: 'high' if rfm_score >= 5 else 'mid' if rfm_score > 3 else 'low'\n",
    "\n",
    "features['rfm_segment'] = features['rfm_score'].apply(get_rfm_segment)\n",
    "features.groupby('rfm_segment').agg(['mean', 'count'])[['recency','frequency','total_revenue']]"
   ]
  },
  {
   "cell_type": "code",
   "execution_count": 23,
   "metadata": {},
   "outputs": [
    {
     "data": {
      "image/png": "[encoded data removed]",
      "text/plain": [
       "<Figure size 432x288 with 1 Axes>"
      ]
     },
     "metadata": {
      "needs_background": "light"
     },
     "output_type": "display_data"
    },
    {
     "data": {
      "image/png": "[encoded data removed]",
      "text/plain": [
       "<Figure size 432x288 with 1 Axes>"
      ]
     },
     "metadata": {
      "needs_background": "light"
     },
     "output_type": "display_data"
    },
    {
     "data": {
      "image/png": "[encoded data removed]",
      "text/plain": [
       "<Figure size 432x288 with 1 Axes>"
      ]
     },
     "metadata": {
      "needs_background": "light"
     },
     "output_type": "display_data"
    }
   ],
   "source": [
    "def scatterplot_segments(df: DataFrame, segment_column_name: str, feature_1: str, feature_2: str):\n",
    "    \"\"\"\n",
    "    Shows segmentation scatterplot\n",
    "    \"\"\"\n",
    "    segments = df[segment_column_name].unique()\n",
    "    plt.figure()\n",
    "    for segment in segments:\n",
    "        color = 'r' if segment == 'high' else 'y' if segment == 'mid' else 'b'\n",
    "        segment_df = df[df[segment_column_name] == segment]\n",
    "        plt.scatter(segment_df[feature_1], segment_df[feature_2], c=color, alpha=0.5, label=segment)\n",
    "    plt.xlabel(feature_1)\n",
    "    plt.ylabel(feature_2)\n",
    "    plt.legend()\n",
    "    plt.show()\n",
    "\n",
    "scatterplot_segments(features, 'rfm_segment', 'recency', 'frequency')\n",
    "scatterplot_segments(features, 'rfm_segment', 'recency', 'total_revenue')\n",
    "scatterplot_segments(features, 'rfm_segment', 'frequency', 'total_revenue')"
   ]
  },
  {
   "cell_type": "markdown",
   "metadata": {},
   "source": [
    "### Geographical"
   ]
  },
  {
   "cell_type": "code",
   "execution_count": 24,
   "metadata": {},
   "outputs": [
    {
     "data": {
      "text/plain": [
       "(16599, 12)"
      ]
     },
     "metadata": {},
     "output_type": "display_data"
    },
    {
     "data": {
      "text/plain": [
       "Index(['customer_id', 'makes_purchase', 'last_transaction_date', 'recency',\n",
       "       'recency_score', 'frequency', 'frequency_score', 'total_revenue',\n",
       "       'total_revenue_score', 'rfm_score', 'rfm_segment', 'billing_zip_stem'],\n",
       "      dtype='object')"
      ]
     },
     "metadata": {},
     "output_type": "display_data"
    },
    {
     "data": {
      "text/html": [
       "<div>\n",
       "<style scoped>\n",
       "    .dataframe tbody tr th:only-of-type {\n",
       "        vertical-align: middle;\n",
       "    }\n",
       "\n",
       "    .dataframe tbody tr th {\n",
       "        vertical-align: top;\n",
       "    }\n",
       "\n",
       "    .dataframe thead th {\n",
       "        text-align: right;\n",
       "    }\n",
       "</style>\n",
       "<table border=\"1\" class=\"dataframe\">\n",
       "  <thead>\n",
       "    <tr style=\"text-align: right;\">\n",
       "      <th></th>\n",
       "      <th>customer_id</th>\n",
       "      <th>makes_purchase</th>\n",
       "      <th>last_transaction_date</th>\n",
       "      <th>recency</th>\n",
       "      <th>recency_score</th>\n",
       "      <th>frequency</th>\n",
       "      <th>frequency_score</th>\n",
       "      <th>total_revenue</th>\n",
       "      <th>total_revenue_score</th>\n",
       "      <th>rfm_score</th>\n",
       "      <th>rfm_segment</th>\n",
       "      <th>billing_zip_stem</th>\n",
       "    </tr>\n",
       "  </thead>\n",
       "  <tbody>\n",
       "    <tr>\n",
       "      <th>0</th>\n",
       "      <td>3493717180478</td>\n",
       "      <td>0</td>\n",
       "      <td>2020-10-01 12:46:56</td>\n",
       "      <td>271</td>\n",
       "      <td>0</td>\n",
       "      <td>1</td>\n",
       "      <td>0</td>\n",
       "      <td>2445.00</td>\n",
       "      <td>1</td>\n",
       "      <td>1</td>\n",
       "      <td>low</td>\n",
       "      <td>87</td>\n",
       "    </tr>\n",
       "    <tr>\n",
       "      <th>1</th>\n",
       "      <td>3493777768510</td>\n",
       "      <td>0</td>\n",
       "      <td>2020-10-01 13:32:38</td>\n",
       "      <td>271</td>\n",
       "      <td>0</td>\n",
       "      <td>1</td>\n",
       "      <td>0</td>\n",
       "      <td>448.00</td>\n",
       "      <td>0</td>\n",
       "      <td>0</td>\n",
       "      <td>low</td>\n",
       "      <td>50</td>\n",
       "    </tr>\n",
       "    <tr>\n",
       "      <th>2</th>\n",
       "      <td>3490993078334</td>\n",
       "      <td>0</td>\n",
       "      <td>2020-10-01 13:38:06</td>\n",
       "      <td>271</td>\n",
       "      <td>0</td>\n",
       "      <td>1</td>\n",
       "      <td>0</td>\n",
       "      <td>2293.60</td>\n",
       "      <td>1</td>\n",
       "      <td>1</td>\n",
       "      <td>low</td>\n",
       "      <td>60</td>\n",
       "    </tr>\n",
       "    <tr>\n",
       "      <th>3</th>\n",
       "      <td>3433191145534</td>\n",
       "      <td>0</td>\n",
       "      <td>2020-10-01 14:28:48</td>\n",
       "      <td>271</td>\n",
       "      <td>0</td>\n",
       "      <td>1</td>\n",
       "      <td>0</td>\n",
       "      <td>438.95</td>\n",
       "      <td>0</td>\n",
       "      <td>0</td>\n",
       "      <td>low</td>\n",
       "      <td>28</td>\n",
       "    </tr>\n",
       "    <tr>\n",
       "      <th>4</th>\n",
       "      <td>3494350880830</td>\n",
       "      <td>0</td>\n",
       "      <td>2020-10-01 21:11:57</td>\n",
       "      <td>271</td>\n",
       "      <td>0</td>\n",
       "      <td>1</td>\n",
       "      <td>0</td>\n",
       "      <td>399.05</td>\n",
       "      <td>0</td>\n",
       "      <td>0</td>\n",
       "      <td>low</td>\n",
       "      <td>26</td>\n",
       "    </tr>\n",
       "  </tbody>\n",
       "</table>\n",
       "</div>"
      ],
      "text/plain": [
       "     customer_id  makes_purchase last_transaction_date  recency  \\\n",
       "0  3493717180478               0   2020-10-01 12:46:56      271   \n",
       "1  3493777768510               0   2020-10-01 13:32:38      271   \n",
       "2  3490993078334               0   2020-10-01 13:38:06      271   \n",
       "3  3433191145534               0   2020-10-01 14:28:48      271   \n",
       "4  3494350880830               0   2020-10-01 21:11:57      271   \n",
       "\n",
       "   recency_score  frequency  frequency_score  total_revenue  \\\n",
       "0              0          1                0        2445.00   \n",
       "1              0          1                0         448.00   \n",
       "2              0          1                0        2293.60   \n",
       "3              0          1                0         438.95   \n",
       "4              0          1                0         399.05   \n",
       "\n",
       "   total_revenue_score  rfm_score rfm_segment billing_zip_stem  \n",
       "0                    1          1         low               87  \n",
       "1                    0          0         low               50  \n",
       "2                    1          1         low               60  \n",
       "3                    0          0         low               28  \n",
       "4                    0          0         low               26  "
      ]
     },
     "metadata": {},
     "output_type": "display_data"
    }
   ],
   "source": [
    "zip_codes = behaviour_dataset[['customer_id', 'billing_zip']].drop_duplicates(subset='customer_id')\n",
    "zip_codes['billing_zip_stem'] = zip_codes['billing_zip'].apply(df_utils.get_zip_code_stem)\n",
    "\n",
    "features = features.merge(\n",
    "    zip_codes[['customer_id', 'billing_zip_stem']], \n",
    "    how='left', \n",
    "    on='customer_id'\n",
    "    )\n",
    "\n",
    "df_utils.df_summarise(features)\n"
   ]
  },
  {
   "cell_type": "markdown",
   "metadata": {},
   "source": [
    "### Segmentation"
   ]
  },
  {
   "cell_type": "code",
   "execution_count": 25,
   "metadata": {},
   "outputs": [
    {
     "data": {
      "text/html": [
       "<div>\n",
       "<style scoped>\n",
       "    .dataframe tbody tr th:only-of-type {\n",
       "        vertical-align: middle;\n",
       "    }\n",
       "\n",
       "    .dataframe tbody tr th {\n",
       "        vertical-align: top;\n",
       "    }\n",
       "\n",
       "    .dataframe thead th {\n",
       "        text-align: right;\n",
       "    }\n",
       "</style>\n",
       "<table border=\"1\" class=\"dataframe\">\n",
       "  <thead>\n",
       "    <tr style=\"text-align: right;\">\n",
       "      <th></th>\n",
       "      <th>rfm_score</th>\n",
       "      <th>segment</th>\n",
       "    </tr>\n",
       "  </thead>\n",
       "  <tbody>\n",
       "    <tr>\n",
       "      <th>rfm_score</th>\n",
       "      <td>1.000000</td>\n",
       "      <td>0.292921</td>\n",
       "    </tr>\n",
       "    <tr>\n",
       "      <th>segment</th>\n",
       "      <td>0.292921</td>\n",
       "      <td>1.000000</td>\n",
       "    </tr>\n",
       "  </tbody>\n",
       "</table>\n",
       "</div>"
      ],
      "text/plain": [
       "           rfm_score   segment\n",
       "rfm_score   1.000000  0.292921\n",
       "segment     0.292921  1.000000"
      ]
     },
     "execution_count": 25,
     "metadata": {},
     "output_type": "execute_result"
    }
   ],
   "source": [
    "features = features.merge(customer_behaviour['segment'].max(), how='left', on='customer_id')\n",
    "\n",
    "features[['rfm_score', 'segment']].corr()"
   ]
  },
  {
   "cell_type": "code",
   "execution_count": 26,
   "metadata": {},
   "outputs": [
    {
     "data": {
      "image/png": "[encoded data removed]",
      "text/plain": [
       "<Figure size 432x288 with 1 Axes>"
      ]
     },
     "metadata": {
      "needs_background": "light"
     },
     "output_type": "display_data"
    }
   ],
   "source": [
    "features[['rfm_score', 'segment']].plot.scatter(x='rfm_score', y='segment');"
   ]
  },
  {
   "cell_type": "markdown",
   "metadata": {},
   "source": []
  },
  {
   "cell_type": "code",
   "execution_count": 31,
   "metadata": {},
   "outputs": [],
   "source": [
    "features.to_csv('../data/features.csv')"
   ]
  },
  {
   "cell_type": "code",
   "execution_count": 35,
   "metadata": {},
   "outputs": [
    {
     "data": {
      "image/png": "[encoded data removed]",
      "text/plain": [
       "<Figure size 1440x720 with 2 Axes>"
      ]
     },
     "metadata": {
      "needs_background": "light"
     },
     "output_type": "display_data"
    }
   ],
   "source": [
    "plt.figure(figsize=(20,10))\n",
    "sns.heatmap(features.corr(), annot=True);"
   ]
  },
  {
   "cell_type": "code",
   "execution_count": null,
   "metadata": {},
   "outputs": [],
   "source": []
  }
 ],
 "metadata": {
  "interpreter": {
   "hash": "4835e86702a3e79fcfc32bea8cbbbe234fde879c3d6ba7901d78455143f2ad51"
  },
  "kernelspec": {
   "display_name": "Python 3.6.9 ('cust_venv')",
   "language": "python",
   "name": "python3"
  },
  "language_info": {
   "codemirror_mode": {
    "name": "ipython",
    "version": 3
   },
   "file_extension": ".py",
   "mimetype": "text/x-python",
   "name": "python",
   "nbconvert_exporter": "python",
   "pygments_lexer": "ipython3",
   "version": "3.6.9"
  },
  "orig_nbformat": 4
 },
 "nbformat": 4,
 "nbformat_minor": 2
}
