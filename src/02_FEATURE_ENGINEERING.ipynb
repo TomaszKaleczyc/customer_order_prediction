{
 "cells": [
  {
   "cell_type": "markdown",
   "metadata": {},
   "source": [
    "In the EDA section we've gained some knowledge about the dataset. \n",
    "\n",
    "Now, we will try to formulate the problem of predicting the probabilty of a customer placing a new order in the horizon of the next 30 days. We will also prepare some features to help us with this estimation."
   ]
  },
  {
   "cell_type": "markdown",
   "metadata": {},
   "source": [
    "## Imports"
   ]
  },
  {
   "cell_type": "code",
   "execution_count": 1,
   "metadata": {},
   "outputs": [],
   "source": [
    "%load_ext autoreload\n",
    "%autoreload 2\n",
    "\n",
    "from matplotlib import pyplot as plt\n",
    "import pandas as pd\n",
    "from pandas import DataFrame\n",
    "import seaborn as sns\n",
    "\n",
    "from utilities import df_utils, clustering_utils"
   ]
  },
  {
   "cell_type": "markdown",
   "metadata": {},
   "source": [
    "## Data import"
   ]
  },
  {
   "cell_type": "markdown",
   "metadata": {},
   "source": [
    "We'll start by importing the data. From the EDA we know there are some duplications we will need to take care of."
   ]
  },
  {
   "cell_type": "code",
   "execution_count": 2,
   "metadata": {},
   "outputs": [
    {
     "data": {
      "text/plain": [
       "(21444, 7)"
      ]
     },
     "metadata": {},
     "output_type": "display_data"
    },
    {
     "data": {
      "text/plain": [
       "Index(['order_id', 'customer_id', 'created_at', 'total_price', 'shipping_zip',\n",
       "       'billing_zip', 'segment'],\n",
       "      dtype='object')"
      ]
     },
     "metadata": {},
     "output_type": "display_data"
    },
    {
     "data": {
      "text/html": [
       "<div>\n",
       "<style scoped>\n",
       "    .dataframe tbody tr th:only-of-type {\n",
       "        vertical-align: middle;\n",
       "    }\n",
       "\n",
       "    .dataframe tbody tr th {\n",
       "        vertical-align: top;\n",
       "    }\n",
       "\n",
       "    .dataframe thead th {\n",
       "        text-align: right;\n",
       "    }\n",
       "</style>\n",
       "<table border=\"1\" class=\"dataframe\">\n",
       "  <thead>\n",
       "    <tr style=\"text-align: right;\">\n",
       "      <th></th>\n",
       "      <th>order_id</th>\n",
       "      <th>customer_id</th>\n",
       "      <th>created_at</th>\n",
       "      <th>total_price</th>\n",
       "      <th>shipping_zip</th>\n",
       "      <th>billing_zip</th>\n",
       "      <th>segment</th>\n",
       "    </tr>\n",
       "  </thead>\n",
       "  <tbody>\n",
       "    <tr>\n",
       "      <th>0</th>\n",
       "      <td>1158820823102</td>\n",
       "      <td>1399261528126</td>\n",
       "      <td>2019-08-13 03:08:30</td>\n",
       "      <td>3192.00</td>\n",
       "      <td>8700</td>\n",
       "      <td>8700</td>\n",
       "      <td>4</td>\n",
       "    </tr>\n",
       "    <tr>\n",
       "      <th>1</th>\n",
       "      <td>1856685080638</td>\n",
       "      <td>2733349404734</td>\n",
       "      <td>2019-11-07 06:17:09</td>\n",
       "      <td>135.15</td>\n",
       "      <td>9000</td>\n",
       "      <td>9000</td>\n",
       "      <td>3</td>\n",
       "    </tr>\n",
       "    <tr>\n",
       "      <th>2</th>\n",
       "      <td>1994825334846</td>\n",
       "      <td>2862876164158</td>\n",
       "      <td>2019-12-25 14:47:26</td>\n",
       "      <td>288.00</td>\n",
       "      <td>8722</td>\n",
       "      <td>8722</td>\n",
       "      <td>3</td>\n",
       "    </tr>\n",
       "    <tr>\n",
       "      <th>3</th>\n",
       "      <td>2116997972030</td>\n",
       "      <td>2888199700542</td>\n",
       "      <td>2020-02-20 09:15:17</td>\n",
       "      <td>237.00</td>\n",
       "      <td>3650</td>\n",
       "      <td>3650</td>\n",
       "      <td>6</td>\n",
       "    </tr>\n",
       "    <tr>\n",
       "      <th>4</th>\n",
       "      <td>2155705139262</td>\n",
       "      <td>2992745709630</td>\n",
       "      <td>2020-03-13 22:57:46</td>\n",
       "      <td>208.00</td>\n",
       "      <td>9900</td>\n",
       "      <td>9900</td>\n",
       "      <td>3</td>\n",
       "    </tr>\n",
       "  </tbody>\n",
       "</table>\n",
       "</div>"
      ],
      "text/plain": [
       "        order_id    customer_id          created_at  total_price shipping_zip  \\\n",
       "0  1158820823102  1399261528126 2019-08-13 03:08:30      3192.00         8700   \n",
       "1  1856685080638  2733349404734 2019-11-07 06:17:09       135.15         9000   \n",
       "2  1994825334846  2862876164158 2019-12-25 14:47:26       288.00         8722   \n",
       "3  2116997972030  2888199700542 2020-02-20 09:15:17       237.00         3650   \n",
       "4  2155705139262  2992745709630 2020-03-13 22:57:46       208.00         9900   \n",
       "\n",
       "  billing_zip  segment  \n",
       "0        8700        4  \n",
       "1        9000        3  \n",
       "2        8722        3  \n",
       "3        3650        6  \n",
       "4        9900        3  "
      ]
     },
     "metadata": {},
     "output_type": "display_data"
    }
   ],
   "source": [
    "data_path = '../data/raw_data.csv'\n",
    "df = pd.read_csv(data_path)\n",
    "df['created_at'] = pd.to_datetime(df['created_at'])\n",
    "df.drop_duplicates(subset=['order_id', 'customer_id'], inplace=True)\n",
    "df_utils.df_summarise(df)"
   ]
  },
  {
   "cell_type": "markdown",
   "metadata": {},
   "source": [
    "## Problem formulation"
   ]
  },
  {
   "cell_type": "markdown",
   "metadata": {},
   "source": [
    "We want to find out how likely a customer (identified by `customer_id`) is to make another purchase in the next 30 days. To formulate the problem numerically we will take the following steps:\n",
    "\n",
    "1. Set aside all transactions pertaining to a 30 day period closer to the end of the analysis period\n",
    "1. Use the transactions preceding this 30 day window as the dataset for analysing customer behaviour\n",
    "1. The features used for modelling will be aggregated at a customer level to allow per customer prediction\n",
    "1. Our target variable will be called `makes_purchase` and will be:\n",
    "  * 1 for a customer if this customer makes any transaction in the 30 day period \n",
    "  * 0 otherwise\n",
    "\n",
    "Let's start with the 30 day prediction window. The final transaction date for our dataset is 10-8-2021. To simplify and remove any potential intra-month seasonalities, we will set our prediction window to the 30 days of July 2021:"
   ]
  },
  {
   "cell_type": "code",
   "execution_count": 3,
   "metadata": {},
   "outputs": [
    {
     "data": {
      "text/plain": [
       "(1599, 7)"
      ]
     },
     "metadata": {},
     "output_type": "display_data"
    },
    {
     "data": {
      "text/plain": [
       "Index(['order_id', 'customer_id', 'created_at', 'total_price', 'shipping_zip',\n",
       "       'billing_zip', 'segment'],\n",
       "      dtype='object')"
      ]
     },
     "metadata": {},
     "output_type": "display_data"
    },
    {
     "data": {
      "text/html": [
       "<div>\n",
       "<style scoped>\n",
       "    .dataframe tbody tr th:only-of-type {\n",
       "        vertical-align: middle;\n",
       "    }\n",
       "\n",
       "    .dataframe tbody tr th {\n",
       "        vertical-align: top;\n",
       "    }\n",
       "\n",
       "    .dataframe thead th {\n",
       "        text-align: right;\n",
       "    }\n",
       "</style>\n",
       "<table border=\"1\" class=\"dataframe\">\n",
       "  <thead>\n",
       "    <tr style=\"text-align: right;\">\n",
       "      <th></th>\n",
       "      <th>order_id</th>\n",
       "      <th>customer_id</th>\n",
       "      <th>created_at</th>\n",
       "      <th>total_price</th>\n",
       "      <th>shipping_zip</th>\n",
       "      <th>billing_zip</th>\n",
       "      <th>segment</th>\n",
       "    </tr>\n",
       "  </thead>\n",
       "  <tbody>\n",
       "    <tr>\n",
       "      <th>22480</th>\n",
       "      <td>3977821880382</td>\n",
       "      <td>1389230620734</td>\n",
       "      <td>2021-07-01 03:17:40</td>\n",
       "      <td>260.00</td>\n",
       "      <td>2650</td>\n",
       "      <td>2650</td>\n",
       "      <td>11</td>\n",
       "    </tr>\n",
       "    <tr>\n",
       "      <th>22481</th>\n",
       "      <td>3977884926014</td>\n",
       "      <td>1390240825406</td>\n",
       "      <td>2021-07-01 04:10:33</td>\n",
       "      <td>229.00</td>\n",
       "      <td>4600</td>\n",
       "      <td>4600</td>\n",
       "      <td>11</td>\n",
       "    </tr>\n",
       "    <tr>\n",
       "      <th>22482</th>\n",
       "      <td>3977908781118</td>\n",
       "      <td>1390033174590</td>\n",
       "      <td>2021-07-01 04:30:48</td>\n",
       "      <td>294.35</td>\n",
       "      <td>5580</td>\n",
       "      <td>5580</td>\n",
       "      <td>11</td>\n",
       "    </tr>\n",
       "    <tr>\n",
       "      <th>22483</th>\n",
       "      <td>3977954590782</td>\n",
       "      <td>5215938052158</td>\n",
       "      <td>2021-07-01 04:57:14</td>\n",
       "      <td>323.00</td>\n",
       "      <td>2980</td>\n",
       "      <td>2980</td>\n",
       "      <td>11</td>\n",
       "    </tr>\n",
       "    <tr>\n",
       "      <th>22484</th>\n",
       "      <td>3977988440126</td>\n",
       "      <td>5215963578430</td>\n",
       "      <td>2021-07-01 05:28:30</td>\n",
       "      <td>118.00</td>\n",
       "      <td>7400</td>\n",
       "      <td>7400</td>\n",
       "      <td>11</td>\n",
       "    </tr>\n",
       "  </tbody>\n",
       "</table>\n",
       "</div>"
      ],
      "text/plain": [
       "            order_id    customer_id          created_at  total_price  \\\n",
       "22480  3977821880382  1389230620734 2021-07-01 03:17:40       260.00   \n",
       "22481  3977884926014  1390240825406 2021-07-01 04:10:33       229.00   \n",
       "22482  3977908781118  1390033174590 2021-07-01 04:30:48       294.35   \n",
       "22483  3977954590782  5215938052158 2021-07-01 04:57:14       323.00   \n",
       "22484  3977988440126  5215963578430 2021-07-01 05:28:30       118.00   \n",
       "\n",
       "      shipping_zip billing_zip  segment  \n",
       "22480         2650        2650       11  \n",
       "22481         4600        4600       11  \n",
       "22482         5580        5580       11  \n",
       "22483         2980        2980       11  \n",
       "22484         7400        7400       11  "
      ]
     },
     "metadata": {},
     "output_type": "display_data"
    }
   ],
   "source": [
    "prediction_window = df[\n",
    "    df['created_at'].between(\n",
    "        pd.Timestamp(2021, 7, 1),\n",
    "        pd.Timestamp(2021, 7, 30)\n",
    "    )\n",
    "].copy()\n",
    "df_utils.df_summarise(prediction_window)"
   ]
  },
  {
   "cell_type": "markdown",
   "metadata": {},
   "source": [
    "This means out behavioural dataset will be transactions prior to July 2021. From the EDA we know that prior to October 2020 there has been very little movement in the business (perhaps it was still fledgeling then..?). To make the analysis more statistically meaningful, we will limit the behavioural dataset to the period between October 2020 - June 2021:"
   ]
  },
  {
   "cell_type": "code",
   "execution_count": 4,
   "metadata": {},
   "outputs": [
    {
     "data": {
      "text/plain": [
       "(18946, 7)"
      ]
     },
     "metadata": {},
     "output_type": "display_data"
    },
    {
     "data": {
      "text/plain": [
       "Index(['order_id', 'customer_id', 'created_at', 'total_price', 'shipping_zip',\n",
       "       'billing_zip', 'segment'],\n",
       "      dtype='object')"
      ]
     },
     "metadata": {},
     "output_type": "display_data"
    },
    {
     "data": {
      "text/html": [
       "<div>\n",
       "<style scoped>\n",
       "    .dataframe tbody tr th:only-of-type {\n",
       "        vertical-align: middle;\n",
       "    }\n",
       "\n",
       "    .dataframe tbody tr th {\n",
       "        vertical-align: top;\n",
       "    }\n",
       "\n",
       "    .dataframe thead th {\n",
       "        text-align: right;\n",
       "    }\n",
       "</style>\n",
       "<table border=\"1\" class=\"dataframe\">\n",
       "  <thead>\n",
       "    <tr style=\"text-align: right;\">\n",
       "      <th></th>\n",
       "      <th>order_id</th>\n",
       "      <th>customer_id</th>\n",
       "      <th>created_at</th>\n",
       "      <th>total_price</th>\n",
       "      <th>shipping_zip</th>\n",
       "      <th>billing_zip</th>\n",
       "      <th>segment</th>\n",
       "    </tr>\n",
       "  </thead>\n",
       "  <tbody>\n",
       "    <tr>\n",
       "      <th>63</th>\n",
       "      <td>2679892213822</td>\n",
       "      <td>3493717180478</td>\n",
       "      <td>2020-10-01 12:46:56</td>\n",
       "      <td>2445.00</td>\n",
       "      <td>8700</td>\n",
       "      <td>8700</td>\n",
       "      <td>3</td>\n",
       "    </tr>\n",
       "    <tr>\n",
       "      <th>64</th>\n",
       "      <td>2679964860478</td>\n",
       "      <td>3493777768510</td>\n",
       "      <td>2020-10-01 13:32:38</td>\n",
       "      <td>448.00</td>\n",
       "      <td>5000</td>\n",
       "      <td>5000</td>\n",
       "      <td>3</td>\n",
       "    </tr>\n",
       "    <tr>\n",
       "      <th>65</th>\n",
       "      <td>2679974887486</td>\n",
       "      <td>3490993078334</td>\n",
       "      <td>2020-10-01 13:38:06</td>\n",
       "      <td>2293.60</td>\n",
       "      <td>6000</td>\n",
       "      <td>6000</td>\n",
       "      <td>3</td>\n",
       "    </tr>\n",
       "    <tr>\n",
       "      <th>66</th>\n",
       "      <td>2680064802878</td>\n",
       "      <td>3433191145534</td>\n",
       "      <td>2020-10-01 14:28:48</td>\n",
       "      <td>438.95</td>\n",
       "      <td>2800</td>\n",
       "      <td>2800</td>\n",
       "      <td>3</td>\n",
       "    </tr>\n",
       "    <tr>\n",
       "      <th>67</th>\n",
       "      <td>2680986140734</td>\n",
       "      <td>3494350880830</td>\n",
       "      <td>2020-10-01 21:11:57</td>\n",
       "      <td>399.05</td>\n",
       "      <td>2620</td>\n",
       "      <td>2620</td>\n",
       "      <td>3</td>\n",
       "    </tr>\n",
       "  </tbody>\n",
       "</table>\n",
       "</div>"
      ],
      "text/plain": [
       "         order_id    customer_id          created_at  total_price  \\\n",
       "63  2679892213822  3493717180478 2020-10-01 12:46:56      2445.00   \n",
       "64  2679964860478  3493777768510 2020-10-01 13:32:38       448.00   \n",
       "65  2679974887486  3490993078334 2020-10-01 13:38:06      2293.60   \n",
       "66  2680064802878  3433191145534 2020-10-01 14:28:48       438.95   \n",
       "67  2680986140734  3494350880830 2020-10-01 21:11:57       399.05   \n",
       "\n",
       "   shipping_zip billing_zip  segment  \n",
       "63         8700        8700        3  \n",
       "64         5000        5000        3  \n",
       "65         6000        6000        3  \n",
       "66         2800        2800        3  \n",
       "67         2620        2620        3  "
      ]
     },
     "metadata": {},
     "output_type": "display_data"
    }
   ],
   "source": [
    "behaviour_dataset = df[\n",
    "    df['created_at'].between(\n",
    "        pd.Timestamp(2020, 10, 1),\n",
    "        pd.Timestamp(2021, 6, 30)\n",
    "    )\n",
    "].copy()\n",
    "df_utils.df_summarise(behaviour_dataset)"
   ]
  },
  {
   "cell_type": "markdown",
   "metadata": {},
   "source": [
    "For convenience we'll create a Pandas groupby object relating to the customer, since this will be the aggregation used for forecasting:"
   ]
  },
  {
   "cell_type": "code",
   "execution_count": 5,
   "metadata": {},
   "outputs": [],
   "source": [
    "customer_behaviour = behaviour_dataset.groupby('customer_id')"
   ]
  },
  {
   "cell_type": "markdown",
   "metadata": {},
   "source": [
    "Let's see how many customers will form part of the dataset:"
   ]
  },
  {
   "cell_type": "code",
   "execution_count": 6,
   "metadata": {},
   "outputs": [
    {
     "data": {
      "text/plain": [
       "16599"
      ]
     },
     "execution_count": 6,
     "metadata": {},
     "output_type": "execute_result"
    }
   ],
   "source": [
    "customers = pd.DataFrame(behaviour_dataset['customer_id'].unique(), columns=['customer_id'])\n",
    "len(customers)"
   ]
  },
  {
   "cell_type": "markdown",
   "metadata": {},
   "source": [
    "Now let's create the target variable according to the methodolgy described earlier:"
   ]
  },
  {
   "cell_type": "code",
   "execution_count": 7,
   "metadata": {},
   "outputs": [
    {
     "data": {
      "text/plain": [
       "count    16599.000000\n",
       "mean         0.011326\n",
       "std          0.105822\n",
       "min          0.000000\n",
       "25%          0.000000\n",
       "50%          0.000000\n",
       "75%          0.000000\n",
       "max          1.000000\n",
       "Name: makes_purchase, dtype: float64"
      ]
     },
     "execution_count": 7,
     "metadata": {},
     "output_type": "execute_result"
    }
   ],
   "source": [
    "customers['makes_purchase'] = customers['customer_id'].isin(prediction_window['customer_id'].unique()).astype(int)\n",
    "customers['makes_purchase'].describe()"
   ]
  },
  {
   "cell_type": "markdown",
   "metadata": {},
   "source": [
    "The stats for our target variable confirm our observations from the EDA: only ~1% of the analysed customer group made a purchase in our prediction window. This will make effective prediction of the target variable challenging due to a problem well known in the data science world: significant class imbalance.\n",
    "\n",
    "Nevertheless, we'll try to use what we have to formulate features that can help us predict the target variable."
   ]
  },
  {
   "cell_type": "markdown",
   "metadata": {},
   "source": [
    "### RFM"
   ]
  },
  {
   "cell_type": "markdown",
   "metadata": {},
   "source": [
    "We'll start with clustering our customers using the popular RFM (Recency / Frequency / Monetary) scheme. This will allow us (and hopefully the model) to gain a better understanding of the individual customer in the context of our total dataset.\n",
    "\n",
    "The core idea here is to perform the following steps:\n",
    "1. rank customers according to sales recency\n",
    "1. rank customers according to sales frequency\n",
    "1. rank customers according to sales value - i.e. revenue\n",
    "1. use the above ranks to formulate an overall RFM score for customers\n",
    "1. aggregate RFM scores to cluster customers into low, mid and high performing"
   ]
  },
  {
   "cell_type": "markdown",
   "metadata": {},
   "source": [
    "**Recency**"
   ]
  },
  {
   "cell_type": "markdown",
   "metadata": {},
   "source": [
    "Describes the overall inactivity of a customer in terms of making transactions in days: the higher value of `recency`, the longer a particular client has been inactive for. \n",
    "\n",
    "Since most of our customers only made a single transaction, we'll simplify this to counting the difference in days between the most recent customer transaction in our dataset and the most recent transaction of an individual client:"
   ]
  },
  {
   "cell_type": "code",
   "execution_count": 8,
   "metadata": {},
   "outputs": [
    {
     "data": {
      "text/plain": [
       "(16599, 3)"
      ]
     },
     "metadata": {},
     "output_type": "display_data"
    },
    {
     "data": {
      "text/plain": [
       "Index(['customer_id', 'last_transaction_date', 'recency'], dtype='object')"
      ]
     },
     "metadata": {},
     "output_type": "display_data"
    },
    {
     "data": {
      "text/html": [
       "<div>\n",
       "<style scoped>\n",
       "    .dataframe tbody tr th:only-of-type {\n",
       "        vertical-align: middle;\n",
       "    }\n",
       "\n",
       "    .dataframe tbody tr th {\n",
       "        vertical-align: top;\n",
       "    }\n",
       "\n",
       "    .dataframe thead th {\n",
       "        text-align: right;\n",
       "    }\n",
       "</style>\n",
       "<table border=\"1\" class=\"dataframe\">\n",
       "  <thead>\n",
       "    <tr style=\"text-align: right;\">\n",
       "      <th></th>\n",
       "      <th>customer_id</th>\n",
       "      <th>last_transaction_date</th>\n",
       "      <th>recency</th>\n",
       "    </tr>\n",
       "  </thead>\n",
       "  <tbody>\n",
       "    <tr>\n",
       "      <th>0</th>\n",
       "      <td>1385018720318</td>\n",
       "      <td>2021-06-15 08:39:50</td>\n",
       "      <td>14</td>\n",
       "    </tr>\n",
       "    <tr>\n",
       "      <th>1</th>\n",
       "      <td>1388893896766</td>\n",
       "      <td>2020-12-10 11:03:06</td>\n",
       "      <td>201</td>\n",
       "    </tr>\n",
       "    <tr>\n",
       "      <th>2</th>\n",
       "      <td>1388896190526</td>\n",
       "      <td>2020-11-14 10:07:51</td>\n",
       "      <td>227</td>\n",
       "    </tr>\n",
       "    <tr>\n",
       "      <th>3</th>\n",
       "      <td>1388901335102</td>\n",
       "      <td>2021-01-29 08:04:07</td>\n",
       "      <td>151</td>\n",
       "    </tr>\n",
       "    <tr>\n",
       "      <th>4</th>\n",
       "      <td>1388901859390</td>\n",
       "      <td>2021-06-08 05:39:32</td>\n",
       "      <td>21</td>\n",
       "    </tr>\n",
       "  </tbody>\n",
       "</table>\n",
       "</div>"
      ],
      "text/plain": [
       "     customer_id last_transaction_date  recency\n",
       "0  1385018720318   2021-06-15 08:39:50       14\n",
       "1  1388893896766   2020-12-10 11:03:06      201\n",
       "2  1388896190526   2020-11-14 10:07:51      227\n",
       "3  1388901335102   2021-01-29 08:04:07      151\n",
       "4  1388901859390   2021-06-08 05:39:32       21"
      ]
     },
     "metadata": {},
     "output_type": "display_data"
    }
   ],
   "source": [
    "last_customer_transaction = (customer_behaviour\n",
    "                                ['created_at'].max()\n",
    "                                .reset_index()\n",
    "                                .rename(columns={'created_at': 'last_transaction_date'}))\n",
    "\n",
    "last_customer_transaction['recency'] = (\n",
    "    last_customer_transaction['last_transaction_date'].max() - last_customer_transaction['last_transaction_date']\n",
    "    ).dt.days\n",
    "\n",
    "df_utils.df_summarise(last_customer_transaction)"
   ]
  },
  {
   "cell_type": "markdown",
   "metadata": {},
   "source": [
    "Let's dive into the details of our new feature:"
   ]
  },
  {
   "cell_type": "code",
   "execution_count": 9,
   "metadata": {},
   "outputs": [
    {
     "data": {
      "text/plain": [
       "count    16599.000000\n",
       "mean       143.816073\n",
       "std         72.760413\n",
       "min          0.000000\n",
       "25%         85.000000\n",
       "50%        159.000000\n",
       "75%        209.000000\n",
       "max        271.000000\n",
       "Name: recency, dtype: float64"
      ]
     },
     "metadata": {},
     "output_type": "display_data"
    },
    {
     "data": {
      "image/png": "[encoded data removed]",
      "text/plain": [
       "<Figure size 432x288 with 1 Axes>"
      ]
     },
     "metadata": {
      "needs_background": "light"
     },
     "output_type": "display_data"
    }
   ],
   "source": [
    "df_utils.show_stats(last_customer_transaction, 'recency')"
   ]
  },
  {
   "cell_type": "markdown",
   "metadata": {},
   "source": [
    "There is a big concentration of clients around the 200 mark, meaning a lot of the customers that made business at the start of the analysed behaviural period never came back. This is consistent with the low per-customer number of transations and the imbalance in the target variable we saw earlier.\n",
    "\n",
    "To segment the clients according to `recency` we will use the K-Means algorithm in the following steps:\n",
    "1. analyse the optimal number of K-Means clusters [using the elbow method](https://www.scitepress.org/Papers/2019/99084/99084.pdf)\n",
    "1. perform clustering with the optimal cluster number\n",
    "1. rank clusters according to average cluster value - for `recency` a higher customer rank is assigned for lower value of recency\n",
    "\n",
    "We have some utility functions to help with the analysis. Let's start with the elbow method:"
   ]
  },
  {
   "cell_type": "code",
   "execution_count": 10,
   "metadata": {},
   "outputs": [
    {
     "data": {
      "image/png": "[encoded data removed]",
      "text/plain": [
       "<Figure size 432x288 with 1 Axes>"
      ]
     },
     "metadata": {
      "needs_background": "light"
     },
     "output_type": "display_data"
    }
   ],
   "source": [
    "clustering_utils.plot_kmeans_elbow(last_customer_transaction[['recency']])"
   ]
  },
  {
   "cell_type": "markdown",
   "metadata": {},
   "source": [
    "Looks like 4 is the optimal cluster number for `recency`. Time to create the recency ranking:"
   ]
  },
  {
   "cell_type": "code",
   "execution_count": 11,
   "metadata": {},
   "outputs": [
    {
     "data": {
      "text/html": [
       "<div>\n",
       "<style scoped>\n",
       "    .dataframe tbody tr th:only-of-type {\n",
       "        vertical-align: middle;\n",
       "    }\n",
       "\n",
       "    .dataframe tbody tr th {\n",
       "        vertical-align: top;\n",
       "    }\n",
       "\n",
       "    .dataframe thead th {\n",
       "        text-align: right;\n",
       "    }\n",
       "</style>\n",
       "<table border=\"1\" class=\"dataframe\">\n",
       "  <thead>\n",
       "    <tr style=\"text-align: right;\">\n",
       "      <th></th>\n",
       "      <th>count</th>\n",
       "      <th>mean</th>\n",
       "      <th>std</th>\n",
       "      <th>min</th>\n",
       "      <th>25%</th>\n",
       "      <th>50%</th>\n",
       "      <th>75%</th>\n",
       "      <th>max</th>\n",
       "    </tr>\n",
       "    <tr>\n",
       "      <th>recency_score</th>\n",
       "      <th></th>\n",
       "      <th></th>\n",
       "      <th></th>\n",
       "      <th></th>\n",
       "      <th></th>\n",
       "      <th></th>\n",
       "      <th></th>\n",
       "      <th></th>\n",
       "    </tr>\n",
       "  </thead>\n",
       "  <tbody>\n",
       "    <tr>\n",
       "      <th>0</th>\n",
       "      <td>5301.0</td>\n",
       "      <td>222.893982</td>\n",
       "      <td>18.738943</td>\n",
       "      <td>195.0</td>\n",
       "      <td>211.0</td>\n",
       "      <td>217.0</td>\n",
       "      <td>235.0</td>\n",
       "      <td>271.0</td>\n",
       "    </tr>\n",
       "    <tr>\n",
       "      <th>1</th>\n",
       "      <td>4526.0</td>\n",
       "      <td>165.880027</td>\n",
       "      <td>16.933055</td>\n",
       "      <td>132.0</td>\n",
       "      <td>152.0</td>\n",
       "      <td>165.0</td>\n",
       "      <td>179.0</td>\n",
       "      <td>194.0</td>\n",
       "    </tr>\n",
       "    <tr>\n",
       "      <th>2</th>\n",
       "      <td>3773.0</td>\n",
       "      <td>96.483965</td>\n",
       "      <td>18.015504</td>\n",
       "      <td>64.0</td>\n",
       "      <td>81.0</td>\n",
       "      <td>99.0</td>\n",
       "      <td>111.0</td>\n",
       "      <td>131.0</td>\n",
       "    </tr>\n",
       "    <tr>\n",
       "      <th>3</th>\n",
       "      <td>2999.0</td>\n",
       "      <td>30.288429</td>\n",
       "      <td>18.541944</td>\n",
       "      <td>0.0</td>\n",
       "      <td>14.0</td>\n",
       "      <td>28.0</td>\n",
       "      <td>46.0</td>\n",
       "      <td>63.0</td>\n",
       "    </tr>\n",
       "  </tbody>\n",
       "</table>\n",
       "</div>"
      ],
      "text/plain": [
       "                count        mean        std    min    25%    50%    75%  \\\n",
       "recency_score                                                              \n",
       "0              5301.0  222.893982  18.738943  195.0  211.0  217.0  235.0   \n",
       "1              4526.0  165.880027  16.933055  132.0  152.0  165.0  179.0   \n",
       "2              3773.0   96.483965  18.015504   64.0   81.0   99.0  111.0   \n",
       "3              2999.0   30.288429  18.541944    0.0   14.0   28.0   46.0   \n",
       "\n",
       "                 max  \n",
       "recency_score         \n",
       "0              271.0  \n",
       "1              194.0  \n",
       "2              131.0  \n",
       "3               63.0  "
      ]
     },
     "metadata": {},
     "output_type": "display_data"
    }
   ],
   "source": [
    "recency_df = clustering_utils.ordered_clustering(\n",
    "    last_customer_transaction,\n",
    "    n_clusters=4,\n",
    "    cluster_by_column_name='recency', \n",
    "    ascending=False\n",
    "    )"
   ]
  },
  {
   "cell_type": "markdown",
   "metadata": {},
   "source": [
    "**Frequency**"
   ]
  },
  {
   "cell_type": "markdown",
   "metadata": {},
   "source": [
    "Frequency describes the total number of transactions made by a client in the behaviour analysis period:"
   ]
  },
  {
   "cell_type": "code",
   "execution_count": 12,
   "metadata": {},
   "outputs": [
    {
     "data": {
      "text/plain": [
       "(16599, 2)"
      ]
     },
     "metadata": {},
     "output_type": "display_data"
    },
    {
     "data": {
      "text/plain": [
       "Index(['customer_id', 'frequency'], dtype='object')"
      ]
     },
     "metadata": {},
     "output_type": "display_data"
    },
    {
     "data": {
      "text/html": [
       "<div>\n",
       "<style scoped>\n",
       "    .dataframe tbody tr th:only-of-type {\n",
       "        vertical-align: middle;\n",
       "    }\n",
       "\n",
       "    .dataframe tbody tr th {\n",
       "        vertical-align: top;\n",
       "    }\n",
       "\n",
       "    .dataframe thead th {\n",
       "        text-align: right;\n",
       "    }\n",
       "</style>\n",
       "<table border=\"1\" class=\"dataframe\">\n",
       "  <thead>\n",
       "    <tr style=\"text-align: right;\">\n",
       "      <th></th>\n",
       "      <th>customer_id</th>\n",
       "      <th>frequency</th>\n",
       "    </tr>\n",
       "  </thead>\n",
       "  <tbody>\n",
       "    <tr>\n",
       "      <th>0</th>\n",
       "      <td>1385018720318</td>\n",
       "      <td>1</td>\n",
       "    </tr>\n",
       "    <tr>\n",
       "      <th>1</th>\n",
       "      <td>1388893896766</td>\n",
       "      <td>1</td>\n",
       "    </tr>\n",
       "    <tr>\n",
       "      <th>2</th>\n",
       "      <td>1388896190526</td>\n",
       "      <td>1</td>\n",
       "    </tr>\n",
       "    <tr>\n",
       "      <th>3</th>\n",
       "      <td>1388901335102</td>\n",
       "      <td>1</td>\n",
       "    </tr>\n",
       "    <tr>\n",
       "      <th>4</th>\n",
       "      <td>1388901859390</td>\n",
       "      <td>1</td>\n",
       "    </tr>\n",
       "  </tbody>\n",
       "</table>\n",
       "</div>"
      ],
      "text/plain": [
       "     customer_id  frequency\n",
       "0  1385018720318          1\n",
       "1  1388893896766          1\n",
       "2  1388896190526          1\n",
       "3  1388901335102          1\n",
       "4  1388901859390          1"
      ]
     },
     "metadata": {},
     "output_type": "display_data"
    }
   ],
   "source": [
    "frequency = (\n",
    "    customer_behaviour\n",
    "        ['order_id'].count()\n",
    "        .reset_index()\n",
    "        .rename(columns={'order_id': 'frequency'})\n",
    "        )\n",
    "df_utils.df_summarise(frequency)"
   ]
  },
  {
   "cell_type": "code",
   "execution_count": 13,
   "metadata": {},
   "outputs": [
    {
     "data": {
      "text/plain": [
       "count    16599.000000\n",
       "mean         1.141394\n",
       "std          0.467213\n",
       "min          1.000000\n",
       "25%          1.000000\n",
       "50%          1.000000\n",
       "75%          1.000000\n",
       "max         15.000000\n",
       "Name: frequency, dtype: float64"
      ]
     },
     "metadata": {},
     "output_type": "display_data"
    },
    {
     "data": {
      "image/png": "[encoded data removed]",
      "text/plain": [
       "<Figure size 432x288 with 1 Axes>"
      ]
     },
     "metadata": {
      "needs_background": "light"
     },
     "output_type": "display_data"
    }
   ],
   "source": [
    "df_utils.show_stats(frequency, 'frequency')"
   ]
  },
  {
   "cell_type": "markdown",
   "metadata": {},
   "source": [
    "This again highlights the fact most of the customers shop only once in the behaviour analysis period.\n",
    "\n",
    "The ranking steps are analogous to `recency` with the ony difference being a higher rank is assigned with higher `frequency`:"
   ]
  },
  {
   "cell_type": "code",
   "execution_count": 14,
   "metadata": {},
   "outputs": [
    {
     "name": "stderr",
     "output_type": "stream",
     "text": [
      "/mnt/d/coding/git/TomaszKaleczyc/customer_order_prediction/src/utilities/clustering_utils.py:31: ConvergenceWarning: Number of distinct clusters (9) found smaller than n_clusters (10). Possibly due to duplicate points in X.\n",
      "  kmeans = KMeans(n_clusters=n_clusters, max_iter=max_iter).fit(df)\n"
     ]
    },
    {
     "data": {
      "image/png": "[encoded data removed]",
      "text/plain": [
       "<Figure size 432x288 with 1 Axes>"
      ]
     },
     "metadata": {
      "needs_background": "light"
     },
     "output_type": "display_data"
    }
   ],
   "source": [
    "clustering_utils.plot_kmeans_elbow(frequency[['frequency']])"
   ]
  },
  {
   "cell_type": "code",
   "execution_count": 15,
   "metadata": {},
   "outputs": [
    {
     "data": {
      "text/html": [
       "<div>\n",
       "<style scoped>\n",
       "    .dataframe tbody tr th:only-of-type {\n",
       "        vertical-align: middle;\n",
       "    }\n",
       "\n",
       "    .dataframe tbody tr th {\n",
       "        vertical-align: top;\n",
       "    }\n",
       "\n",
       "    .dataframe thead th {\n",
       "        text-align: right;\n",
       "    }\n",
       "</style>\n",
       "<table border=\"1\" class=\"dataframe\">\n",
       "  <thead>\n",
       "    <tr style=\"text-align: right;\">\n",
       "      <th></th>\n",
       "      <th>count</th>\n",
       "      <th>mean</th>\n",
       "      <th>std</th>\n",
       "      <th>min</th>\n",
       "      <th>25%</th>\n",
       "      <th>50%</th>\n",
       "      <th>75%</th>\n",
       "      <th>max</th>\n",
       "    </tr>\n",
       "    <tr>\n",
       "      <th>frequency_score</th>\n",
       "      <th></th>\n",
       "      <th></th>\n",
       "      <th></th>\n",
       "      <th></th>\n",
       "      <th></th>\n",
       "      <th></th>\n",
       "      <th></th>\n",
       "      <th></th>\n",
       "    </tr>\n",
       "  </thead>\n",
       "  <tbody>\n",
       "    <tr>\n",
       "      <th>0</th>\n",
       "      <td>14765.0</td>\n",
       "      <td>1.000000</td>\n",
       "      <td>0.000000</td>\n",
       "      <td>1.0</td>\n",
       "      <td>1.0</td>\n",
       "      <td>1.0</td>\n",
       "      <td>1.0</td>\n",
       "      <td>1.0</td>\n",
       "    </tr>\n",
       "    <tr>\n",
       "      <th>1</th>\n",
       "      <td>1480.0</td>\n",
       "      <td>2.000000</td>\n",
       "      <td>0.000000</td>\n",
       "      <td>2.0</td>\n",
       "      <td>2.0</td>\n",
       "      <td>2.0</td>\n",
       "      <td>2.0</td>\n",
       "      <td>2.0</td>\n",
       "    </tr>\n",
       "    <tr>\n",
       "      <th>2</th>\n",
       "      <td>322.0</td>\n",
       "      <td>3.217391</td>\n",
       "      <td>0.413113</td>\n",
       "      <td>3.0</td>\n",
       "      <td>3.0</td>\n",
       "      <td>3.0</td>\n",
       "      <td>3.0</td>\n",
       "      <td>4.0</td>\n",
       "    </tr>\n",
       "    <tr>\n",
       "      <th>3</th>\n",
       "      <td>32.0</td>\n",
       "      <td>5.781250</td>\n",
       "      <td>1.844510</td>\n",
       "      <td>5.0</td>\n",
       "      <td>5.0</td>\n",
       "      <td>5.0</td>\n",
       "      <td>6.0</td>\n",
       "      <td>15.0</td>\n",
       "    </tr>\n",
       "  </tbody>\n",
       "</table>\n",
       "</div>"
      ],
      "text/plain": [
       "                   count      mean       std  min  25%  50%  75%   max\n",
       "frequency_score                                                       \n",
       "0                14765.0  1.000000  0.000000  1.0  1.0  1.0  1.0   1.0\n",
       "1                 1480.0  2.000000  0.000000  2.0  2.0  2.0  2.0   2.0\n",
       "2                  322.0  3.217391  0.413113  3.0  3.0  3.0  3.0   4.0\n",
       "3                   32.0  5.781250  1.844510  5.0  5.0  5.0  6.0  15.0"
      ]
     },
     "metadata": {},
     "output_type": "display_data"
    }
   ],
   "source": [
    "frequency_df = clustering_utils.ordered_clustering(\n",
    "    frequency,\n",
    "    n_clusters=4,\n",
    "    cluster_by_column_name='frequency', \n",
    "    ascending=True\n",
    "    )"
   ]
  },
  {
   "cell_type": "markdown",
   "metadata": {},
   "source": [
    "As expected, the vast majority of customers land in the lowest rank."
   ]
  },
  {
   "cell_type": "markdown",
   "metadata": {},
   "source": [
    "**Monetary**"
   ]
  },
  {
   "cell_type": "markdown",
   "metadata": {},
   "source": [
    "We will also calculate the total value of the client expressed as the sum of transation amounts in the analysed period:"
   ]
  },
  {
   "cell_type": "code",
   "execution_count": 16,
   "metadata": {},
   "outputs": [
    {
     "data": {
      "text/plain": [
       "(16599, 2)"
      ]
     },
     "metadata": {},
     "output_type": "display_data"
    },
    {
     "data": {
      "text/plain": [
       "Index(['customer_id', 'total_revenue'], dtype='object')"
      ]
     },
     "metadata": {},
     "output_type": "display_data"
    },
    {
     "data": {
      "text/html": [
       "<div>\n",
       "<style scoped>\n",
       "    .dataframe tbody tr th:only-of-type {\n",
       "        vertical-align: middle;\n",
       "    }\n",
       "\n",
       "    .dataframe tbody tr th {\n",
       "        vertical-align: top;\n",
       "    }\n",
       "\n",
       "    .dataframe thead th {\n",
       "        text-align: right;\n",
       "    }\n",
       "</style>\n",
       "<table border=\"1\" class=\"dataframe\">\n",
       "  <thead>\n",
       "    <tr style=\"text-align: right;\">\n",
       "      <th></th>\n",
       "      <th>customer_id</th>\n",
       "      <th>total_revenue</th>\n",
       "    </tr>\n",
       "  </thead>\n",
       "  <tbody>\n",
       "    <tr>\n",
       "      <th>0</th>\n",
       "      <td>1385018720318</td>\n",
       "      <td>0.0</td>\n",
       "    </tr>\n",
       "    <tr>\n",
       "      <th>1</th>\n",
       "      <td>1388893896766</td>\n",
       "      <td>158.0</td>\n",
       "    </tr>\n",
       "    <tr>\n",
       "      <th>2</th>\n",
       "      <td>1388896190526</td>\n",
       "      <td>208.0</td>\n",
       "    </tr>\n",
       "    <tr>\n",
       "      <th>3</th>\n",
       "      <td>1388901335102</td>\n",
       "      <td>54.2</td>\n",
       "    </tr>\n",
       "    <tr>\n",
       "      <th>4</th>\n",
       "      <td>1388901859390</td>\n",
       "      <td>178.0</td>\n",
       "    </tr>\n",
       "  </tbody>\n",
       "</table>\n",
       "</div>"
      ],
      "text/plain": [
       "     customer_id  total_revenue\n",
       "0  1385018720318            0.0\n",
       "1  1388893896766          158.0\n",
       "2  1388896190526          208.0\n",
       "3  1388901335102           54.2\n",
       "4  1388901859390          178.0"
      ]
     },
     "metadata": {},
     "output_type": "display_data"
    }
   ],
   "source": [
    "revenue = (customer_behaviour\n",
    "            ['total_price'].sum()\n",
    "            .reset_index()\n",
    "            .rename(columns={'total_price': 'total_revenue'})\n",
    "            )\n",
    "df_utils.df_summarise(revenue)"
   ]
  },
  {
   "cell_type": "code",
   "execution_count": 17,
   "metadata": {},
   "outputs": [
    {
     "data": {
      "text/plain": [
       "count    16599.000000\n",
       "mean       427.478473\n",
       "std        544.934803\n",
       "min          0.000000\n",
       "25%        180.200000\n",
       "50%        300.750000\n",
       "75%        488.000000\n",
       "max      31472.800000\n",
       "Name: total_revenue, dtype: float64"
      ]
     },
     "metadata": {},
     "output_type": "display_data"
    },
    {
     "data": {
      "image/png": "[encoded data removed]",
      "text/plain": [
       "<Figure size 432x288 with 1 Axes>"
      ]
     },
     "metadata": {
      "needs_background": "light"
     },
     "output_type": "display_data"
    }
   ],
   "source": [
    "df_utils.show_stats(revenue, 'total_revenue')"
   ]
  },
  {
   "cell_type": "markdown",
   "metadata": {},
   "source": [
    "With the exception of some outliers, the revenue amounts seem to be concentrated around 300 - consistent with our EDA findings. \n",
    "\n",
    "Time for ranking - again: the higher the `total_revenue`, the higher the ranking:"
   ]
  },
  {
   "cell_type": "code",
   "execution_count": 18,
   "metadata": {},
   "outputs": [
    {
     "data": {
      "image/png": "[encoded data removed]",
      "text/plain": [
       "<Figure size 432x288 with 1 Axes>"
      ]
     },
     "metadata": {
      "needs_background": "light"
     },
     "output_type": "display_data"
    }
   ],
   "source": [
    "clustering_utils.plot_kmeans_elbow(revenue[['total_revenue']])"
   ]
  },
  {
   "cell_type": "code",
   "execution_count": 19,
   "metadata": {},
   "outputs": [
    {
     "data": {
      "text/html": [
       "<div>\n",
       "<style scoped>\n",
       "    .dataframe tbody tr th:only-of-type {\n",
       "        vertical-align: middle;\n",
       "    }\n",
       "\n",
       "    .dataframe tbody tr th {\n",
       "        vertical-align: top;\n",
       "    }\n",
       "\n",
       "    .dataframe thead th {\n",
       "        text-align: right;\n",
       "    }\n",
       "</style>\n",
       "<table border=\"1\" class=\"dataframe\">\n",
       "  <thead>\n",
       "    <tr style=\"text-align: right;\">\n",
       "      <th></th>\n",
       "      <th>count</th>\n",
       "      <th>mean</th>\n",
       "      <th>std</th>\n",
       "      <th>min</th>\n",
       "      <th>25%</th>\n",
       "      <th>50%</th>\n",
       "      <th>75%</th>\n",
       "      <th>max</th>\n",
       "    </tr>\n",
       "    <tr>\n",
       "      <th>total_revenue_score</th>\n",
       "      <th></th>\n",
       "      <th></th>\n",
       "      <th></th>\n",
       "      <th></th>\n",
       "      <th></th>\n",
       "      <th></th>\n",
       "      <th></th>\n",
       "      <th></th>\n",
       "    </tr>\n",
       "  </thead>\n",
       "  <tbody>\n",
       "    <tr>\n",
       "      <th>0</th>\n",
       "      <td>13781.0</td>\n",
       "      <td>277.510895</td>\n",
       "      <td>137.435581</td>\n",
       "      <td>0.00</td>\n",
       "      <td>173.93</td>\n",
       "      <td>238.00</td>\n",
       "      <td>375.99</td>\n",
       "      <td>618.80</td>\n",
       "    </tr>\n",
       "    <tr>\n",
       "      <th>1</th>\n",
       "      <td>2529.0</td>\n",
       "      <td>959.680708</td>\n",
       "      <td>305.760805</td>\n",
       "      <td>618.92</td>\n",
       "      <td>717.60</td>\n",
       "      <td>879.53</td>\n",
       "      <td>1116.00</td>\n",
       "      <td>1856.25</td>\n",
       "    </tr>\n",
       "    <tr>\n",
       "      <th>2</th>\n",
       "      <td>287.0</td>\n",
       "      <td>2757.227282</td>\n",
       "      <td>1240.356260</td>\n",
       "      <td>1861.55</td>\n",
       "      <td>2090.75</td>\n",
       "      <td>2394.00</td>\n",
       "      <td>2921.87</td>\n",
       "      <td>13133.25</td>\n",
       "    </tr>\n",
       "    <tr>\n",
       "      <th>3</th>\n",
       "      <td>2.0</td>\n",
       "      <td>26490.400000</td>\n",
       "      <td>7046.177653</td>\n",
       "      <td>21508.00</td>\n",
       "      <td>23999.20</td>\n",
       "      <td>26490.40</td>\n",
       "      <td>28981.60</td>\n",
       "      <td>31472.80</td>\n",
       "    </tr>\n",
       "  </tbody>\n",
       "</table>\n",
       "</div>"
      ],
      "text/plain": [
       "                       count          mean          std       min       25%  \\\n",
       "total_revenue_score                                                           \n",
       "0                    13781.0    277.510895   137.435581      0.00    173.93   \n",
       "1                     2529.0    959.680708   305.760805    618.92    717.60   \n",
       "2                      287.0   2757.227282  1240.356260   1861.55   2090.75   \n",
       "3                        2.0  26490.400000  7046.177653  21508.00  23999.20   \n",
       "\n",
       "                          50%       75%       max  \n",
       "total_revenue_score                                \n",
       "0                      238.00    375.99    618.80  \n",
       "1                      879.53   1116.00   1856.25  \n",
       "2                     2394.00   2921.87  13133.25  \n",
       "3                    26490.40  28981.60  31472.80  "
      ]
     },
     "metadata": {},
     "output_type": "display_data"
    }
   ],
   "source": [
    "revenue_df = clustering_utils.ordered_clustering(\n",
    "    revenue,\n",
    "    n_clusters=4,\n",
    "    cluster_by_column_name='total_revenue', \n",
    "    ascending=True\n",
    "    )"
   ]
  },
  {
   "cell_type": "markdown",
   "metadata": {},
   "source": [
    "The final rank consists only of the two outliers - this could be something to potentially exclude from the dataset at some point. We'll keep them in for now as these will be grouped with the others in the RFM score and segmentation phases."
   ]
  },
  {
   "cell_type": "markdown",
   "metadata": {},
   "source": [
    "**RFM Score**"
   ]
  },
  {
   "cell_type": "markdown",
   "metadata": {},
   "source": [
    "Since we established an ordinal relationship in the previous scores, we will formulate the RFM Score simply as a sum of the previous scores:"
   ]
  },
  {
   "cell_type": "code",
   "execution_count": 20,
   "metadata": {},
   "outputs": [
    {
     "data": {
      "text/html": [
       "<div>\n",
       "<style scoped>\n",
       "    .dataframe tbody tr th:only-of-type {\n",
       "        vertical-align: middle;\n",
       "    }\n",
       "\n",
       "    .dataframe tbody tr th {\n",
       "        vertical-align: top;\n",
       "    }\n",
       "\n",
       "    .dataframe thead tr th {\n",
       "        text-align: left;\n",
       "    }\n",
       "\n",
       "    .dataframe thead tr:last-of-type th {\n",
       "        text-align: right;\n",
       "    }\n",
       "</style>\n",
       "<table border=\"1\" class=\"dataframe\">\n",
       "  <thead>\n",
       "    <tr>\n",
       "      <th></th>\n",
       "      <th colspan=\"2\" halign=\"left\">recency</th>\n",
       "      <th colspan=\"2\" halign=\"left\">frequency</th>\n",
       "      <th colspan=\"2\" halign=\"left\">total_revenue</th>\n",
       "    </tr>\n",
       "    <tr>\n",
       "      <th></th>\n",
       "      <th>mean</th>\n",
       "      <th>count</th>\n",
       "      <th>mean</th>\n",
       "      <th>count</th>\n",
       "      <th>mean</th>\n",
       "      <th>count</th>\n",
       "    </tr>\n",
       "    <tr>\n",
       "      <th>rfm_score</th>\n",
       "      <th></th>\n",
       "      <th></th>\n",
       "      <th></th>\n",
       "      <th></th>\n",
       "      <th></th>\n",
       "      <th></th>\n",
       "    </tr>\n",
       "  </thead>\n",
       "  <tbody>\n",
       "    <tr>\n",
       "      <th>0</th>\n",
       "      <td>223.164661</td>\n",
       "      <td>4239</td>\n",
       "      <td>1.000000</td>\n",
       "      <td>4239</td>\n",
       "      <td>283.135152</td>\n",
       "      <td>4239</td>\n",
       "    </tr>\n",
       "    <tr>\n",
       "      <th>1</th>\n",
       "      <td>177.474183</td>\n",
       "      <td>4222</td>\n",
       "      <td>1.038134</td>\n",
       "      <td>4222</td>\n",
       "      <td>372.407556</td>\n",
       "      <td>4222</td>\n",
       "    </tr>\n",
       "    <tr>\n",
       "      <th>2</th>\n",
       "      <td>115.616878</td>\n",
       "      <td>3863</td>\n",
       "      <td>1.103288</td>\n",
       "      <td>3863</td>\n",
       "      <td>404.912765</td>\n",
       "      <td>3863</td>\n",
       "    </tr>\n",
       "    <tr>\n",
       "      <th>3</th>\n",
       "      <td>54.374573</td>\n",
       "      <td>3217</td>\n",
       "      <td>1.165061</td>\n",
       "      <td>3217</td>\n",
       "      <td>433.890289</td>\n",
       "      <td>3217</td>\n",
       "    </tr>\n",
       "    <tr>\n",
       "      <th>4</th>\n",
       "      <td>71.241641</td>\n",
       "      <td>658</td>\n",
       "      <td>1.788754</td>\n",
       "      <td>658</td>\n",
       "      <td>1028.468116</td>\n",
       "      <td>658</td>\n",
       "    </tr>\n",
       "    <tr>\n",
       "      <th>5</th>\n",
       "      <td>64.938628</td>\n",
       "      <td>277</td>\n",
       "      <td>2.454874</td>\n",
       "      <td>277</td>\n",
       "      <td>1452.850939</td>\n",
       "      <td>277</td>\n",
       "    </tr>\n",
       "    <tr>\n",
       "      <th>6</th>\n",
       "      <td>45.954545</td>\n",
       "      <td>88</td>\n",
       "      <td>3.272727</td>\n",
       "      <td>88</td>\n",
       "      <td>1623.421250</td>\n",
       "      <td>88</td>\n",
       "    </tr>\n",
       "    <tr>\n",
       "      <th>7</th>\n",
       "      <td>43.321429</td>\n",
       "      <td>28</td>\n",
       "      <td>4.107143</td>\n",
       "      <td>28</td>\n",
       "      <td>2480.889286</td>\n",
       "      <td>28</td>\n",
       "    </tr>\n",
       "    <tr>\n",
       "      <th>8</th>\n",
       "      <td>40.600000</td>\n",
       "      <td>5</td>\n",
       "      <td>6.400000</td>\n",
       "      <td>5</td>\n",
       "      <td>3743.800000</td>\n",
       "      <td>5</td>\n",
       "    </tr>\n",
       "    <tr>\n",
       "      <th>9</th>\n",
       "      <td>18.000000</td>\n",
       "      <td>2</td>\n",
       "      <td>11.000000</td>\n",
       "      <td>2</td>\n",
       "      <td>26490.400000</td>\n",
       "      <td>2</td>\n",
       "    </tr>\n",
       "  </tbody>\n",
       "</table>\n",
       "</div>"
      ],
      "text/plain": [
       "              recency        frequency       total_revenue      \n",
       "                 mean count       mean count          mean count\n",
       "rfm_score                                                       \n",
       "0          223.164661  4239   1.000000  4239    283.135152  4239\n",
       "1          177.474183  4222   1.038134  4222    372.407556  4222\n",
       "2          115.616878  3863   1.103288  3863    404.912765  3863\n",
       "3           54.374573  3217   1.165061  3217    433.890289  3217\n",
       "4           71.241641   658   1.788754   658   1028.468116   658\n",
       "5           64.938628   277   2.454874   277   1452.850939   277\n",
       "6           45.954545    88   3.272727    88   1623.421250    88\n",
       "7           43.321429    28   4.107143    28   2480.889286    28\n",
       "8           40.600000     5   6.400000     5   3743.800000     5\n",
       "9           18.000000     2  11.000000     2  26490.400000     2"
      ]
     },
     "execution_count": 20,
     "metadata": {},
     "output_type": "execute_result"
    }
   ],
   "source": [
    "features = (\n",
    "    customers\n",
    "    .merge(recency_df, how='left', on='customer_id')\n",
    "    .merge(frequency_df, how='left', on='customer_id')\n",
    "    .merge(revenue_df, how='left', on='customer_id')\n",
    "    )\n",
    "features['rfm_score'] = features['recency_score'] + features['frequency_score'] + features['total_revenue_score']\n",
    "features.groupby('rfm_score').agg(['mean', 'count'])[['recency','frequency','total_revenue']]\n"
   ]
  },
  {
   "cell_type": "markdown",
   "metadata": {},
   "source": [
    "As described earlier, we can further group the clients based on the RFM Scores into three categories: low, mid and high performing. \n",
    "\n",
    "Since the sales frequency seems to be one of the bigger challenges ahead of us, it makes sense to separate the low frequency (~1 sale) customers from the high performing ones. Therefore for our final segmentation, we will group 0-3 as low, 4 as mid and 5-9 as high:"
   ]
  },
  {
   "cell_type": "code",
   "execution_count": 21,
   "metadata": {},
   "outputs": [
    {
     "data": {
      "text/html": [
       "<div>\n",
       "<style scoped>\n",
       "    .dataframe tbody tr th:only-of-type {\n",
       "        vertical-align: middle;\n",
       "    }\n",
       "\n",
       "    .dataframe tbody tr th {\n",
       "        vertical-align: top;\n",
       "    }\n",
       "\n",
       "    .dataframe thead tr th {\n",
       "        text-align: left;\n",
       "    }\n",
       "\n",
       "    .dataframe thead tr:last-of-type th {\n",
       "        text-align: right;\n",
       "    }\n",
       "</style>\n",
       "<table border=\"1\" class=\"dataframe\">\n",
       "  <thead>\n",
       "    <tr>\n",
       "      <th></th>\n",
       "      <th colspan=\"2\" halign=\"left\">recency</th>\n",
       "      <th colspan=\"2\" halign=\"left\">frequency</th>\n",
       "      <th colspan=\"2\" halign=\"left\">total_revenue</th>\n",
       "    </tr>\n",
       "    <tr>\n",
       "      <th></th>\n",
       "      <th>mean</th>\n",
       "      <th>count</th>\n",
       "      <th>mean</th>\n",
       "      <th>count</th>\n",
       "      <th>mean</th>\n",
       "      <th>count</th>\n",
       "    </tr>\n",
       "    <tr>\n",
       "      <th>rfm_segment</th>\n",
       "      <th></th>\n",
       "      <th></th>\n",
       "      <th></th>\n",
       "      <th></th>\n",
       "      <th></th>\n",
       "      <th></th>\n",
       "    </tr>\n",
       "  </thead>\n",
       "  <tbody>\n",
       "    <tr>\n",
       "      <th>high</th>\n",
       "      <td>58.710000</td>\n",
       "      <td>400</td>\n",
       "      <td>2.842500</td>\n",
       "      <td>400</td>\n",
       "      <td>1716.163700</td>\n",
       "      <td>400</td>\n",
       "    </tr>\n",
       "    <tr>\n",
       "      <th>low</th>\n",
       "      <td>149.079339</td>\n",
       "      <td>15541</td>\n",
       "      <td>1.070201</td>\n",
       "      <td>15541</td>\n",
       "      <td>368.864145</td>\n",
       "      <td>15541</td>\n",
       "    </tr>\n",
       "    <tr>\n",
       "      <th>mid</th>\n",
       "      <td>71.241641</td>\n",
       "      <td>658</td>\n",
       "      <td>1.788754</td>\n",
       "      <td>658</td>\n",
       "      <td>1028.468116</td>\n",
       "      <td>658</td>\n",
       "    </tr>\n",
       "  </tbody>\n",
       "</table>\n",
       "</div>"
      ],
      "text/plain": [
       "                recency        frequency        total_revenue       \n",
       "                   mean  count      mean  count          mean  count\n",
       "rfm_segment                                                         \n",
       "high          58.710000    400  2.842500    400   1716.163700    400\n",
       "low          149.079339  15541  1.070201  15541    368.864145  15541\n",
       "mid           71.241641    658  1.788754    658   1028.468116    658"
      ]
     },
     "execution_count": 21,
     "metadata": {},
     "output_type": "execute_result"
    }
   ],
   "source": [
    "get_rfm_segment = lambda rfm_score: 'high' if rfm_score >= 5 else 'mid' if rfm_score >= 4 else 'low'\n",
    "\n",
    "features['rfm_segment'] = features['rfm_score'].apply(get_rfm_segment)\n",
    "features.groupby('rfm_segment').agg(['mean', 'count'])[['recency','frequency','total_revenue']]"
   ]
  },
  {
   "cell_type": "markdown",
   "metadata": {},
   "source": [
    "We can analyse the segmentation with respect to how it separates the customer groups according the the RFM features:"
   ]
  },
  {
   "cell_type": "code",
   "execution_count": 22,
   "metadata": {},
   "outputs": [
    {
     "data": {
      "image/png": "[encoded data removed]",
      "text/plain": [
       "<Figure size 432x288 with 1 Axes>"
      ]
     },
     "metadata": {
      "needs_background": "light"
     },
     "output_type": "display_data"
    },
    {
     "data": {
      "image/png": "[encoded data removed]",
      "text/plain": [
       "<Figure size 432x288 with 1 Axes>"
      ]
     },
     "metadata": {
      "needs_background": "light"
     },
     "output_type": "display_data"
    },
    {
     "data": {
      "image/png": "[encoded data removed]",
      "text/plain": [
       "<Figure size 432x288 with 1 Axes>"
      ]
     },
     "metadata": {
      "needs_background": "light"
     },
     "output_type": "display_data"
    }
   ],
   "source": [
    "def scatterplot_segments(df: DataFrame, segment_column_name: str, feature_1: str, feature_2: str):\n",
    "    \"\"\"\n",
    "    Shows segmentation scatterplot\n",
    "    \"\"\"\n",
    "    segments = df[segment_column_name].unique()\n",
    "    plt.figure()\n",
    "    for segment in segments:\n",
    "        color = 'r' if segment == 'high' else 'y' if segment == 'mid' else 'b'\n",
    "        segment_df = df[df[segment_column_name] == segment]\n",
    "        plt.scatter(segment_df[feature_1], segment_df[feature_2], c=color, alpha=0.5, label=segment)\n",
    "    plt.xlabel(feature_1)\n",
    "    plt.ylabel(feature_2)\n",
    "    plt.legend()\n",
    "    plt.show()\n",
    "\n",
    "scatterplot_segments(features, 'rfm_segment', 'recency', 'frequency')\n",
    "scatterplot_segments(features, 'rfm_segment', 'recency', 'total_revenue')\n",
    "scatterplot_segments(features, 'rfm_segment', 'frequency', 'total_revenue')"
   ]
  },
  {
   "cell_type": "markdown",
   "metadata": {},
   "source": [
    "The segments appear to be reasonably well separated."
   ]
  },
  {
   "cell_type": "markdown",
   "metadata": {},
   "source": [
    "### Geographical features"
   ]
  },
  {
   "cell_type": "markdown",
   "metadata": {},
   "source": [
    "As described in the EDA part, we'll use the stem of the billing ZIP code as a feature in the model:"
   ]
  },
  {
   "cell_type": "code",
   "execution_count": 23,
   "metadata": {},
   "outputs": [
    {
     "data": {
      "text/plain": [
       "(16599, 12)"
      ]
     },
     "metadata": {},
     "output_type": "display_data"
    },
    {
     "data": {
      "text/plain": [
       "Index(['customer_id', 'makes_purchase', 'last_transaction_date', 'recency',\n",
       "       'recency_score', 'frequency', 'frequency_score', 'total_revenue',\n",
       "       'total_revenue_score', 'rfm_score', 'rfm_segment', 'billing_zip_stem'],\n",
       "      dtype='object')"
      ]
     },
     "metadata": {},
     "output_type": "display_data"
    },
    {
     "data": {
      "text/html": [
       "<div>\n",
       "<style scoped>\n",
       "    .dataframe tbody tr th:only-of-type {\n",
       "        vertical-align: middle;\n",
       "    }\n",
       "\n",
       "    .dataframe tbody tr th {\n",
       "        vertical-align: top;\n",
       "    }\n",
       "\n",
       "    .dataframe thead th {\n",
       "        text-align: right;\n",
       "    }\n",
       "</style>\n",
       "<table border=\"1\" class=\"dataframe\">\n",
       "  <thead>\n",
       "    <tr style=\"text-align: right;\">\n",
       "      <th></th>\n",
       "      <th>customer_id</th>\n",
       "      <th>makes_purchase</th>\n",
       "      <th>last_transaction_date</th>\n",
       "      <th>recency</th>\n",
       "      <th>recency_score</th>\n",
       "      <th>frequency</th>\n",
       "      <th>frequency_score</th>\n",
       "      <th>total_revenue</th>\n",
       "      <th>total_revenue_score</th>\n",
       "      <th>rfm_score</th>\n",
       "      <th>rfm_segment</th>\n",
       "      <th>billing_zip_stem</th>\n",
       "    </tr>\n",
       "  </thead>\n",
       "  <tbody>\n",
       "    <tr>\n",
       "      <th>0</th>\n",
       "      <td>3493717180478</td>\n",
       "      <td>0</td>\n",
       "      <td>2020-10-01 12:46:56</td>\n",
       "      <td>271</td>\n",
       "      <td>0</td>\n",
       "      <td>1</td>\n",
       "      <td>0</td>\n",
       "      <td>2445.00</td>\n",
       "      <td>2</td>\n",
       "      <td>2</td>\n",
       "      <td>low</td>\n",
       "      <td>87</td>\n",
       "    </tr>\n",
       "    <tr>\n",
       "      <th>1</th>\n",
       "      <td>3493777768510</td>\n",
       "      <td>0</td>\n",
       "      <td>2020-10-01 13:32:38</td>\n",
       "      <td>271</td>\n",
       "      <td>0</td>\n",
       "      <td>1</td>\n",
       "      <td>0</td>\n",
       "      <td>448.00</td>\n",
       "      <td>0</td>\n",
       "      <td>0</td>\n",
       "      <td>low</td>\n",
       "      <td>50</td>\n",
       "    </tr>\n",
       "    <tr>\n",
       "      <th>2</th>\n",
       "      <td>3490993078334</td>\n",
       "      <td>0</td>\n",
       "      <td>2020-10-01 13:38:06</td>\n",
       "      <td>271</td>\n",
       "      <td>0</td>\n",
       "      <td>1</td>\n",
       "      <td>0</td>\n",
       "      <td>2293.60</td>\n",
       "      <td>2</td>\n",
       "      <td>2</td>\n",
       "      <td>low</td>\n",
       "      <td>60</td>\n",
       "    </tr>\n",
       "    <tr>\n",
       "      <th>3</th>\n",
       "      <td>3433191145534</td>\n",
       "      <td>0</td>\n",
       "      <td>2020-10-01 14:28:48</td>\n",
       "      <td>271</td>\n",
       "      <td>0</td>\n",
       "      <td>1</td>\n",
       "      <td>0</td>\n",
       "      <td>438.95</td>\n",
       "      <td>0</td>\n",
       "      <td>0</td>\n",
       "      <td>low</td>\n",
       "      <td>28</td>\n",
       "    </tr>\n",
       "    <tr>\n",
       "      <th>4</th>\n",
       "      <td>3494350880830</td>\n",
       "      <td>0</td>\n",
       "      <td>2020-10-01 21:11:57</td>\n",
       "      <td>271</td>\n",
       "      <td>0</td>\n",
       "      <td>1</td>\n",
       "      <td>0</td>\n",
       "      <td>399.05</td>\n",
       "      <td>0</td>\n",
       "      <td>0</td>\n",
       "      <td>low</td>\n",
       "      <td>26</td>\n",
       "    </tr>\n",
       "  </tbody>\n",
       "</table>\n",
       "</div>"
      ],
      "text/plain": [
       "     customer_id  makes_purchase last_transaction_date  recency  \\\n",
       "0  3493717180478               0   2020-10-01 12:46:56      271   \n",
       "1  3493777768510               0   2020-10-01 13:32:38      271   \n",
       "2  3490993078334               0   2020-10-01 13:38:06      271   \n",
       "3  3433191145534               0   2020-10-01 14:28:48      271   \n",
       "4  3494350880830               0   2020-10-01 21:11:57      271   \n",
       "\n",
       "   recency_score  frequency  frequency_score  total_revenue  \\\n",
       "0              0          1                0        2445.00   \n",
       "1              0          1                0         448.00   \n",
       "2              0          1                0        2293.60   \n",
       "3              0          1                0         438.95   \n",
       "4              0          1                0         399.05   \n",
       "\n",
       "   total_revenue_score  rfm_score rfm_segment billing_zip_stem  \n",
       "0                    2          2         low               87  \n",
       "1                    0          0         low               50  \n",
       "2                    2          2         low               60  \n",
       "3                    0          0         low               28  \n",
       "4                    0          0         low               26  "
      ]
     },
     "metadata": {},
     "output_type": "display_data"
    }
   ],
   "source": [
    "zip_codes = behaviour_dataset[['customer_id', 'billing_zip']].drop_duplicates(subset='customer_id')\n",
    "zip_codes['billing_zip_stem'] = zip_codes['billing_zip'].apply(df_utils.get_zip_code_stem)\n",
    "\n",
    "features = features.merge(\n",
    "    zip_codes[['customer_id', 'billing_zip_stem']], \n",
    "    how='left', \n",
    "    on='customer_id'\n",
    "    )\n",
    "\n",
    "df_utils.df_summarise(features)"
   ]
  },
  {
   "cell_type": "markdown",
   "metadata": {},
   "source": [
    "### Segmentation"
   ]
  },
  {
   "cell_type": "markdown",
   "metadata": {},
   "source": [
    "Lastly, well add the original `segment` feature and see how it compares to the RFM segmentation we just prepared:"
   ]
  },
  {
   "cell_type": "code",
   "execution_count": 24,
   "metadata": {},
   "outputs": [
    {
     "data": {
      "text/html": [
       "<div>\n",
       "<style scoped>\n",
       "    .dataframe tbody tr th:only-of-type {\n",
       "        vertical-align: middle;\n",
       "    }\n",
       "\n",
       "    .dataframe tbody tr th {\n",
       "        vertical-align: top;\n",
       "    }\n",
       "\n",
       "    .dataframe thead th {\n",
       "        text-align: right;\n",
       "    }\n",
       "</style>\n",
       "<table border=\"1\" class=\"dataframe\">\n",
       "  <thead>\n",
       "    <tr style=\"text-align: right;\">\n",
       "      <th></th>\n",
       "      <th>rfm_score</th>\n",
       "      <th>segment</th>\n",
       "    </tr>\n",
       "  </thead>\n",
       "  <tbody>\n",
       "    <tr>\n",
       "      <th>rfm_score</th>\n",
       "      <td>1.000000</td>\n",
       "      <td>0.281274</td>\n",
       "    </tr>\n",
       "    <tr>\n",
       "      <th>segment</th>\n",
       "      <td>0.281274</td>\n",
       "      <td>1.000000</td>\n",
       "    </tr>\n",
       "  </tbody>\n",
       "</table>\n",
       "</div>"
      ],
      "text/plain": [
       "           rfm_score   segment\n",
       "rfm_score   1.000000  0.281274\n",
       "segment     0.281274  1.000000"
      ]
     },
     "execution_count": 24,
     "metadata": {},
     "output_type": "execute_result"
    }
   ],
   "source": [
    "features = features.merge(customer_behaviour['segment'].max(), how='left', on='customer_id')\n",
    "\n",
    "features[['rfm_score', 'segment']].corr()"
   ]
  },
  {
   "cell_type": "code",
   "execution_count": 25,
   "metadata": {},
   "outputs": [
    {
     "data": {
      "image/png": "[encoded data removed]",
      "text/plain": [
       "<Figure size 432x288 with 1 Axes>"
      ]
     },
     "metadata": {
      "needs_background": "light"
     },
     "output_type": "display_data"
    }
   ],
   "source": [
    "features[['rfm_score', 'segment']].plot.scatter(x='rfm_score', y='segment');"
   ]
  },
  {
   "cell_type": "markdown",
   "metadata": {},
   "source": [
    "There seems to be some rather minor correlation between the two segmentation scores - in particular visible for higher values of both scores.\n",
    "\n",
    "This concludes the feature engineering part of the analysis, the only thing left now is the save the refined dataset for modelling purposes:"
   ]
  },
  {
   "cell_type": "code",
   "execution_count": 26,
   "metadata": {},
   "outputs": [],
   "source": [
    "features.to_csv('../data/features.csv')"
   ]
  }
 ],
 "metadata": {
  "interpreter": {
   "hash": "4835e86702a3e79fcfc32bea8cbbbe234fde879c3d6ba7901d78455143f2ad51"
  },
  "kernelspec": {
   "display_name": "Python 3.6.9 ('cust_venv')",
   "language": "python",
   "name": "python3"
  },
  "language_info": {
   "codemirror_mode": {
    "name": "ipython",
    "version": 3
   },
   "file_extension": ".py",
   "mimetype": "text/x-python",
   "name": "python",
   "nbconvert_exporter": "python",
   "pygments_lexer": "ipython3",
   "version": "3.6.9"
  },
  "orig_nbformat": 4
 },
 "nbformat": 4,
 "nbformat_minor": 2
}
